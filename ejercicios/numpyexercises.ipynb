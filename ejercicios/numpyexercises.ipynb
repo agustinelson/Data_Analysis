{
 "cells": [
  {
   "cell_type": "code",
   "execution_count": 2,
   "id": "d08bf101",
   "metadata": {},
   "outputs": [],
   "source": [
    "import numpy as np"
   ]
  },
  {
   "cell_type": "code",
   "execution_count": 11,
   "id": "4de4cf53",
   "metadata": {},
   "outputs": [],
   "source": [
    "array = np.zeros((8,8))\n",
    "arraytranspose = np.zeros((8,8))"
   ]
  },
  {
   "cell_type": "code",
   "execution_count": 12,
   "id": "1a675cbb",
   "metadata": {},
   "outputs": [],
   "source": [
    "c = 1\n",
    "for i in range(len(array)):\n",
    "    for j in range(len(array)):\n",
    "        array[i,j]=c\n",
    "        arraytranspose[j, i]=c\n",
    "        c+=1    "
   ]
  },
  {
   "cell_type": "code",
   "execution_count": 13,
   "id": "b719ec9e",
   "metadata": {},
   "outputs": [
    {
     "data": {
      "text/plain": [
       "array([[ 1.,  9., 17., 25., 33., 41., 49., 57.],\n",
       "       [ 2., 10., 18., 26., 34., 42., 50., 58.],\n",
       "       [ 3., 11., 19., 27., 35., 43., 51., 59.],\n",
       "       [ 4., 12., 20., 28., 36., 44., 52., 60.],\n",
       "       [ 5., 13., 21., 29., 37., 45., 53., 61.],\n",
       "       [ 6., 14., 22., 30., 38., 46., 54., 62.],\n",
       "       [ 7., 15., 23., 31., 39., 47., 55., 63.],\n",
       "       [ 8., 16., 24., 32., 40., 48., 56., 64.]])"
      ]
     },
     "execution_count": 13,
     "metadata": {},
     "output_type": "execute_result"
    }
   ],
   "source": [
    "arraytranspose"
   ]
  },
  {
   "cell_type": "code",
   "execution_count": 14,
   "id": "d3b312ea",
   "metadata": {},
   "outputs": [
    {
     "data": {
      "text/plain": [
       "array([[ 1.,  2.,  3.,  4.,  5.,  6.,  7.,  8.],\n",
       "       [ 9., 10., 11., 12., 13., 14., 15., 16.],\n",
       "       [17., 18., 19., 20., 21., 22., 23., 24.],\n",
       "       [25., 26., 27., 28., 29., 30., 31., 32.],\n",
       "       [33., 34., 35., 36., 37., 38., 39., 40.],\n",
       "       [41., 42., 43., 44., 45., 46., 47., 48.],\n",
       "       [49., 50., 51., 52., 53., 54., 55., 56.],\n",
       "       [57., 58., 59., 60., 61., 62., 63., 64.]])"
      ]
     },
     "execution_count": 14,
     "metadata": {},
     "output_type": "execute_result"
    }
   ],
   "source": [
    "array"
   ]
  },
  {
   "cell_type": "code",
   "execution_count": 15,
   "id": "c4df03ad",
   "metadata": {},
   "outputs": [],
   "source": [
    "arraytranspose[((arraytranspose-3)%10==0) + (arraytranspose<40)* (arraytranspose>29)]=-99"
   ]
  },
  {
   "cell_type": "code",
   "execution_count": 16,
   "id": "b9349b34",
   "metadata": {},
   "outputs": [
    {
     "data": {
      "text/plain": [
       "array([[  1.,   9.,  17.,  25., -99.,  41.,  49.,  57.],\n",
       "       [  2.,  10.,  18.,  26., -99.,  42.,  50.,  58.],\n",
       "       [-99.,  11.,  19.,  27., -99., -99.,  51.,  59.],\n",
       "       [  4.,  12.,  20.,  28., -99.,  44.,  52.,  60.],\n",
       "       [  5., -99.,  21.,  29., -99.,  45., -99.,  61.],\n",
       "       [  6.,  14.,  22., -99., -99.,  46.,  54.,  62.],\n",
       "       [  7.,  15., -99., -99., -99.,  47.,  55., -99.],\n",
       "       [  8.,  16.,  24., -99.,  40.,  48.,  56.,  64.]])"
      ]
     },
     "execution_count": 16,
     "metadata": {},
     "output_type": "execute_result"
    }
   ],
   "source": [
    "arraytranspose"
   ]
  },
  {
   "cell_type": "code",
   "execution_count": 17,
   "id": "7e0b5eb6",
   "metadata": {},
   "outputs": [
    {
     "ename": "ValueError",
     "evalue": "operands could not be broadcast together with shapes (35,) (39,) ",
     "output_type": "error",
     "traceback": [
      "\u001b[0;31m---------------------------------------------------------------------------\u001b[0m",
      "\u001b[0;31mValueError\u001b[0m                                Traceback (most recent call last)",
      "Input \u001b[0;32mIn [17]\u001b[0m, in \u001b[0;36m<cell line: 1>\u001b[0;34m()\u001b[0m\n\u001b[0;32m----> 1\u001b[0m (array[\u001b[38;5;241m29\u001b[39m\u001b[38;5;241m<\u001b[39marray])\u001b[38;5;241m*\u001b[39m(array[array\u001b[38;5;241m<\u001b[39m\u001b[38;5;241m40\u001b[39m])\n",
      "\u001b[0;31mValueError\u001b[0m: operands could not be broadcast together with shapes (35,) (39,) "
     ]
    }
   ],
   "source": []
  },
  {
   "cell_type": "code",
   "execution_count": 57,
   "id": "33b07da8",
   "metadata": {},
   "outputs": [
    {
     "data": {
      "text/plain": [
       "array([[False, False, False, False, False, False, False, False],\n",
       "       [False, False, False, False, False, False, False, False],\n",
       "       [False, False, False, False, False, False, False, False],\n",
       "       [False, False, False, False, False,  True,  True,  True],\n",
       "       [ True,  True,  True,  True,  True,  True,  True, False],\n",
       "       [False, False, False, False, False, False, False, False],\n",
       "       [False, False, False, False, False, False, False, False],\n",
       "       [False, False, False, False, False, False, False, False]])"
      ]
     },
     "execution_count": 57,
     "metadata": {},
     "output_type": "execute_result"
    }
   ],
   "source": [
    "(array<40)* (array>29)"
   ]
  },
  {
   "cell_type": "code",
   "execution_count": 10,
   "id": "3da4c3f1",
   "metadata": {},
   "outputs": [],
   "source": [
    "array3 = np.arange(0.4, 0.80, 0.01).reshape((8,5))"
   ]
  },
  {
   "cell_type": "code",
   "execution_count": 30,
   "id": "9ba38c63",
   "metadata": {},
   "outputs": [
    {
     "data": {
      "text/plain": [
       "array([[  0.4 ,   0.45,   0.5 ,   0.55,   0.6 ,   0.65,   0.7 ,   0.75,\n",
       "          0.41,   0.46,   0.51,   0.56,   0.61],\n",
       "       [  0.66,   0.71,   0.76,   0.42,   0.47,   0.52,   0.57,   0.62,\n",
       "          0.67,   0.72,   0.77,   0.43,   0.48],\n",
       "       [  0.53,   0.58,   0.63,   0.68,   0.73,   0.78,   0.44,   0.49,\n",
       "          0.54,   0.59,   0.64,   0.69,   0.74],\n",
       "       [  0.79,   1.  ,   2.  , -99.  ,   4.  ,   5.  ,   6.  ,   7.  ,\n",
       "          8.  ,   9.  ,  10.  ,  11.  ,  12.  ],\n",
       "       [-99.  ,  14.  ,  15.  ,  16.  ,  17.  ,  18.  ,  19.  ,  20.  ,\n",
       "         21.  ,  22.  , -99.  ,  24.  ,  25.  ],\n",
       "       [ 26.  ,  27.  ,  28.  ,  29.  , -99.  , -99.  , -99.  , -99.  ,\n",
       "        -99.  , -99.  , -99.  , -99.  , -99.  ],\n",
       "       [-99.  ,  40.  ,  41.  ,  42.  , -99.  ,  44.  ,  45.  ,  46.  ,\n",
       "         47.  ,  48.  ,  49.  ,  50.  ,  51.  ],\n",
       "       [ 52.  , -99.  ,  54.  ,  55.  ,  56.  ,  57.  ,  58.  ,  59.  ,\n",
       "         60.  ,  61.  ,  62.  , -99.  ,  64.  ]])"
      ]
     },
     "execution_count": 30,
     "metadata": {},
     "output_type": "execute_result"
    }
   ],
   "source": [
    "arraytot = np.append([np.transpose(array3)], [arraytranspose.transpose()]).transpose().reshape((8,13))"
   ]
  },
  {
   "cell_type": "code",
   "execution_count": 51,
   "id": "5a605347",
   "metadata": {},
   "outputs": [],
   "source": [
    "arrayaverage = []\n",
    "arraymax = []\n",
    "for i in arraytot.transpose():\n",
    "    arrayaverage.append(i.sum()/len(i))\n",
    "    arraymax.append(i.max())\n",
    "\n",
    "data=np.append(np.append([arraytot],[arrayaverage]),[arraymax]).reshape((10,13))\n"
   ]
  },
  {
   "cell_type": "code",
   "execution_count": 52,
   "id": "9321a512",
   "metadata": {},
   "outputs": [],
   "source": [
    "np.savetxt('file.tsv', data, delimiter='\\t', fmt='%.3f')"
   ]
  }
 ],
 "metadata": {
  "kernelspec": {
   "display_name": "Python 3 (ipykernel)",
   "language": "python",
   "name": "python3"
  },
  "language_info": {
   "codemirror_mode": {
    "name": "ipython",
    "version": 3
   },
   "file_extension": ".py",
   "mimetype": "text/x-python",
   "name": "python",
   "nbconvert_exporter": "python",
   "pygments_lexer": "ipython3",
   "version": "3.10.9"
  }
 },
 "nbformat": 4,
 "nbformat_minor": 5
}
