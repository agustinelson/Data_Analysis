{
 "cells": [
  {
   "cell_type": "markdown",
   "id": "7fe1cc01",
   "metadata": {},
   "source": [
    "### Excercise 1, 2\n"
   ]
  },
  {
   "cell_type": "code",
   "execution_count": 1,
   "id": "7e0b5eb6",
   "metadata": {},
   "outputs": [],
   "source": [
    "import numpy as np"
   ]
  },
  {
   "cell_type": "code",
   "execution_count": 2,
   "id": "c8168c55",
   "metadata": {},
   "outputs": [
    {
     "name": "stdout",
     "output_type": "stream",
     "text": [
      "[[ 1  2  3  4  5  6  7  8]\n",
      " [ 9 10 11 12 13 14 15 16]\n",
      " [17 18 19 20 21 22 23 24]\n",
      " [25 26 27 28 29 30 31 32]\n",
      " [33 34 35 36 37 38 39 40]\n",
      " [41 42 43 44 45 46 47 48]\n",
      " [49 50 51 52 53 54 55 56]\n",
      " [57 58 59 60 61 62 63 64]]\n"
     ]
    }
   ],
   "source": [
    "array = np.arange(1,65).reshape((8,8))\n",
    "print(array)"
   ]
  },
  {
   "cell_type": "code",
   "execution_count": 3,
   "id": "7ab1fed6",
   "metadata": {},
   "outputs": [
    {
     "name": "stdout",
     "output_type": "stream",
     "text": [
      "[[ 1  9 17 25 33 41 49 57]\n",
      " [ 2 10 18 26 34 42 50 58]\n",
      " [ 3 11 19 27 35 43 51 59]\n",
      " [ 4 12 20 28 36 44 52 60]\n",
      " [ 5 13 21 29 37 45 53 61]\n",
      " [ 6 14 22 30 38 46 54 62]\n",
      " [ 7 15 23 31 39 47 55 63]\n",
      " [ 8 16 24 32 40 48 56 64]]\n"
     ]
    }
   ],
   "source": [
    "arraytranspose = array.transpose()\n",
    "print(arraytranspose)"
   ]
  },
  {
   "cell_type": "code",
   "execution_count": 4,
   "id": "33b07da8",
   "metadata": {},
   "outputs": [
    {
     "name": "stdout",
     "output_type": "stream",
     "text": [
      "[[  1   9  17  25 -99  41  49  57]\n",
      " [  2  10  18  26 -99  42  50  58]\n",
      " [-99  11  19  27 -99 -99  51  59]\n",
      " [  4  12  20  28 -99  44  52  60]\n",
      " [  5 -99  21  29 -99  45 -99  61]\n",
      " [  6  14  22 -99 -99  46  54  62]\n",
      " [  7  15 -99 -99 -99  47  55 -99]\n",
      " [  8  16  24 -99  40  48  56  64]]\n"
     ]
    }
   ],
   "source": [
    "arraytranspose[( (arraytranspose-3)%10 == 0 ) + (arraytranspose < 40) * (arraytranspose > 29)] = -99\n",
    "print(arraytranspose)"
   ]
  },
  {
   "cell_type": "markdown",
   "id": "d72814ab",
   "metadata": {},
   "source": [
    "### Exercise 3"
   ]
  },
  {
   "cell_type": "code",
   "execution_count": 5,
   "id": "d81c8e68",
   "metadata": {},
   "outputs": [
    {
     "name": "stdout",
     "output_type": "stream",
     "text": [
      "[[0.4  0.41 0.42 0.43 0.44]\n",
      " [0.45 0.46 0.47 0.48 0.49]\n",
      " [0.5  0.51 0.52 0.53 0.54]\n",
      " [0.55 0.56 0.57 0.58 0.59]\n",
      " [0.6  0.61 0.62 0.63 0.64]\n",
      " [0.65 0.66 0.67 0.68 0.69]\n",
      " [0.7  0.71 0.72 0.73 0.74]\n",
      " [0.75 0.76 0.77 0.78 0.79]]\n"
     ]
    }
   ],
   "source": [
    "array3 = np.arange(0.4, 0.80, 0.01).reshape((8,5))\n",
    "print(array3)"
   ]
  },
  {
   "cell_type": "code",
   "execution_count": 9,
   "id": "ba1d166e",
   "metadata": {},
   "outputs": [
    {
     "name": "stdout",
     "output_type": "stream",
     "text": [
      "[[  1.     9.    17.    25.   -99.    41.    49.    57.     0.4    0.41\n",
      "    0.42   0.43   0.44]\n",
      " [  2.    10.    18.    26.   -99.    42.    50.    58.     0.45   0.46\n",
      "    0.47   0.48   0.49]\n",
      " [-99.    11.    19.    27.   -99.   -99.    51.    59.     0.5    0.51\n",
      "    0.52   0.53   0.54]\n",
      " [  4.    12.    20.    28.   -99.    44.    52.    60.     0.55   0.56\n",
      "    0.57   0.58   0.59]\n",
      " [  5.   -99.    21.    29.   -99.    45.   -99.    61.     0.6    0.61\n",
      "    0.62   0.63   0.64]\n",
      " [  6.    14.    22.   -99.   -99.    46.    54.    62.     0.65   0.66\n",
      "    0.67   0.68   0.69]\n",
      " [  7.    15.   -99.   -99.   -99.    47.    55.   -99.     0.7    0.71\n",
      "    0.72   0.73   0.74]\n",
      " [  8.    16.    24.   -99.    40.    48.    56.    64.     0.75   0.76\n",
      "    0.77   0.78   0.79]]\n"
     ]
    }
   ],
   "source": [
    "arraytot = np.append(arraytranspose, array3, axis = 1)\n",
    "print(arraytot)"
   ]
  },
  {
   "cell_type": "code",
   "execution_count": 48,
   "id": "073b7b24",
   "metadata": {},
   "outputs": [
    {
     "name": "stdout",
     "output_type": "stream",
     "text": [
      "[-8.25, -1.5, 5.25, -20.25, -81.625, 26.75, 33.5, 40.25, 0.5750000000000002, 0.5850000000000002, 0.5950000000000002, 0.6050000000000002, 0.6150000000000002]\n"
     ]
    }
   ],
   "source": [
    "arrayaverage = []\n",
    "for i in arraytot.transpose():\n",
    "    arrayaverage.append(i.sum()/len(i))\n",
    "print(arrayaverage)"
   ]
  },
  {
   "cell_type": "code",
   "execution_count": 46,
   "id": "4f6e2314",
   "metadata": {},
   "outputs": [
    {
     "name": "stdout",
     "output_type": "stream",
     "text": [
      "[[  1.      9.     17.     25.    -99.     41.     49.     57.      0.4\n",
      "    0.41    0.42    0.43    0.44 ]\n",
      " [  2.     10.     18.     26.    -99.     42.     50.     58.      0.45\n",
      "    0.46    0.47    0.48    0.49 ]\n",
      " [-99.     11.     19.     27.    -99.    -99.     51.     59.      0.5\n",
      "    0.51    0.52    0.53    0.54 ]\n",
      " [  4.     12.     20.     28.    -99.     44.     52.     60.      0.55\n",
      "    0.56    0.57    0.58    0.59 ]\n",
      " [  5.    -99.     21.     29.    -99.     45.    -99.     61.      0.6\n",
      "    0.61    0.62    0.63    0.64 ]\n",
      " [  6.     14.     22.    -99.    -99.     46.     54.     62.      0.65\n",
      "    0.66    0.67    0.68    0.69 ]\n",
      " [  7.     15.    -99.    -99.    -99.     47.     55.    -99.      0.7\n",
      "    0.71    0.72    0.73    0.74 ]\n",
      " [  8.     16.     24.    -99.     40.     48.     56.     64.      0.75\n",
      "    0.76    0.77    0.78    0.79 ]\n",
      " [ -8.25   -1.5     5.25  -20.25  -81.625  26.75   33.5    40.25    0.575\n",
      "    0.585   0.595   0.605   0.615]]\n"
     ]
    }
   ],
   "source": [
    "data = np.concatenate([arraytot, [arrayaverage]],axis = 0)\n",
    "print(data)"
   ]
  },
  {
   "cell_type": "code",
   "execution_count": 49,
   "id": "656d7b9b",
   "metadata": {},
   "outputs": [
    {
     "name": "stdout",
     "output_type": "stream",
     "text": [
      "[57.0, 58.0, 59.0, 60.0, 61.0, 62.0, 55.0, 64.0, 40.25]\n"
     ]
    }
   ],
   "source": [
    "arraymax = []\n",
    "for i in data:\n",
    "    arraymax.append(i.max())\n",
    "print(arraymax)"
   ]
  },
  {
   "cell_type": "code",
   "execution_count": 50,
   "id": "200183af",
   "metadata": {},
   "outputs": [
    {
     "name": "stdout",
     "output_type": "stream",
     "text": [
      "[[  1.      9.     17.     25.    -99.     41.     49.     57.      0.4\n",
      "    0.41    0.42    0.43    0.44   57.   ]\n",
      " [  2.     10.     18.     26.    -99.     42.     50.     58.      0.45\n",
      "    0.46    0.47    0.48    0.49   58.   ]\n",
      " [-99.     11.     19.     27.    -99.    -99.     51.     59.      0.5\n",
      "    0.51    0.52    0.53    0.54   59.   ]\n",
      " [  4.     12.     20.     28.    -99.     44.     52.     60.      0.55\n",
      "    0.56    0.57    0.58    0.59   60.   ]\n",
      " [  5.    -99.     21.     29.    -99.     45.    -99.     61.      0.6\n",
      "    0.61    0.62    0.63    0.64   61.   ]\n",
      " [  6.     14.     22.    -99.    -99.     46.     54.     62.      0.65\n",
      "    0.66    0.67    0.68    0.69   62.   ]\n",
      " [  7.     15.    -99.    -99.    -99.     47.     55.    -99.      0.7\n",
      "    0.71    0.72    0.73    0.74   55.   ]\n",
      " [  8.     16.     24.    -99.     40.     48.     56.     64.      0.75\n",
      "    0.76    0.77    0.78    0.79   64.   ]\n",
      " [ -8.25   -1.5     5.25  -20.25  -81.625  26.75   33.5    40.25    0.575\n",
      "    0.585   0.595   0.605   0.615  40.25 ]]\n"
     ]
    }
   ],
   "source": [
    "data2 = np.append(data, np.array([arraymax]).transpose(), axis = 1)\n",
    "print(data2)"
   ]
  },
  {
   "cell_type": "code",
   "execution_count": 51,
   "id": "f4b46792",
   "metadata": {},
   "outputs": [],
   "source": [
    "np.savetxt('exercise3.tsv', data2, delimiter='\\t', fmt='%.3f')"
   ]
  }
 ],
 "metadata": {
  "kernelspec": {
   "display_name": "Python 3 (ipykernel)",
   "language": "python",
   "name": "python3"
  },
  "language_info": {
   "codemirror_mode": {
    "name": "ipython",
    "version": 3
   },
   "file_extension": ".py",
   "mimetype": "text/x-python",
   "name": "python",
   "nbconvert_exporter": "python",
   "pygments_lexer": "ipython3",
   "version": "3.10.9"
  }
 },
 "nbformat": 4,
 "nbformat_minor": 5
}
