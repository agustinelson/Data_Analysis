{
  "cells": [
    {
      "cell_type": "markdown",
      "id": "91fdc16f-d7e1-4776-9d29-733a69aa176c",
      "metadata": {
        "id": "91fdc16f-d7e1-4776-9d29-733a69aa176c"
      },
      "source": [
        "# Librería **Pandas** \n",
        "\n",
        "###  Librería de Python especializada en la manipulación y análisis de datos. Utiliza Numpy como base. \n",
        "\n",
        "### Incorpora las estructuras **DataFrame** y **Series**.\n",
        "\n",
        "Pandas permite la lectura y escritura de datos en varios formatos: csv, JSON, tablas SQL, y Excel. \n",
        "\n",
        "----------"
      ]
    },
    {
      "cell_type": "markdown",
      "id": "d59573e4-40e8-4baa-a3ea-fc3eb50f38f7",
      "metadata": {
        "id": "d59573e4-40e8-4baa-a3ea-fc3eb50f38f7"
      },
      "source": [
        "## **Series:** \n",
        "\n",
        "Estructura (objeto) de una sola variable con indexación integrada. \n",
        "\n",
        "Secuencia de una dimensión, similar a un array 1D. Cada elemento tiene un índice asociado.  \n"
      ]
    },
    {
      "cell_type": "code",
      "execution_count": 1,
      "id": "4e3611f3-881a-471f-9307-3fad9e5160b4",
      "metadata": {
        "id": "4e3611f3-881a-471f-9307-3fad9e5160b4"
      },
      "outputs": [],
      "source": [
        "import numpy as np\n",
        "import pandas as pd"
      ]
    },
    {
      "cell_type": "code",
      "execution_count": 2,
      "id": "0ffd6a67-a306-45b3-9ac5-736bd01c9a02",
      "metadata": {
        "id": "0ffd6a67-a306-45b3-9ac5-736bd01c9a02"
      },
      "outputs": [],
      "source": [
        "list_num = [1,2,3]\n",
        "array_num = np.array([10,20,30])\n",
        "letras = ['a','b','c']\n",
        "d = {'a':10,'b':20,'c':30}"
      ]
    },
    {
      "cell_type": "code",
      "execution_count": 3,
      "id": "5ced793f-7a62-4742-a3ff-8de2399db338",
      "metadata": {
        "id": "5ced793f-7a62-4742-a3ff-8de2399db338",
        "outputId": "5a822b05-d9ce-49f9-adbf-3b2864b21f9c",
        "colab": {
          "base_uri": "https://localhost:8080/"
        }
      },
      "outputs": [
        {
          "output_type": "execute_result",
          "data": {
            "text/plain": [
              "0    1\n",
              "1    2\n",
              "2    3\n",
              "dtype: int64"
            ]
          },
          "metadata": {},
          "execution_count": 3
        }
      ],
      "source": [
        "pd.Series(data=list_num)"
      ]
    },
    {
      "cell_type": "code",
      "execution_count": 4,
      "id": "baf8de91-42b9-4afc-889c-0589d894d5ee",
      "metadata": {
        "id": "baf8de91-42b9-4afc-889c-0589d894d5ee",
        "outputId": "d755b952-e32d-4b2b-a83d-af52ad804812",
        "colab": {
          "base_uri": "https://localhost:8080/"
        }
      },
      "outputs": [
        {
          "output_type": "execute_result",
          "data": {
            "text/plain": [
              "a    10.0\n",
              "b    20.0\n",
              "c    30.0\n",
              "dtype: float64"
            ]
          },
          "metadata": {},
          "execution_count": 4
        }
      ],
      "source": [
        "pd.Series(data=array_num, index=letras, dtype='float')"
      ]
    },
    {
      "cell_type": "code",
      "execution_count": 5,
      "id": "f7e0612c-a2e0-4d3e-a991-14be123c7e8e",
      "metadata": {
        "id": "f7e0612c-a2e0-4d3e-a991-14be123c7e8e",
        "outputId": "fc2d09d2-c300-435f-8d3f-d27ce758c65b",
        "colab": {
          "base_uri": "https://localhost:8080/"
        }
      },
      "outputs": [
        {
          "output_type": "execute_result",
          "data": {
            "text/plain": [
              "a    10\n",
              "b    20\n",
              "c    30\n",
              "dtype: int64"
            ]
          },
          "metadata": {},
          "execution_count": 5
        }
      ],
      "source": [
        "pd.Series(array_num,letras)"
      ]
    },
    {
      "cell_type": "code",
      "execution_count": 6,
      "id": "d634bc52-61c8-4351-8c33-b7f0dd5b1a3f",
      "metadata": {
        "id": "d634bc52-61c8-4351-8c33-b7f0dd5b1a3f",
        "outputId": "04f06aed-156a-4b48-d8cb-191152445b78",
        "colab": {
          "base_uri": "https://localhost:8080/"
        }
      },
      "outputs": [
        {
          "output_type": "execute_result",
          "data": {
            "text/plain": [
              "a    10\n",
              "b    20\n",
              "c    30\n",
              "dtype: int64"
            ]
          },
          "metadata": {},
          "execution_count": 6
        }
      ],
      "source": [
        "pd.Series(d)"
      ]
    },
    {
      "cell_type": "code",
      "execution_count": 7,
      "id": "4f74a1fb-95d1-4d40-adae-83331d45885d",
      "metadata": {
        "id": "4f74a1fb-95d1-4d40-adae-83331d45885d",
        "outputId": "e22c0167-15b7-4d89-e9c8-b989cfb81a12",
        "colab": {
          "base_uri": "https://localhost:8080/"
        }
      },
      "outputs": [
        {
          "output_type": "execute_result",
          "data": {
            "text/plain": [
              "0    a\n",
              "1    b\n",
              "2    c\n",
              "dtype: object"
            ]
          },
          "metadata": {},
          "execution_count": 7
        }
      ],
      "source": [
        "pd.Series(letras)"
      ]
    },
    {
      "cell_type": "markdown",
      "id": "40c3fc26-16d6-4104-97cc-a5708cda1e4c",
      "metadata": {
        "id": "40c3fc26-16d6-4104-97cc-a5708cda1e4c"
      },
      "source": [
        "### atributos"
      ]
    },
    {
      "cell_type": "code",
      "execution_count": 8,
      "id": "811259b7-7ac4-4644-ac64-17fe496b387a",
      "metadata": {
        "id": "811259b7-7ac4-4644-ac64-17fe496b387a"
      },
      "outputs": [],
      "source": [
        "s = pd.Series(data=array_num, index=letras, dtype='float')"
      ]
    },
    {
      "cell_type": "code",
      "execution_count": 9,
      "id": "7db580b2-9de4-4f1c-8674-07db75fc9741",
      "metadata": {
        "id": "7db580b2-9de4-4f1c-8674-07db75fc9741",
        "outputId": "c001c085-ec59-4a7c-8209-a180609eb8c4",
        "colab": {
          "base_uri": "https://localhost:8080/"
        }
      },
      "outputs": [
        {
          "output_type": "execute_result",
          "data": {
            "text/plain": [
              "3"
            ]
          },
          "metadata": {},
          "execution_count": 9
        }
      ],
      "source": [
        "s.size"
      ]
    },
    {
      "cell_type": "code",
      "execution_count": 10,
      "id": "d1e2c792-6e5c-4bb1-9a43-8f7f8d947755",
      "metadata": {
        "id": "d1e2c792-6e5c-4bb1-9a43-8f7f8d947755",
        "outputId": "6a4d4982-cddf-467d-9409-712a3ba3710e",
        "colab": {
          "base_uri": "https://localhost:8080/"
        }
      },
      "outputs": [
        {
          "output_type": "execute_result",
          "data": {
            "text/plain": [
              "Index(['a', 'b', 'c'], dtype='object')"
            ]
          },
          "metadata": {},
          "execution_count": 10
        }
      ],
      "source": [
        "s.index"
      ]
    },
    {
      "cell_type": "code",
      "execution_count": 11,
      "id": "967d47ef-0568-46d1-ab19-a1b090e7f6f7",
      "metadata": {
        "id": "967d47ef-0568-46d1-ab19-a1b090e7f6f7",
        "outputId": "37cbc05a-e27d-4f61-8560-fc76c2461bf9",
        "colab": {
          "base_uri": "https://localhost:8080/"
        }
      },
      "outputs": [
        {
          "output_type": "execute_result",
          "data": {
            "text/plain": [
              "dtype('float64')"
            ]
          },
          "metadata": {},
          "execution_count": 11
        }
      ],
      "source": [
        "s.dtype"
      ]
    },
    {
      "cell_type": "code",
      "execution_count": 12,
      "id": "08bec284-1661-4c66-8ef8-ec484fc1230d",
      "metadata": {
        "id": "08bec284-1661-4c66-8ef8-ec484fc1230d",
        "outputId": "0e1d239c-21f3-4280-d31f-81c162b8e35f",
        "colab": {
          "base_uri": "https://localhost:8080/"
        }
      },
      "outputs": [
        {
          "output_type": "execute_result",
          "data": {
            "text/plain": [
              "a    10.0\n",
              "b    30.0\n",
              "c    60.0\n",
              "dtype: float64"
            ]
          },
          "metadata": {},
          "execution_count": 12
        }
      ],
      "source": [
        "s.count()\n",
        "s.sum() \n",
        "s.cumsum()"
      ]
    },
    {
      "cell_type": "code",
      "execution_count": 13,
      "id": "db4ba1f5-dbdb-4970-8c87-99fe983d6f18",
      "metadata": {
        "id": "db4ba1f5-dbdb-4970-8c87-99fe983d6f18",
        "outputId": "b466adf6-a0ce-4265-d2aa-79f7b5dde84c",
        "colab": {
          "base_uri": "https://localhost:8080/"
        }
      },
      "outputs": [
        {
          "output_type": "execute_result",
          "data": {
            "text/plain": [
              "10.0    1\n",
              "20.0    1\n",
              "30.0    1\n",
              "dtype: int64"
            ]
          },
          "metadata": {},
          "execution_count": 13
        }
      ],
      "source": [
        "s.value_counts()"
      ]
    },
    {
      "cell_type": "code",
      "execution_count": 14,
      "id": "6f0154f0-ee49-490b-bd57-923906487e49",
      "metadata": {
        "id": "6f0154f0-ee49-490b-bd57-923906487e49",
        "outputId": "b424965c-7cc1-4e2f-e359-9a89c8f0f835",
        "colab": {
          "base_uri": "https://localhost:8080/"
        }
      },
      "outputs": [
        {
          "output_type": "execute_result",
          "data": {
            "text/plain": [
              "10.0    0.333333\n",
              "20.0    0.333333\n",
              "30.0    0.333333\n",
              "dtype: float64"
            ]
          },
          "metadata": {},
          "execution_count": 14
        }
      ],
      "source": [
        "s.value_counts(normalize=True)"
      ]
    },
    {
      "cell_type": "code",
      "execution_count": 15,
      "id": "61be467e-bf1d-4bc8-9084-85b0ae0fa66e",
      "metadata": {
        "id": "61be467e-bf1d-4bc8-9084-85b0ae0fa66e",
        "outputId": "1d16a52f-f890-44c0-80a4-794a0b5fb20b",
        "colab": {
          "base_uri": "https://localhost:8080/"
        }
      },
      "outputs": [
        {
          "output_type": "execute_result",
          "data": {
            "text/plain": [
              "count     3.0\n",
              "mean     20.0\n",
              "std      10.0\n",
              "min      10.0\n",
              "25%      15.0\n",
              "50%      20.0\n",
              "75%      25.0\n",
              "max      30.0\n",
              "dtype: float64"
            ]
          },
          "metadata": {},
          "execution_count": 15
        }
      ],
      "source": [
        "s.min()\n",
        "s.var() \n",
        "s.std() \n",
        "s.describe()"
      ]
    },
    {
      "cell_type": "code",
      "execution_count": 16,
      "id": "63ecb46a-021c-47ca-9899-851536b9c620",
      "metadata": {
        "id": "63ecb46a-021c-47ca-9899-851536b9c620",
        "outputId": "ab744906-87a2-4fe9-cbae-f4b782cd8155",
        "colab": {
          "base_uri": "https://localhost:8080/"
        }
      },
      "outputs": [
        {
          "output_type": "execute_result",
          "data": {
            "text/plain": [
              "c    30.0\n",
              "b    20.0\n",
              "a    10.0\n",
              "dtype: float64"
            ]
          },
          "metadata": {},
          "execution_count": 16
        }
      ],
      "source": [
        "s.sort_values(ascending=False)"
      ]
    },
    {
      "cell_type": "code",
      "execution_count": 17,
      "id": "bd4679b1-0fdf-4822-94e8-d7b0cce70748",
      "metadata": {
        "id": "bd4679b1-0fdf-4822-94e8-d7b0cce70748",
        "outputId": "da4780ca-3631-4844-f9b1-780f9d702803",
        "colab": {
          "base_uri": "https://localhost:8080/"
        }
      },
      "outputs": [
        {
          "output_type": "execute_result",
          "data": {
            "text/plain": [
              "c    30.0\n",
              "b    20.0\n",
              "a    10.0\n",
              "dtype: float64"
            ]
          },
          "metadata": {},
          "execution_count": 17
        }
      ],
      "source": [
        "s.sort_index(ascending=False)"
      ]
    },
    {
      "cell_type": "markdown",
      "id": "6075fc11-1b48-494b-8bb4-8e894850e5c7",
      "metadata": {
        "id": "6075fc11-1b48-494b-8bb4-8e894850e5c7"
      },
      "source": [
        "## Indices\n",
        "\n",
        "El índice de cada elemento puede ser cualquier etiqueta (numeros ordenados, desordenados, letras)."
      ]
    },
    {
      "cell_type": "code",
      "execution_count": 18,
      "id": "038a2178-cf52-4090-be99-25403e19ec37",
      "metadata": {
        "id": "038a2178-cf52-4090-be99-25403e19ec37"
      },
      "outputs": [],
      "source": [
        "s1 = pd.Series([1,2,3,4], index = ['rojo', 'azul','blanco', 'negro'])                                   "
      ]
    },
    {
      "cell_type": "code",
      "execution_count": null,
      "id": "eb9780ff-84f2-4258-82fd-4528d7b430b5",
      "metadata": {
        "id": "eb9780ff-84f2-4258-82fd-4528d7b430b5",
        "outputId": "e78935ac-7b6d-4bec-cf9a-3ef4f4c4f886"
      },
      "outputs": [
        {
          "data": {
            "text/plain": [
              "rojo      1\n",
              "azul      2\n",
              "blanco    3\n",
              "negro     4\n",
              "dtype: int64"
            ]
          },
          "execution_count": 19,
          "metadata": {},
          "output_type": "execute_result"
        }
      ],
      "source": [
        "s1"
      ]
    },
    {
      "cell_type": "code",
      "execution_count": 19,
      "id": "e821c2f8-de60-4951-81fc-76532b7eeac6",
      "metadata": {
        "tags": [],
        "id": "e821c2f8-de60-4951-81fc-76532b7eeac6"
      },
      "outputs": [],
      "source": [
        "s2 = pd.Series([5,3,2,1],index = [123, 'azul','GAMA', '18-12'])                                   "
      ]
    },
    {
      "cell_type": "code",
      "execution_count": null,
      "id": "65cfda57-8521-4b25-b340-bce56f535502",
      "metadata": {
        "id": "65cfda57-8521-4b25-b340-bce56f535502",
        "outputId": "006733df-16d5-43a9-edbf-209545636ad4"
      },
      "outputs": [
        {
          "data": {
            "text/plain": [
              "123      5\n",
              "azul     3\n",
              "GAMA     2\n",
              "18-12    1\n",
              "dtype: int64"
            ]
          },
          "execution_count": 21,
          "metadata": {},
          "output_type": "execute_result"
        }
      ],
      "source": [
        "s2"
      ]
    },
    {
      "cell_type": "code",
      "execution_count": 24,
      "id": "85191fd6-3923-4d86-955d-cdc69444ccb0",
      "metadata": {
        "id": "85191fd6-3923-4d86-955d-cdc69444ccb0",
        "outputId": "ccf29808-ac9a-42c0-b60f-e29ab310d925",
        "colab": {
          "base_uri": "https://localhost:8080/"
        }
      },
      "outputs": [
        {
          "output_type": "execute_result",
          "data": {
            "text/plain": [
              "1"
            ]
          },
          "metadata": {},
          "execution_count": 24
        }
      ],
      "source": [
        "s2[123]\n",
        "s2['18-12']"
      ]
    },
    {
      "cell_type": "code",
      "execution_count": 25,
      "id": "547fb228-70c5-4d06-a215-2f9086a8645f",
      "metadata": {
        "id": "547fb228-70c5-4d06-a215-2f9086a8645f",
        "outputId": "1925b921-43d4-42ea-bf79-807a99f71f3a",
        "colab": {
          "base_uri": "https://localhost:8080/"
        }
      },
      "outputs": [
        {
          "output_type": "execute_result",
          "data": {
            "text/plain": [
              "123     5\n",
              "GAMA    2\n",
              "dtype: int64"
            ]
          },
          "metadata": {},
          "execution_count": 25
        }
      ],
      "source": [
        "s2[[123, 'GAMA']]  "
      ]
    },
    {
      "cell_type": "code",
      "execution_count": 26,
      "id": "846b8197-7145-4bd8-ba21-1081c127ab93",
      "metadata": {
        "id": "846b8197-7145-4bd8-ba21-1081c127ab93"
      },
      "outputs": [],
      "source": [
        "#s2[0]"
      ]
    },
    {
      "cell_type": "code",
      "execution_count": 27,
      "id": "a15adeb3-1665-4c03-9b0b-2697a781e423",
      "metadata": {
        "id": "a15adeb3-1665-4c03-9b0b-2697a781e423",
        "outputId": "06d23291-1e4f-4322-c438-d8d677cacc47",
        "colab": {
          "base_uri": "https://localhost:8080/"
        }
      },
      "outputs": [
        {
          "output_type": "execute_result",
          "data": {
            "text/plain": [
              "5"
            ]
          },
          "metadata": {},
          "execution_count": 27
        }
      ],
      "source": [
        "s2.iloc[0] # extraccion del elemento por posición"
      ]
    },
    {
      "cell_type": "code",
      "execution_count": 28,
      "id": "cb41bb33-3996-4ca1-a43f-4e4665ae55ed",
      "metadata": {
        "id": "cb41bb33-3996-4ca1-a43f-4e4665ae55ed",
        "outputId": "707ecf32-2df7-42ae-92e4-dc66d1f1249d",
        "colab": {
          "base_uri": "https://localhost:8080/"
        }
      },
      "outputs": [
        {
          "output_type": "execute_result",
          "data": {
            "text/plain": [
              "azul    3\n",
              "GAMA    2\n",
              "dtype: int64"
            ]
          },
          "metadata": {},
          "execution_count": 28
        }
      ],
      "source": [
        "s2.iloc[1:3]"
      ]
    },
    {
      "cell_type": "markdown",
      "id": "8e8c627f-ef2a-48ed-bb40-c18cdabf1e3c",
      "metadata": {
        "id": "8e8c627f-ef2a-48ed-bb40-c18cdabf1e3c"
      },
      "source": [
        "### Operaciones"
      ]
    },
    {
      "cell_type": "code",
      "execution_count": 34,
      "id": "a0652ac0-1a44-41f0-aa06-ebdaf1e531b7",
      "metadata": {
        "id": "a0652ac0-1a44-41f0-aa06-ebdaf1e531b7",
        "outputId": "5f016315-8830-4359-bb87-12da385ac192",
        "colab": {
          "base_uri": "https://localhost:8080/"
        }
      },
      "outputs": [
        {
          "output_type": "execute_result",
          "data": {
            "text/plain": [
              "rojo      1\n",
              "azul      2\n",
              "blanco    3\n",
              "negro     4\n",
              "dtype: int64"
            ]
          },
          "metadata": {},
          "execution_count": 34
        }
      ],
      "source": [
        "s1"
      ]
    },
    {
      "cell_type": "code",
      "execution_count": 35,
      "id": "d84f4f2e-601e-4044-ad03-cd7ecce0bf11",
      "metadata": {
        "id": "d84f4f2e-601e-4044-ad03-cd7ecce0bf11",
        "outputId": "1830db23-1652-43f0-f806-785289ab515e",
        "colab": {
          "base_uri": "https://localhost:8080/"
        }
      },
      "outputs": [
        {
          "output_type": "execute_result",
          "data": {
            "text/plain": [
              "rojo      2\n",
              "azul      4\n",
              "blanco    6\n",
              "negro     8\n",
              "dtype: int64"
            ]
          },
          "metadata": {},
          "execution_count": 35
        }
      ],
      "source": [
        "s1*2"
      ]
    },
    {
      "cell_type": "code",
      "execution_count": 36,
      "id": "56cf7677-0189-4553-943a-5febc806a131",
      "metadata": {
        "id": "56cf7677-0189-4553-943a-5febc806a131",
        "outputId": "c60d58ce-fc55-426b-c94b-3b2d406d2755",
        "colab": {
          "base_uri": "https://localhost:8080/"
        }
      },
      "outputs": [
        {
          "output_type": "execute_result",
          "data": {
            "text/plain": [
              "rojo      -4\n",
              "azul      -1\n",
              "blanco     4\n",
              "negro     11\n",
              "dtype: int64"
            ]
          },
          "metadata": {},
          "execution_count": 36
        }
      ],
      "source": [
        "s1**2 -5"
      ]
    },
    {
      "cell_type": "code",
      "execution_count": 37,
      "id": "9608a6c2-390d-4a3b-89ce-456e3e882085",
      "metadata": {
        "id": "9608a6c2-390d-4a3b-89ce-456e3e882085",
        "outputId": "c5fde257-04c8-47a1-8d37-11e03080b5db",
        "colab": {
          "base_uri": "https://localhost:8080/"
        }
      },
      "outputs": [
        {
          "output_type": "execute_result",
          "data": {
            "text/plain": [
              "rojo       2.718282\n",
              "azul       7.389056\n",
              "blanco    20.085537\n",
              "negro     54.598150\n",
              "dtype: float64"
            ]
          },
          "metadata": {},
          "execution_count": 37
        }
      ],
      "source": [
        "np.exp(s1)"
      ]
    },
    {
      "cell_type": "code",
      "execution_count": 38,
      "id": "b975e1ac-2b36-4a77-9663-3f8a21d5c4b5",
      "metadata": {
        "id": "b975e1ac-2b36-4a77-9663-3f8a21d5c4b5",
        "outputId": "070ee83b-a4ce-41b2-8426-63cdfb6397fa",
        "colab": {
          "base_uri": "https://localhost:8080/"
        }
      },
      "outputs": [
        {
          "output_type": "execute_result",
          "data": {
            "text/plain": [
              "rojo      0.000000\n",
              "azul      0.301030\n",
              "blanco    0.477121\n",
              "negro     0.602060\n",
              "dtype: float64"
            ]
          },
          "metadata": {},
          "execution_count": 38
        }
      ],
      "source": [
        "np.log10(s1)"
      ]
    },
    {
      "cell_type": "markdown",
      "id": "068f9aed-d511-49ac-aca4-2020318935f7",
      "metadata": {
        "id": "068f9aed-d511-49ac-aca4-2020318935f7"
      },
      "source": [
        "### Operaciones entre series\n",
        "\n",
        "Se aplica la operación a los elementos con el mismo índice. Si alguna de las series no cuenta con uno de los índices, no puede realizar la operación y regresa NaN. "
      ]
    },
    {
      "cell_type": "code",
      "execution_count": 39,
      "id": "99315883-880a-407b-94ab-acbfa55097f8",
      "metadata": {
        "id": "99315883-880a-407b-94ab-acbfa55097f8",
        "outputId": "87e4f53c-71f9-4315-fbe0-20a729de4f6d",
        "colab": {
          "base_uri": "https://localhost:8080/"
        }
      },
      "outputs": [
        {
          "output_type": "execute_result",
          "data": {
            "text/plain": [
              "123       NaN\n",
              "18-12     NaN\n",
              "GAMA      NaN\n",
              "azul      5.0\n",
              "blanco    NaN\n",
              "negro     NaN\n",
              "rojo      NaN\n",
              "dtype: float64"
            ]
          },
          "metadata": {},
          "execution_count": 39
        }
      ],
      "source": [
        "s3 = s1 + s2\n",
        "s3"
      ]
    },
    {
      "cell_type": "code",
      "execution_count": 40,
      "id": "c8d4b58a-884c-4516-90ea-eb410fa4847e",
      "metadata": {
        "id": "c8d4b58a-884c-4516-90ea-eb410fa4847e",
        "outputId": "4e7bd4f7-ff22-4079-9b75-85f8408cfd64",
        "colab": {
          "base_uri": "https://localhost:8080/"
        }
      },
      "outputs": [
        {
          "output_type": "execute_result",
          "data": {
            "text/plain": [
              "azul    5.0\n",
              "dtype: float64"
            ]
          },
          "metadata": {},
          "execution_count": 40
        }
      ],
      "source": [
        "s3.dropna() "
      ]
    },
    {
      "cell_type": "code",
      "execution_count": 41,
      "id": "f1effbc3-46c7-4d90-a291-b6c04abe3df5",
      "metadata": {
        "id": "f1effbc3-46c7-4d90-a291-b6c04abe3df5",
        "outputId": "268f0001-1dec-48eb-d80d-4c4b6ebfba95",
        "colab": {
          "base_uri": "https://localhost:8080/"
        }
      },
      "outputs": [
        {
          "output_type": "execute_result",
          "data": {
            "text/plain": [
              "a    NaN\n",
              "b    5.0\n",
              "c    9.0\n",
              "d    NaN\n",
              "dtype: float64"
            ]
          },
          "metadata": {},
          "execution_count": 41
        }
      ],
      "source": [
        "A = pd.Series([2, 4, 6], index=['a', 'b', 'c'])\n",
        "B = pd.Series([1, 3, 5], index=['b', 'c', 'd'])\n",
        "A + B"
      ]
    },
    {
      "cell_type": "code",
      "execution_count": 42,
      "id": "ea554d8d-d5db-492b-b9d9-3a6c9e3a59a1",
      "metadata": {
        "id": "ea554d8d-d5db-492b-b9d9-3a6c9e3a59a1",
        "outputId": "6b905b2d-50ce-4181-915e-a415e19f6f46",
        "colab": {
          "base_uri": "https://localhost:8080/"
        }
      },
      "outputs": [
        {
          "output_type": "execute_result",
          "data": {
            "text/plain": [
              "a    2.0\n",
              "b    5.0\n",
              "c    9.0\n",
              "d    5.0\n",
              "dtype: float64"
            ]
          },
          "metadata": {},
          "execution_count": 42
        }
      ],
      "source": [
        "A.add(B, fill_value=0)"
      ]
    },
    {
      "cell_type": "code",
      "execution_count": 43,
      "id": "303bead7-cc57-48dd-b543-97b7a7ae5b08",
      "metadata": {
        "id": "303bead7-cc57-48dd-b543-97b7a7ae5b08",
        "outputId": "8cbb4e7e-709e-40a2-a6c8-6890cddc183b",
        "colab": {
          "base_uri": "https://localhost:8080/"
        }
      },
      "outputs": [
        {
          "output_type": "execute_result",
          "data": {
            "text/plain": [
              "a   -8.0\n",
              "b    3.0\n",
              "c    3.0\n",
              "d    5.0\n",
              "dtype: float64"
            ]
          },
          "metadata": {},
          "execution_count": 43
        }
      ],
      "source": [
        "A.subtract(B, fill_value=10)"
      ]
    },
    {
      "cell_type": "code",
      "execution_count": 44,
      "id": "a89d56a4-3312-4dba-87ed-e1574fc7dd28",
      "metadata": {
        "id": "a89d56a4-3312-4dba-87ed-e1574fc7dd28",
        "outputId": "8dd370a9-040e-46df-8b49-978159bfd9bc",
        "colab": {
          "base_uri": "https://localhost:8080/"
        }
      },
      "outputs": [
        {
          "output_type": "execute_result",
          "data": {
            "text/plain": [
              "a     2.0\n",
              "b     4.0\n",
              "c    18.0\n",
              "d     5.0\n",
              "dtype: float64"
            ]
          },
          "metadata": {},
          "execution_count": 44
        }
      ],
      "source": [
        "A.divide(B, fill_value=1)\n",
        "A.multiply(B, fill_value=1)"
      ]
    },
    {
      "cell_type": "code",
      "execution_count": null,
      "id": "5ed539a5-1f19-46ef-8991-2700248733b1",
      "metadata": {
        "id": "5ed539a5-1f19-46ef-8991-2700248733b1"
      },
      "outputs": [],
      "source": []
    },
    {
      "cell_type": "markdown",
      "id": "708eefb1-9cd3-4f06-841e-2b938f3d61cc",
      "metadata": {
        "id": "708eefb1-9cd3-4f06-841e-2b938f3d61cc"
      },
      "source": [
        "-------\n",
        "## Ejercicio 1\n",
        "\n",
        "i. Crear la serie A serie con: \n",
        " - índices: letras del abecedario ordenadas (investigar función que genere la lista)  \n",
        " - valores: números enteros comenzando en 10, odenados de forma creciente y paso de 1 \n",
        " \n",
        "ii. Crear la serie B serie con: \n",
        " - índices: números enteros comenzando en 10, odenados de forma creciente y paso de 1  \n",
        " - valores: letras del abecedario con orden inverso (z, y, x, w ...)\n",
        "\n",
        "iii. Seleccionar de cada una de las series los elementos con índice o valor entre d:i\n",
        "\n",
        "-------"
      ]
    },
    {
      "cell_type": "code",
      "execution_count": 46,
      "id": "010f247f-f965-4eed-85b6-4327ad0e0e1b",
      "metadata": {
        "id": "010f247f-f965-4eed-85b6-4327ad0e0e1b"
      },
      "outputs": [],
      "source": [
        "import string"
      ]
    },
    {
      "cell_type": "code",
      "source": [
        "alphabet = list(string.ascii_lowercase)\n",
        "numbers = [i for i in range(10, 10+len(alphabet))]"
      ],
      "metadata": {
        "id": "mF-iTwpu_eoU"
      },
      "id": "mF-iTwpu_eoU",
      "execution_count": 54,
      "outputs": []
    },
    {
      "cell_type": "code",
      "source": [
        "alphabet"
      ],
      "metadata": {
        "id": "kRVFDEdf_n1q",
        "outputId": "d2646f22-f019-45f8-b47c-b206be9153f1",
        "colab": {
          "base_uri": "https://localhost:8080/"
        }
      },
      "id": "kRVFDEdf_n1q",
      "execution_count": 55,
      "outputs": [
        {
          "output_type": "execute_result",
          "data": {
            "text/plain": [
              "['a',\n",
              " 'b',\n",
              " 'c',\n",
              " 'd',\n",
              " 'e',\n",
              " 'f',\n",
              " 'g',\n",
              " 'h',\n",
              " 'i',\n",
              " 'j',\n",
              " 'k',\n",
              " 'l',\n",
              " 'm',\n",
              " 'n',\n",
              " 'o',\n",
              " 'p',\n",
              " 'q',\n",
              " 'r',\n",
              " 's',\n",
              " 't',\n",
              " 'u',\n",
              " 'v',\n",
              " 'w',\n",
              " 'x',\n",
              " 'y',\n",
              " 'z']"
            ]
          },
          "metadata": {},
          "execution_count": 55
        }
      ]
    },
    {
      "cell_type": "code",
      "source": [
        "numbers"
      ],
      "metadata": {
        "id": "qt4-lo-Z_vK-",
        "outputId": "810f99e8-5c29-47ee-88bf-bd4cbe4b0422",
        "colab": {
          "base_uri": "https://localhost:8080/"
        }
      },
      "id": "qt4-lo-Z_vK-",
      "execution_count": 57,
      "outputs": [
        {
          "output_type": "execute_result",
          "data": {
            "text/plain": [
              "[10,\n",
              " 11,\n",
              " 12,\n",
              " 13,\n",
              " 14,\n",
              " 15,\n",
              " 16,\n",
              " 17,\n",
              " 18,\n",
              " 19,\n",
              " 20,\n",
              " 21,\n",
              " 22,\n",
              " 23,\n",
              " 24,\n",
              " 25,\n",
              " 26,\n",
              " 27,\n",
              " 28,\n",
              " 29,\n",
              " 30,\n",
              " 31,\n",
              " 32,\n",
              " 33,\n",
              " 34,\n",
              " 35]"
            ]
          },
          "metadata": {},
          "execution_count": 57
        }
      ]
    },
    {
      "cell_type": "code",
      "source": [
        "A = pd.Series(numbers, index=alphabet)\n",
        "A"
      ],
      "metadata": {
        "id": "604XLp4JAIBE",
        "outputId": "a8db9698-632e-4d2a-c895-fa6abaca77b0",
        "colab": {
          "base_uri": "https://localhost:8080/"
        }
      },
      "id": "604XLp4JAIBE",
      "execution_count": 61,
      "outputs": [
        {
          "output_type": "execute_result",
          "data": {
            "text/plain": [
              "a    10\n",
              "b    11\n",
              "c    12\n",
              "d    13\n",
              "e    14\n",
              "f    15\n",
              "g    16\n",
              "h    17\n",
              "i    18\n",
              "j    19\n",
              "k    20\n",
              "l    21\n",
              "m    22\n",
              "n    23\n",
              "o    24\n",
              "p    25\n",
              "q    26\n",
              "r    27\n",
              "s    28\n",
              "t    29\n",
              "u    30\n",
              "v    31\n",
              "w    32\n",
              "x    33\n",
              "y    34\n",
              "z    35\n",
              "dtype: int64"
            ]
          },
          "metadata": {},
          "execution_count": 61
        }
      ]
    },
    {
      "cell_type": "code",
      "source": [
        "B = pd.Series(sorted(alphabet, reverse = True), index = numbers)"
      ],
      "metadata": {
        "id": "Ds-vgNOsAcCt"
      },
      "id": "Ds-vgNOsAcCt",
      "execution_count": 69,
      "outputs": []
    },
    {
      "cell_type": "code",
      "source": [
        "alphabet_reverse = sorted(alphabet, reverse = True)"
      ],
      "metadata": {
        "id": "Pd33CSFNDR2s"
      },
      "id": "Pd33CSFNDR2s",
      "execution_count": 80,
      "outputs": []
    },
    {
      "cell_type": "code",
      "source": [
        "B"
      ],
      "metadata": {
        "id": "e98i-5RYA3wm",
        "outputId": "e5288ae2-0ae1-4b72-bdef-a403e8e5497c",
        "colab": {
          "base_uri": "https://localhost:8080/"
        }
      },
      "id": "e98i-5RYA3wm",
      "execution_count": 70,
      "outputs": [
        {
          "output_type": "execute_result",
          "data": {
            "text/plain": [
              "10    z\n",
              "11    y\n",
              "12    x\n",
              "13    w\n",
              "14    v\n",
              "15    u\n",
              "16    t\n",
              "17    s\n",
              "18    r\n",
              "19    q\n",
              "20    p\n",
              "21    o\n",
              "22    n\n",
              "23    m\n",
              "24    l\n",
              "25    k\n",
              "26    j\n",
              "27    i\n",
              "28    h\n",
              "29    g\n",
              "30    f\n",
              "31    e\n",
              "32    d\n",
              "33    c\n",
              "34    b\n",
              "35    a\n",
              "dtype: object"
            ]
          },
          "metadata": {},
          "execution_count": 70
        }
      ]
    },
    {
      "cell_type": "code",
      "source": [
        "d = alphabet.index('d')\n",
        "i = alphabet.index('i') + 1"
      ],
      "metadata": {
        "id": "22-MdO6RCGnh"
      },
      "id": "22-MdO6RCGnh",
      "execution_count": 86,
      "outputs": []
    },
    {
      "cell_type": "code",
      "source": [
        "A[alphabet[d:i]]"
      ],
      "metadata": {
        "id": "H5mZdrjyCXGi",
        "outputId": "3b6675e8-133d-4ea9-8a5f-74032e74df56",
        "colab": {
          "base_uri": "https://localhost:8080/"
        }
      },
      "id": "H5mZdrjyCXGi",
      "execution_count": 87,
      "outputs": [
        {
          "output_type": "execute_result",
          "data": {
            "text/plain": [
              "d    13\n",
              "e    14\n",
              "f    15\n",
              "g    16\n",
              "h    17\n",
              "i    18\n",
              "dtype: int64"
            ]
          },
          "metadata": {},
          "execution_count": 87
        }
      ]
    },
    {
      "cell_type": "code",
      "source": [],
      "metadata": {
        "id": "P3GoxK7eD_Rr"
      },
      "id": "P3GoxK7eD_Rr",
      "execution_count": null,
      "outputs": []
    },
    {
      "cell_type": "code",
      "source": [
        "d = alphabet_reverse.index('d') + 1\n",
        "i = alphabet_reverse.index('i')"
      ],
      "metadata": {
        "id": "XdGluce3DI7z"
      },
      "id": "XdGluce3DI7z",
      "execution_count": 88,
      "outputs": []
    },
    {
      "cell_type": "code",
      "source": [],
      "metadata": {
        "id": "EYsYVxzZDJFT"
      },
      "id": "EYsYVxzZDJFT",
      "execution_count": null,
      "outputs": []
    },
    {
      "cell_type": "code",
      "source": [
        "B[i:d]"
      ],
      "metadata": {
        "id": "LzuuMn1rC7i9",
        "outputId": "fc6133b0-861a-4932-c0de-bcf5343dbbd6",
        "colab": {
          "base_uri": "https://localhost:8080/"
        }
      },
      "id": "LzuuMn1rC7i9",
      "execution_count": 97,
      "outputs": [
        {
          "output_type": "execute_result",
          "data": {
            "text/plain": [
              "27    i\n",
              "28    h\n",
              "29    g\n",
              "30    f\n",
              "31    e\n",
              "32    d\n",
              "dtype: object"
            ]
          },
          "metadata": {},
          "execution_count": 97
        }
      ]
    },
    {
      "cell_type": "code",
      "source": [
        "ipd = B.values"
      ],
      "metadata": {
        "id": "S65BqYo_EY6y"
      },
      "id": "S65BqYo_EY6y",
      "execution_count": 111,
      "outputs": []
    },
    {
      "cell_type": "code",
      "source": [
        "A['d':'i'] "
      ],
      "metadata": {
        "id": "ziuE-Ju8HWqf",
        "outputId": "ba86b9f6-3e23-41a0-c789-858f4a97fe50",
        "colab": {
          "base_uri": "https://localhost:8080/"
        }
      },
      "id": "ziuE-Ju8HWqf",
      "execution_count": 119,
      "outputs": [
        {
          "output_type": "execute_result",
          "data": {
            "text/plain": [
              "d    13\n",
              "e    14\n",
              "f    15\n",
              "g    16\n",
              "h    17\n",
              "i    18\n",
              "dtype: int64"
            ]
          },
          "metadata": {},
          "execution_count": 119
        }
      ]
    },
    {
      "cell_type": "code",
      "source": [
        "for "
      ],
      "metadata": {
        "id": "Z73_Dx8uHjHL",
        "outputId": "024676ff-2829-4cd3-b3b8-06c3e67f073c",
        "colab": {
          "base_uri": "https://localhost:8080/",
          "height": 134
        }
      },
      "id": "Z73_Dx8uHjHL",
      "execution_count": 121,
      "outputs": [
        {
          "output_type": "error",
          "ename": "SyntaxError",
          "evalue": "ignored",
          "traceback": [
            "\u001b[0;36m  File \u001b[0;32m\"<ipython-input-121-11b3199412fe>\"\u001b[0;36m, line \u001b[0;32m1\u001b[0m\n\u001b[0;31m    sol =\u001b[0m\n\u001b[0m         ^\u001b[0m\n\u001b[0;31mSyntaxError\u001b[0m\u001b[0;31m:\u001b[0m invalid syntax\n"
          ]
        }
      ]
    },
    {
      "cell_type": "code",
      "source": [],
      "metadata": {
        "id": "fSmEneC4Iv3q",
        "outputId": "2d59f80b-4c86-442d-8ec0-df2bf0171aa2",
        "colab": {
          "base_uri": "https://localhost:8080/",
          "height": 169
        }
      },
      "id": "fSmEneC4Iv3q",
      "execution_count": 124,
      "outputs": [
        {
          "output_type": "error",
          "ename": "TypeError",
          "evalue": "ignored",
          "traceback": [
            "\u001b[0;31m---------------------------------------------------------------------------\u001b[0m",
            "\u001b[0;31mTypeError\u001b[0m                                 Traceback (most recent call last)",
            "\u001b[0;32m<ipython-input-124-68978429bdd3>\u001b[0m in \u001b[0;36m<module>\u001b[0;34m\u001b[0m\n\u001b[0;32m----> 1\u001b[0;31m \u001b[0malphabet\u001b[0m\u001b[0;34m[\u001b[0m\u001b[0;34m'd'\u001b[0m\u001b[0;34m:\u001b[0m\u001b[0;34m'i'\u001b[0m\u001b[0;34m]\u001b[0m\u001b[0;34m\u001b[0m\u001b[0;34m\u001b[0m\u001b[0m\n\u001b[0m",
            "\u001b[0;31mTypeError\u001b[0m: slice indices must be integers or None or have an __index__ method"
          ]
        }
      ]
    }
  ],
  "metadata": {
    "kernelspec": {
      "display_name": "Python 3",
      "language": "python",
      "name": "python3"
    },
    "language_info": {
      "codemirror_mode": {
        "name": "ipython",
        "version": 3
      },
      "file_extension": ".py",
      "mimetype": "text/x-python",
      "name": "python",
      "nbconvert_exporter": "python",
      "pygments_lexer": "ipython3",
      "version": "3.8.13"
    },
    "colab": {
      "provenance": []
    }
  },
  "nbformat": 4,
  "nbformat_minor": 5
}