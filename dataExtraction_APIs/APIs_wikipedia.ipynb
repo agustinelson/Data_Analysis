{
  "cells": [
    {
      "cell_type": "markdown",
      "id": "c8740324-40c0-4204-a77e-94c41a40e696",
      "metadata": {
        "id": "c8740324-40c0-4204-a77e-94c41a40e696"
      },
      "source": [
        "## Extracción de datos de Wikipedia a través de una API\n",
        "\n",
        "\n",
        "\n",
        "#### [documentacion](https://www.mediawiki.org/wiki/API:Main_page) - _[This page is intended for technical contributors and software developers...]_ \n",
        "\n",
        "----"
      ]
    },
    {
      "cell_type": "code",
      "execution_count": 1,
      "id": "f0df53f2-1583-467f-bada-085aeea2b487",
      "metadata": {
        "id": "f0df53f2-1583-467f-bada-085aeea2b487"
      },
      "outputs": [],
      "source": [
        "import requests\n",
        "import pandas as pd"
      ]
    },
    {
      "cell_type": "markdown",
      "id": "332c7018-d8a7-4d77-9d01-d5d0fd09c3fc",
      "metadata": {
        "id": "332c7018-d8a7-4d77-9d01-d5d0fd09c3fc"
      },
      "source": [
        "### Búsqueda por título"
      ]
    },
    {
      "cell_type": "code",
      "execution_count": 2,
      "id": "28b2e539-7f9b-48cf-a251-79ce30e6a77b",
      "metadata": {
        "id": "28b2e539-7f9b-48cf-a251-79ce30e6a77b",
        "outputId": "30863638-4dfa-4b02-e30c-07af2aaad18d",
        "colab": {
          "base_uri": "https://localhost:8080/"
        }
      },
      "outputs": [
        {
          "output_type": "execute_result",
          "data": {
            "text/plain": [
              "200"
            ]
          },
          "metadata": {},
          "execution_count": 2
        }
      ],
      "source": [
        "url = 'https://en.wikipedia.org/w/api.php?action=query&format=json&titles=Xoloitzcuintle&prop=extracts'\n",
        "\n",
        "request_wiki = requests.get(url)\n",
        "\n",
        "request_wiki.status_code"
      ]
    },
    {
      "cell_type": "code",
      "execution_count": 3,
      "id": "6f351cfa-9833-49aa-8ad0-592d1a5de7bf",
      "metadata": {
        "id": "6f351cfa-9833-49aa-8ad0-592d1a5de7bf",
        "outputId": "2fcff61a-4c55-4e82-a9a6-b08a6a78a35f",
        "colab": {
          "base_uri": "https://localhost:8080/"
        }
      },
      "outputs": [
        {
          "output_type": "execute_result",
          "data": {
            "text/plain": [
              "dict_keys(['batchcomplete', 'warnings', 'query'])"
            ]
          },
          "metadata": {},
          "execution_count": 3
        }
      ],
      "source": [
        "request_wiki.json().keys()"
      ]
    },
    {
      "cell_type": "code",
      "execution_count": 4,
      "id": "5b81977e-5517-46fa-809b-ef4cf2ea7932",
      "metadata": {
        "id": "5b81977e-5517-46fa-809b-ef4cf2ea7932"
      },
      "outputs": [],
      "source": [
        "#request_wiki.json()['query']"
      ]
    },
    {
      "cell_type": "code",
      "execution_count": 5,
      "id": "6ef70309-f1ca-4f69-95f7-e1d121e1c13e",
      "metadata": {
        "id": "6ef70309-f1ca-4f69-95f7-e1d121e1c13e",
        "outputId": "eb134a34-064f-47e8-8623-6e4981682580",
        "colab": {
          "base_uri": "https://localhost:8080/"
        }
      },
      "outputs": [
        {
          "output_type": "execute_result",
          "data": {
            "text/plain": [
              "dict_keys(['pages'])"
            ]
          },
          "metadata": {},
          "execution_count": 5
        }
      ],
      "source": [
        "request_wiki.json()['query'].keys()"
      ]
    },
    {
      "cell_type": "code",
      "execution_count": 6,
      "id": "16ef63eb-83ae-42ee-a27f-f6aa8dd62f79",
      "metadata": {
        "id": "16ef63eb-83ae-42ee-a27f-f6aa8dd62f79",
        "outputId": "19860c64-f4fd-4a16-8d7d-10c71f325f69",
        "colab": {
          "base_uri": "https://localhost:8080/"
        }
      },
      "outputs": [
        {
          "output_type": "execute_result",
          "data": {
            "text/plain": [
              "dict_keys(['243549'])"
            ]
          },
          "metadata": {},
          "execution_count": 6
        }
      ],
      "source": [
        "request_wiki.json()['query']['pages'].keys()"
      ]
    },
    {
      "cell_type": "code",
      "execution_count": 7,
      "id": "45b3c367-8023-4288-ae9d-5cc564287c7e",
      "metadata": {
        "id": "45b3c367-8023-4288-ae9d-5cc564287c7e",
        "outputId": "16cc80b1-97de-492b-ee4e-61b57a8de2c2",
        "colab": {
          "base_uri": "https://localhost:8080/"
        }
      },
      "outputs": [
        {
          "output_type": "execute_result",
          "data": {
            "text/plain": [
              "dict_keys(['pageid', 'ns', 'title', 'extract'])"
            ]
          },
          "metadata": {},
          "execution_count": 7
        }
      ],
      "source": [
        "request_wiki.json()['query']['pages']['243549'].keys()"
      ]
    },
    {
      "cell_type": "code",
      "execution_count": 8,
      "id": "0b99614c-7c00-4c16-b157-bb0c46848c3c",
      "metadata": {
        "id": "0b99614c-7c00-4c16-b157-bb0c46848c3c"
      },
      "outputs": [],
      "source": [
        "#request_wiki.json()['query']['pages']['243549']"
      ]
    },
    {
      "cell_type": "code",
      "execution_count": 9,
      "id": "0eb91ca6-ecba-40ab-a4b7-8b3951ec6d50",
      "metadata": {
        "id": "0eb91ca6-ecba-40ab-a4b7-8b3951ec6d50"
      },
      "outputs": [],
      "source": [
        "df = pd.json_normalize(request_wiki.json()['query'])"
      ]
    },
    {
      "cell_type": "code",
      "execution_count": 10,
      "id": "93d8dd24-108f-4260-89d4-bb76b39ec237",
      "metadata": {
        "id": "93d8dd24-108f-4260-89d4-bb76b39ec237"
      },
      "outputs": [],
      "source": [
        "df = pd.json_normalize(request_wiki.json()['query']['pages'])"
      ]
    },
    {
      "cell_type": "code",
      "execution_count": 11,
      "id": "ad4a8ee0-6aa2-4272-8e68-d2b10134617f",
      "metadata": {
        "id": "ad4a8ee0-6aa2-4272-8e68-d2b10134617f",
        "outputId": "083b96c2-a924-4785-eb18-d73f3f3b410c",
        "colab": {
          "base_uri": "https://localhost:8080/",
          "height": 81
        }
      },
      "outputs": [
        {
          "output_type": "execute_result",
          "data": {
            "text/plain": [
              "   pageid  ns           title  \\\n",
              "0  243549   0  Xoloitzcuintle   \n",
              "\n",
              "                                             extract  \n",
              "0  <p>The <b>Xoloitzcuintle</b> (or <b>Xoloitzqui...  "
            ],
            "text/html": [
              "\n",
              "  <div id=\"df-0981882a-0119-44ad-a7f0-34dad3442b1c\">\n",
              "    <div class=\"colab-df-container\">\n",
              "      <div>\n",
              "<style scoped>\n",
              "    .dataframe tbody tr th:only-of-type {\n",
              "        vertical-align: middle;\n",
              "    }\n",
              "\n",
              "    .dataframe tbody tr th {\n",
              "        vertical-align: top;\n",
              "    }\n",
              "\n",
              "    .dataframe thead th {\n",
              "        text-align: right;\n",
              "    }\n",
              "</style>\n",
              "<table border=\"1\" class=\"dataframe\">\n",
              "  <thead>\n",
              "    <tr style=\"text-align: right;\">\n",
              "      <th></th>\n",
              "      <th>pageid</th>\n",
              "      <th>ns</th>\n",
              "      <th>title</th>\n",
              "      <th>extract</th>\n",
              "    </tr>\n",
              "  </thead>\n",
              "  <tbody>\n",
              "    <tr>\n",
              "      <th>0</th>\n",
              "      <td>243549</td>\n",
              "      <td>0</td>\n",
              "      <td>Xoloitzcuintle</td>\n",
              "      <td>&lt;p&gt;The &lt;b&gt;Xoloitzcuintle&lt;/b&gt; (or &lt;b&gt;Xoloitzqui...</td>\n",
              "    </tr>\n",
              "  </tbody>\n",
              "</table>\n",
              "</div>\n",
              "      <button class=\"colab-df-convert\" onclick=\"convertToInteractive('df-0981882a-0119-44ad-a7f0-34dad3442b1c')\"\n",
              "              title=\"Convert this dataframe to an interactive table.\"\n",
              "              style=\"display:none;\">\n",
              "        \n",
              "  <svg xmlns=\"http://www.w3.org/2000/svg\" height=\"24px\"viewBox=\"0 0 24 24\"\n",
              "       width=\"24px\">\n",
              "    <path d=\"M0 0h24v24H0V0z\" fill=\"none\"/>\n",
              "    <path d=\"M18.56 5.44l.94 2.06.94-2.06 2.06-.94-2.06-.94-.94-2.06-.94 2.06-2.06.94zm-11 1L8.5 8.5l.94-2.06 2.06-.94-2.06-.94L8.5 2.5l-.94 2.06-2.06.94zm10 10l.94 2.06.94-2.06 2.06-.94-2.06-.94-.94-2.06-.94 2.06-2.06.94z\"/><path d=\"M17.41 7.96l-1.37-1.37c-.4-.4-.92-.59-1.43-.59-.52 0-1.04.2-1.43.59L10.3 9.45l-7.72 7.72c-.78.78-.78 2.05 0 2.83L4 21.41c.39.39.9.59 1.41.59.51 0 1.02-.2 1.41-.59l7.78-7.78 2.81-2.81c.8-.78.8-2.07 0-2.86zM5.41 20L4 18.59l7.72-7.72 1.47 1.35L5.41 20z\"/>\n",
              "  </svg>\n",
              "      </button>\n",
              "      \n",
              "  <style>\n",
              "    .colab-df-container {\n",
              "      display:flex;\n",
              "      flex-wrap:wrap;\n",
              "      gap: 12px;\n",
              "    }\n",
              "\n",
              "    .colab-df-convert {\n",
              "      background-color: #E8F0FE;\n",
              "      border: none;\n",
              "      border-radius: 50%;\n",
              "      cursor: pointer;\n",
              "      display: none;\n",
              "      fill: #1967D2;\n",
              "      height: 32px;\n",
              "      padding: 0 0 0 0;\n",
              "      width: 32px;\n",
              "    }\n",
              "\n",
              "    .colab-df-convert:hover {\n",
              "      background-color: #E2EBFA;\n",
              "      box-shadow: 0px 1px 2px rgba(60, 64, 67, 0.3), 0px 1px 3px 1px rgba(60, 64, 67, 0.15);\n",
              "      fill: #174EA6;\n",
              "    }\n",
              "\n",
              "    [theme=dark] .colab-df-convert {\n",
              "      background-color: #3B4455;\n",
              "      fill: #D2E3FC;\n",
              "    }\n",
              "\n",
              "    [theme=dark] .colab-df-convert:hover {\n",
              "      background-color: #434B5C;\n",
              "      box-shadow: 0px 1px 3px 1px rgba(0, 0, 0, 0.15);\n",
              "      filter: drop-shadow(0px 1px 2px rgba(0, 0, 0, 0.3));\n",
              "      fill: #FFFFFF;\n",
              "    }\n",
              "  </style>\n",
              "\n",
              "      <script>\n",
              "        const buttonEl =\n",
              "          document.querySelector('#df-0981882a-0119-44ad-a7f0-34dad3442b1c button.colab-df-convert');\n",
              "        buttonEl.style.display =\n",
              "          google.colab.kernel.accessAllowed ? 'block' : 'none';\n",
              "\n",
              "        async function convertToInteractive(key) {\n",
              "          const element = document.querySelector('#df-0981882a-0119-44ad-a7f0-34dad3442b1c');\n",
              "          const dataTable =\n",
              "            await google.colab.kernel.invokeFunction('convertToInteractive',\n",
              "                                                     [key], {});\n",
              "          if (!dataTable) return;\n",
              "\n",
              "          const docLinkHtml = 'Like what you see? Visit the ' +\n",
              "            '<a target=\"_blank\" href=https://colab.research.google.com/notebooks/data_table.ipynb>data table notebook</a>'\n",
              "            + ' to learn more about interactive tables.';\n",
              "          element.innerHTML = '';\n",
              "          dataTable['output_type'] = 'display_data';\n",
              "          await google.colab.output.renderOutput(dataTable, element);\n",
              "          const docLink = document.createElement('div');\n",
              "          docLink.innerHTML = docLinkHtml;\n",
              "          element.appendChild(docLink);\n",
              "        }\n",
              "      </script>\n",
              "    </div>\n",
              "  </div>\n",
              "  "
            ]
          },
          "metadata": {},
          "execution_count": 11
        }
      ],
      "source": [
        "df = pd.json_normalize(request_wiki.json()['query']['pages']['243549'])\n",
        "df"
      ]
    },
    {
      "cell_type": "code",
      "execution_count": 12,
      "id": "70987945-ccac-4c81-b22d-58f65bd2f37f",
      "metadata": {
        "id": "70987945-ccac-4c81-b22d-58f65bd2f37f",
        "outputId": "43f4a306-ee96-48c4-f920-0ab9240f7760",
        "colab": {
          "base_uri": "https://localhost:8080/",
          "height": 105
        }
      },
      "outputs": [
        {
          "output_type": "execute_result",
          "data": {
            "text/plain": [
              "'<p>The <b>Xoloitzcuintle</b> (or <b>Xoloitzquintle</b>, <b>Xoloitzcuintli</b>, or <b>Xolo</b>) is one of several breeds of hairless dog. It is found in standard, intermediate, and miniature sizes. The Xolo also comes in a coated variety, totally covered in fur. Coated and hairless can be born in the same litter as a result of the same combination of genes. The hairless variant is known as the <b>Perro pelón mexicano</b> or <b>Mexican hairless dog</b>. It is characterized by its duality, wrinkles, and dental abnormalities, along with a primitive temper. In Nahuatl, from which its name originates, it is <i>xōlōitzcuintli</i> <small></small><span title=\"Representation in the International Phonetic Alphabet (IPA)\" lang=\"nah-Latn-fonipa\">[ʃoːloːit͡sˈkʷint͡ɬi]</span> (singular) and <i>xōlōitzcuintin</i> <small></small><span title=\"Representation in the International Phonetic Alphabet (IPA)\" lang=\"nah-Latn-fonipa\">[ʃoːloːit͡sˈkʷintin]</span> (plural). The name comes from the god <i>Xolotl</i> that, according to ancient narratives, is its creator and <i>itzcuīntli</i> <small></small><span title=\"Representation in the International Phonetic Alphabet (IPA)\" lang=\"nah-Latn-fonipa\">[it͡sˈkʷiːnt͡ɬi]</span>, meaning \\'dog\\' in the Nahuatl language.</p>\\n\\n\\n<h2><span id=\"History\">History</span></h2>\\n\\n<p>Ceramic sculptures of a hairless breed of dog have been found in burial sites in ancient West Mexico. In ancient times, Xolos were often sacrificed and then buried with their owners to act as guides to the soul on its journey to the underworld. They have been found in burial sites of both the Maya and the Toltec.</p><p>Sixteenth-century Spanish accounts tell of large numbers of dogs being served at banquets. Aztec merchant feasts could have 80–100 turkeys and 20–40 dogs served as food. When these two meats were served in the same dish, the dog meat was at the bottom of the dish, either because it was held in higher regard or because it was increasingly considered a step above cannibalism.</p><p>The Aztecs consumed few domesticated animals, with over 90% of the bones found at archeological sites being deer.</p>\\n<h3><span id=\"Genetics\">Genetics</span></h3>\\n<p>A 1999 genetic study using mitochondrial DNA found that the DNA sequences of the Xoloitzcuintle were identical to those of dogs from the Old World. In 2018, an analysis of DNA from the entire genome indicated that domesticated dogs entered North America from Siberia for 4,500 years and were isolated for the next 9,000 years. After contact with Europeans, these dogs were replaced by Eurasian dogs and their local descendants. The pre-contact dogs exhibited a unique genetic signature that is now almost gone due to their assimilation into the Eurasian dog gene pool. In 2020, the sequencing of ancient dog genomes indicates that in two Mexican breeds the Chihuahua and Xoloitzcuintli derive 4% and 3% of their ancestry from pre-colonial dogs, almost entirely being descended from Eurasian dogs.\\n</p><p>Their phenotype is a consequence of canine ectodermal dysplasia caused by a mutation on the Foxl3 autosomal gene.</p>\\n<h2><span id=\"Registry\">Registry</span></h2>\\n<h3><span id=\"F.C3.A9d.C3.A9ration_Cynologique_Internationale_.28FCI.29\"></span><span id=\"Fédération_Cynologique_Internationale_(FCI)\">Fédération Cynologique Internationale (FCI)</span></h3>\\n<p>The breed did not receive any official notice in its homeland until the 1950s. The FCI, founded in 1940, was not prepared to declare the Xolo an official purebred at that time. According to breed historian Norman Pelham Wright, author of <i>The Enigma of the Xoloitzcuintli</i>, Xolos began to turn up at Mexican dog shows in the late 1940s. Although they were recognized as indigenous specimens of a native breed, interest in them was minimal at that time, because information was scarce and no standard existed by which to judge them. Within a decade, the FCI realized that the breed would become extinct if drastic action were not taken to save it. This led to the widely publicized Xolo Expedition of 1954. With the official sanction of the FCI, Wright and a team of Mexican and British dog authorities set off to discover if any purebred Xolos still existed in remote areas of Mexico. Eventually 10 structurally strong Xolos were found and these dogs formed the foundation of Mexico\\'s program to revive the breed. A committee headed by Wright authored the first official standard for the breed; on May 1, 1956, the Xolo was finally recognized in its native land and, as Mexico is a member of the FCI, worldwide.</p>\\n<h3><span id=\"American_Kennel_Club_.28AKC.29\"></span><span id=\"American_Kennel_Club_(AKC)\">American Kennel Club (AKC)</span></h3>\\n\\n<p>Xolos were among the first breeds recorded by the American Kennel Club (AKC). A Mexican dog named \\'Mee Too\\' made breed history as the first AKC-registered Xolo in 1887. \\'Chinito Junior\\', bred and owned by Valetska Radtke of New York City, became the breed\\'s only AKC champion to date. He earned his title on October 19, 1940.</p><p>In 1959, the Xolo was dropped from the AKC stud book due to the breed\\'s scarcity and perceived extinction. The Xoloitzcuintli Club of America (XCA), the official parent club for the breed, was founded on October 26, 1986, to regain AKC recognition for the breed. On May 13, 2008, AKC voted to readmit the breed to its Miscellaneous Class starting January 1, 2009. The founding members voted unanimously to recognize all three sizes (toy, miniature and standard) and both varieties (hairless and coated) at their initial meeting. Since then, the XCA has compiled a stud book modeled on requirements for eventual AKC acceptance, held an annual independent specialty show, published a quarterly newsletter, <i>The Xolo News</i>, and maintained an active national rescue network, National Xolo Rescue (known before 2009 as The Xolo Rescue League). Since January 1, 2007, FSS registered Xolos have been eligible to compete in AKC performance events. The breed was moved into the AKC Studbook in December 2010 and has been eligible to be shown in the AKC Non-Sporting group since January 1, 2011.</p>\\n<h2><span id=\"Characteristics\">Characteristics</span></h2>\\n<h3><span id=\"Appearance\">Appearance</span></h3>\\n\\n<p>The breed ranges in size from about 10 to 55\\xa0lb (5 to 23\\xa0kg). The height is 9 to 26 inches (23–67\\xa0cm). Similar in appearance to a Pharaoh Hound, with a sleek body, almond-shaped eyes, large bat-like ears, and a long neck, the Xolo is notable for its dominant trait of hairlessness. The dominant hairless trait originated in this breed as a spontaneous mutation thousands of years ago. The recessive expression of the trait will produce a coated variety, which is genetically inseparable from the hairless, as the homozygous appearance of the hairless mutation is fatal to the unborn pup. Most litters contain both hairless and coated puppies. The coated variety, covered with a short, flat dense coat represents the original form of the dog, prior to the occurrence of the spontaneous hairless mutation. The hairless variety is completely hairless on the body, with many dogs exhibiting a few short hairs on the top of the head, the toes, and the tip of the tail. Most hairless dogs are black or bluish-gray in color.\\nThe allele responsible for the Xolo\\'s hairlessness also affects the dog\\'s dentition: Hairless Xolos typically have an incomplete set of teeth while the dogs of the coated variety have complete dentition.\\n</p><p>The Xolo is moderate in all aspects of its appearance, conveying an impression of strength, agility, and elegance. Xolo body proportions are rectangular, slightly longer in total body length than the height measured at the highest point of the withers (top of the shoulders). The breed occurs naturally in two varieties, hairless and coated. Hairless Xolos are the dominant expression of the heterozygous Hh hairless trait. Coated Xolos (hh) are the recessive expression, and breeding hairless to coated or hairless to hairless may produce pups of either or both varieties. Breeding coated to coated will only produce coated pups because they are recessive to the hairless trait and do not carry the dominant H gene.\\n</p><p>Both varieties occur in all hair or skin colors, and the skin is often marked, splashed, or spotted. The most common colors are various shades termed black, grey, bronze, yellowish-blonde, blue and red. The breed occurs in a range of sizes, which breeders have standardized into three designations: Standard, Miniature and Toy.\\n</p>\\n<h3><span id=\"Temperament\">Temperament</span></h3>\\n<link rel=\"mw-deduplicated-inline-style\" href=\"mw-data:TemplateStyles:r1097763485\">\\n\\n<p>The Xoloitzcuintle\\'s \\'primitive\\' temperament (very high intelligence, sensitivity, high energy, inquisitiveness, strong hunting, and social instincts) is apparent because the breed\\'s temperament was not modified overall by selective breeding in their native history in Mexico. This has also ensured a sturdy physical nature and vigorous health generally innate in both coated and hairless Xolos. Adult Xolos are frequently noted for their calm demeanor, although puppies can be extremely energetic, noisy, and very oral until they reach maturity (after 2 years old), after which they tend to settle down, bark less, and become more calm. Inadequately supervised or exercised Xolos can become escape artists, climbing and jumping fences to chase. Many individuals of this breed can possess guard dog ability and will not back down from a fight. At the same time, adult dogs, when they are raised properly, can become steady, well-behaved, and affectionate companions.</p><p>Though physically grown at 1 year, many dog breeds including Xolos, are not \\'emotionally mature\\' until around 2 years. Like active breeds such as terriers, Xolos need calm, consistent and loving obedience training and regular socialization during their growing years. Well-raised Xolos bond strongly with their owners, becoming highly devoted to their families while frequently choosing one specific family member as favorite.</p><p>Anyone considering acquiring a Xolo should expect to spend time educating themselves in positive reinforcement dog training techniques and, ideally, should have prior experience with active and intelligent dog breeds. A spacious, well-fenced, and safe physical environment is desirable for this breed. Daily walks are ideal for exercising most Toy-sized Xolos; however, more stimulating physical and mental exercise is advised for larger and more active individuals. Behavior problems in Xolos are typically a result of a dog receiving inadequate or inconsistent supervision, as well as inadequate exercise and mental stimulation. The Xoloitzcuintle is a social dog that should not, in most cases, be an \"only dog\". It does not do well when kept as an outside-only dog. This is a breed that is at its best when it is made part of the family, receiving regular interaction and socialization with its humans (and other dogs, whether present in the home or as regular playmates).</p>\\n<h3><span id=\"Health\">Health</span></h3>\\n<p>The Xolo has been developed by natural selection for thousands of years, and is therefore generally not prone to health and structure problems as other dog breeds more modified by human selection efforts. Xolos came from tropical climates and are not suited for outdoor life in colder temperate and northern climates; they should be considered an indoor dog breed. They need bathing, light grooming and skin care as with other dogs of similar physical type, or acne can result. Most skin problems arise from poor breeding, neglect, or over-bathing and over-lotioning, stripping natural protections and clogging pores.</p>\\n<h2><span id=\"In_contemporary_culture\">In contemporary culture</span></h2>\\n\\n<p>Xoloitzcuintles have been receiving more recognition in recent years, this can be seen in increased representation in popular culture and in the popularity of the dog as a pet. Museo El Carmen in Mexico City exhibited a show titled <i>Xolos, compañeros de viaje</i> (Xolos, travel companions) in 2019–20 of more than 100 artifacts – ceramics, remains, and artworks – overviewing the importance of the Xoloitzcuintle in Mexican heritage. A Xolo named Dante stars in the US blockbuster CGI animation 2017 Disney/Pixar film <i>Coco</i>. On August 12, 2016, the Mayor of Mexico City Miguel Ángel Mancera designated the Xoloitzcuintle a \"cultural heritage and symbol\" of Mexico City. The Dolores Olmedo Museum keeps a pack of Xolos on their grounds.</p><p>The Xoloitzcuintle is the symbol and mascot of Club Tijuana, the Xoloitzcuintles de Caliente, a professional soccer club founded in 2007.  Xolos are depicted in some of Mexican artist Frida Kahlo\\'s paintings, one of which is commemorated on the 2007 500-peso note, featuring Kahlo\\'s painting titled <i>Love\\'s Embrace of the Universe, Earth, (Mexico), I, Diego, and Mr. Xólotl</i> (1949) on the reverse of the note. Diego Rivera\\'s large murals, <i>The History of Mexico</i>, in the Palacio Nacional in Mexico City feature numerous Xolos.</p>\\n<h2><span id=\"See_also\">See also</span></h2>\\n<ul><li>Chinese Crested Dog</li>\\n<li>Dogs portal</li>\\n<li>List of dog breeds</li>\\n<li>Hairless dog</li>\\n<li>Peruvian Inca Orchid</li></ul><h2><span id=\"References\">References</span></h2>\\n\\n<h2><span id=\"Further_reading\">Further reading</span></h2>\\n<ul><li><i>The Xolo Handbook</i>. Xoloitzcuintli Club of America, 1999.</li>\\n<li><link rel=\"mw-deduplicated-inline-style\" href=\"mw-data:TemplateStyles:r1133582631\"><cite id=\"CITEREFParkerHarrisDregerDavis2017\" class=\"citation journal cs1\">Parker, Heidi G.; Harris, Alexander; Dreger, Dayna L.; Davis, Brian W.; Ostrander, Elaine A. (5 February 2017). \"The bald and the beautiful: hairlessness in domestic dog breeds\". <i>Philosophical Transactions of the Royal Society B: Biological Sciences</i>. <b>372</b> (1713). doi:10.1098/rstb.2015.0488. PMC\\xa0<span title=\"Freely accessible\">5182420</span>. PMID\\xa027994129.</cite><span title=\"ctx_ver=Z39.88-2004&amp;rft_val_fmt=info%3Aofi%2Ffmt%3Akev%3Amtx%3Ajournal&amp;rft.genre=article&amp;rft.jtitle=Philosophical+Transactions+of+the+Royal+Society+B%3A+Biological+Sciences&amp;rft.atitle=The+bald+and+the+beautiful%3A+hairlessness+in+domestic+dog+breeds&amp;rft.volume=372&amp;rft.issue=1713&amp;rft.date=2017-02-05&amp;rft_id=https%3A%2F%2Fwww.ncbi.nlm.nih.gov%2Fpmc%2Farticles%2FPMC5182420%23id-name%3DPMC&amp;rft_id=info%3Apmid%2F27994129&amp;rft_id=info%3Adoi%2F10.1098%2Frstb.2015.0488&amp;rft.aulast=Parker&amp;rft.aufirst=Heidi+G.&amp;rft.au=Harris%2C+Alexander&amp;rft.au=Dreger%2C+Dayna+L.&amp;rft.au=Davis%2C+Brian+W.&amp;rft.au=Ostrander%2C+Elaine+A.&amp;rft_id=https%3A%2F%2Fwww.ncbi.nlm.nih.gov%2Fpmc%2Farticles%2FPMC5182420&amp;rfr_id=info%3Asid%2Fen.wikipedia.org%3AXoloitzcuintle\"></span></li></ul><h2><span id=\"External_links\">External links</span></h2>\\n\\n<ul><li>The Xoloitzcuintli Club of America (XCA), AKC Xolo parent club</li>\\n<li>\"New AKC Recognized Breed: The Xolo\", Cesar\\'s Way, July 2011</li>\\n<li>American Kennel Club (AKC) Xoloitzcuintli information page</li>\\n<li>URCANIS breeding club of Sweden</li></ul>'"
            ],
            "application/vnd.google.colaboratory.intrinsic+json": {
              "type": "string"
            }
          },
          "metadata": {},
          "execution_count": 12
        }
      ],
      "source": [
        "df['extract'][0]"
      ]
    },
    {
      "cell_type": "code",
      "execution_count": null,
      "id": "6e17e2d9-018a-4b6b-82e1-13fec5011330",
      "metadata": {
        "id": "6e17e2d9-018a-4b6b-82e1-13fec5011330"
      },
      "outputs": [],
      "source": [
        "#df = pd.json_normalize(request_wiki.json()['query'])\n",
        "#df['pages.243549.extract'][0]"
      ]
    },
    {
      "cell_type": "code",
      "execution_count": 13,
      "id": "3bc3b30d-f8b4-4f9d-90cb-d66419763dc4",
      "metadata": {
        "id": "3bc3b30d-f8b4-4f9d-90cb-d66419763dc4",
        "outputId": "252fbf39-7ddd-4afa-b787-b2bee9be8e7f",
        "colab": {
          "base_uri": "https://localhost:8080/"
        }
      },
      "outputs": [
        {
          "output_type": "execute_result",
          "data": {
            "text/plain": [
              "200"
            ]
          },
          "metadata": {},
          "execution_count": 13
        }
      ],
      "source": [
        "buscar_titulo = 'Xoloitzcuintle'\n",
        " \n",
        "#endpoint = 'https://es.wikipedia.org/w/api.php'\n",
        "endpoint = 'https://en.wikipedia.org/w/api.php'\n",
        "\n",
        "params = {\n",
        "            'action' : 'query',\n",
        "            'format' : 'json',\n",
        "            'titles' : buscar_titulo, \n",
        "            'prop' : 'extracts'\n",
        "        }\n",
        "\n",
        "request2_wiki = requests.get(endpoint, params=params)\n",
        "\n",
        "request2_wiki.status_code"
      ]
    },
    {
      "cell_type": "code",
      "execution_count": null,
      "id": "145eb65c-1c77-45da-8ceb-e714533bb299",
      "metadata": {
        "id": "145eb65c-1c77-45da-8ceb-e714533bb299"
      },
      "outputs": [],
      "source": [
        "#request2_wiki.json()['query']"
      ]
    },
    {
      "cell_type": "code",
      "execution_count": 14,
      "id": "18c76984-5adb-49c4-b125-a1a4183fc648",
      "metadata": {
        "id": "18c76984-5adb-49c4-b125-a1a4183fc648",
        "outputId": "79d1b160-4bf9-4d57-f206-dc62ba16d0a5",
        "colab": {
          "base_uri": "https://localhost:8080/",
          "height": 1000
        }
      },
      "outputs": [
        {
          "output_type": "execute_result",
          "data": {
            "text/plain": [
              "'<p>The <b>Xoloitzcuintle</b> (or <b>Xoloitzquintle</b>, <b>Xoloitzcuintli</b>, or <b>Xolo</b>) is one of several breeds of hairless dog. It is found in standard, intermediate, and miniature sizes. The Xolo also comes in a coated variety, totally covered in fur. Coated and hairless can be born in the same litter as a result of the same combination of genes. The hairless variant is known as the <b>Perro pelón mexicano</b> or <b>Mexican hairless dog</b>. It is characterized by its duality, wrinkles, and dental abnormalities, along with a primitive temper. In Nahuatl, from which its name originates, it is <i>xōlōitzcuintli</i> <small></small><span title=\"Representation in the International Phonetic Alphabet (IPA)\" lang=\"nah-Latn-fonipa\">[ʃoːloːit͡sˈkʷint͡ɬi]</span> (singular) and <i>xōlōitzcuintin</i> <small></small><span title=\"Representation in the International Phonetic Alphabet (IPA)\" lang=\"nah-Latn-fonipa\">[ʃoːloːit͡sˈkʷintin]</span> (plural). The name comes from the god <i>Xolotl</i> that, according to ancient narratives, is its creator and <i>itzcuīntli</i> <small></small><span title=\"Representation in the International Phonetic Alphabet (IPA)\" lang=\"nah-Latn-fonipa\">[it͡sˈkʷiːnt͡ɬi]</span>, meaning \\'dog\\' in the Nahuatl language.</p>\\n\\n\\n<h2><span id=\"History\">History</span></h2>\\n\\n<p>Ceramic sculptures of a hairless breed of dog have been found in burial sites in ancient West Mexico. In ancient times, Xolos were often sacrificed and then buried with their owners to act as guides to the soul on its journey to the underworld. They have been found in burial sites of both the Maya and the Toltec.</p><p>Sixteenth-century Spanish accounts tell of large numbers of dogs being served at banquets. Aztec merchant feasts could have 80–100 turkeys and 20–40 dogs served as food. When these two meats were served in the same dish, the dog meat was at the bottom of the dish, either because it was held in higher regard or because it was increasingly considered a step above cannibalism.</p><p>The Aztecs consumed few domesticated animals, with over 90% of the bones found at archeological sites being deer.</p>\\n<h3><span id=\"Genetics\">Genetics</span></h3>\\n<p>A 1999 genetic study using mitochondrial DNA found that the DNA sequences of the Xoloitzcuintle were identical to those of dogs from the Old World. In 2018, an analysis of DNA from the entire genome indicated that domesticated dogs entered North America from Siberia for 4,500 years and were isolated for the next 9,000 years. After contact with Europeans, these dogs were replaced by Eurasian dogs and their local descendants. The pre-contact dogs exhibited a unique genetic signature that is now almost gone due to their assimilation into the Eurasian dog gene pool. In 2020, the sequencing of ancient dog genomes indicates that in two Mexican breeds the Chihuahua and Xoloitzcuintli derive 4% and 3% of their ancestry from pre-colonial dogs, almost entirely being descended from Eurasian dogs.\\n</p><p>Their phenotype is a consequence of canine ectodermal dysplasia caused by a mutation on the Foxl3 autosomal gene.</p>\\n<h2><span id=\"Registry\">Registry</span></h2>\\n<h3><span id=\"F.C3.A9d.C3.A9ration_Cynologique_Internationale_.28FCI.29\"></span><span id=\"Fédération_Cynologique_Internationale_(FCI)\">Fédération Cynologique Internationale (FCI)</span></h3>\\n<p>The breed did not receive any official notice in its homeland until the 1950s. The FCI, founded in 1940, was not prepared to declare the Xolo an official purebred at that time. According to breed historian Norman Pelham Wright, author of <i>The Enigma of the Xoloitzcuintli</i>, Xolos began to turn up at Mexican dog shows in the late 1940s. Although they were recognized as indigenous specimens of a native breed, interest in them was minimal at that time, because information was scarce and no standard existed by which to judge them. Within a decade, the FCI realized that the breed would become extinct if drastic action were not taken to save it. This led to the widely publicized Xolo Expedition of 1954. With the official sanction of the FCI, Wright and a team of Mexican and British dog authorities set off to discover if any purebred Xolos still existed in remote areas of Mexico. Eventually 10 structurally strong Xolos were found and these dogs formed the foundation of Mexico\\'s program to revive the breed. A committee headed by Wright authored the first official standard for the breed; on May 1, 1956, the Xolo was finally recognized in its native land and, as Mexico is a member of the FCI, worldwide.</p>\\n<h3><span id=\"American_Kennel_Club_.28AKC.29\"></span><span id=\"American_Kennel_Club_(AKC)\">American Kennel Club (AKC)</span></h3>\\n\\n<p>Xolos were among the first breeds recorded by the American Kennel Club (AKC). A Mexican dog named \\'Mee Too\\' made breed history as the first AKC-registered Xolo in 1887. \\'Chinito Junior\\', bred and owned by Valetska Radtke of New York City, became the breed\\'s only AKC champion to date. He earned his title on October 19, 1940.</p><p>In 1959, the Xolo was dropped from the AKC stud book due to the breed\\'s scarcity and perceived extinction. The Xoloitzcuintli Club of America (XCA), the official parent club for the breed, was founded on October 26, 1986, to regain AKC recognition for the breed. On May 13, 2008, AKC voted to readmit the breed to its Miscellaneous Class starting January 1, 2009. The founding members voted unanimously to recognize all three sizes (toy, miniature and standard) and both varieties (hairless and coated) at their initial meeting. Since then, the XCA has compiled a stud book modeled on requirements for eventual AKC acceptance, held an annual independent specialty show, published a quarterly newsletter, <i>The Xolo News</i>, and maintained an active national rescue network, National Xolo Rescue (known before 2009 as The Xolo Rescue League). Since January 1, 2007, FSS registered Xolos have been eligible to compete in AKC performance events. The breed was moved into the AKC Studbook in December 2010 and has been eligible to be shown in the AKC Non-Sporting group since January 1, 2011.</p>\\n<h2><span id=\"Characteristics\">Characteristics</span></h2>\\n<h3><span id=\"Appearance\">Appearance</span></h3>\\n\\n<p>The breed ranges in size from about 10 to 55\\xa0lb (5 to 23\\xa0kg). The height is 9 to 26 inches (23–67\\xa0cm). Similar in appearance to a Pharaoh Hound, with a sleek body, almond-shaped eyes, large bat-like ears, and a long neck, the Xolo is notable for its dominant trait of hairlessness. The dominant hairless trait originated in this breed as a spontaneous mutation thousands of years ago. The recessive expression of the trait will produce a coated variety, which is genetically inseparable from the hairless, as the homozygous appearance of the hairless mutation is fatal to the unborn pup. Most litters contain both hairless and coated puppies. The coated variety, covered with a short, flat dense coat represents the original form of the dog, prior to the occurrence of the spontaneous hairless mutation. The hairless variety is completely hairless on the body, with many dogs exhibiting a few short hairs on the top of the head, the toes, and the tip of the tail. Most hairless dogs are black or bluish-gray in color.\\nThe allele responsible for the Xolo\\'s hairlessness also affects the dog\\'s dentition: Hairless Xolos typically have an incomplete set of teeth while the dogs of the coated variety have complete dentition.\\n</p><p>The Xolo is moderate in all aspects of its appearance, conveying an impression of strength, agility, and elegance. Xolo body proportions are rectangular, slightly longer in total body length than the height measured at the highest point of the withers (top of the shoulders). The breed occurs naturally in two varieties, hairless and coated. Hairless Xolos are the dominant expression of the heterozygous Hh hairless trait. Coated Xolos (hh) are the recessive expression, and breeding hairless to coated or hairless to hairless may produce pups of either or both varieties. Breeding coated to coated will only produce coated pups because they are recessive to the hairless trait and do not carry the dominant H gene.\\n</p><p>Both varieties occur in all hair or skin colors, and the skin is often marked, splashed, or spotted. The most common colors are various shades termed black, grey, bronze, yellowish-blonde, blue and red. The breed occurs in a range of sizes, which breeders have standardized into three designations: Standard, Miniature and Toy.\\n</p>\\n<h3><span id=\"Temperament\">Temperament</span></h3>\\n<link rel=\"mw-deduplicated-inline-style\" href=\"mw-data:TemplateStyles:r1097763485\">\\n\\n<p>The Xoloitzcuintle\\'s \\'primitive\\' temperament (very high intelligence, sensitivity, high energy, inquisitiveness, strong hunting, and social instincts) is apparent because the breed\\'s temperament was not modified overall by selective breeding in their native history in Mexico. This has also ensured a sturdy physical nature and vigorous health generally innate in both coated and hairless Xolos. Adult Xolos are frequently noted for their calm demeanor, although puppies can be extremely energetic, noisy, and very oral until they reach maturity (after 2 years old), after which they tend to settle down, bark less, and become more calm. Inadequately supervised or exercised Xolos can become escape artists, climbing and jumping fences to chase. Many individuals of this breed can possess guard dog ability and will not back down from a fight. At the same time, adult dogs, when they are raised properly, can become steady, well-behaved, and affectionate companions.</p><p>Though physically grown at 1 year, many dog breeds including Xolos, are not \\'emotionally mature\\' until around 2 years. Like active breeds such as terriers, Xolos need calm, consistent and loving obedience training and regular socialization during their growing years. Well-raised Xolos bond strongly with their owners, becoming highly devoted to their families while frequently choosing one specific family member as favorite.</p><p>Anyone considering acquiring a Xolo should expect to spend time educating themselves in positive reinforcement dog training techniques and, ideally, should have prior experience with active and intelligent dog breeds. A spacious, well-fenced, and safe physical environment is desirable for this breed. Daily walks are ideal for exercising most Toy-sized Xolos; however, more stimulating physical and mental exercise is advised for larger and more active individuals. Behavior problems in Xolos are typically a result of a dog receiving inadequate or inconsistent supervision, as well as inadequate exercise and mental stimulation. The Xoloitzcuintle is a social dog that should not, in most cases, be an \"only dog\". It does not do well when kept as an outside-only dog. This is a breed that is at its best when it is made part of the family, receiving regular interaction and socialization with its humans (and other dogs, whether present in the home or as regular playmates).</p>\\n<h3><span id=\"Health\">Health</span></h3>\\n<p>The Xolo has been developed by natural selection for thousands of years, and is therefore generally not prone to health and structure problems as other dog breeds more modified by human selection efforts. Xolos came from tropical climates and are not suited for outdoor life in colder temperate and northern climates; they should be considered an indoor dog breed. They need bathing, light grooming and skin care as with other dogs of similar physical type, or acne can result. Most skin problems arise from poor breeding, neglect, or over-bathing and over-lotioning, stripping natural protections and clogging pores.</p>\\n<h2><span id=\"In_contemporary_culture\">In contemporary culture</span></h2>\\n\\n<p>Xoloitzcuintles have been receiving more recognition in recent years, this can be seen in increased representation in popular culture and in the popularity of the dog as a pet. Museo El Carmen in Mexico City exhibited a show titled <i>Xolos, compañeros de viaje</i> (Xolos, travel companions) in 2019–20 of more than 100 artifacts – ceramics, remains, and artworks – overviewing the importance of the Xoloitzcuintle in Mexican heritage. A Xolo named Dante stars in the US blockbuster CGI animation 2017 Disney/Pixar film <i>Coco</i>. On August 12, 2016, the Mayor of Mexico City Miguel Ángel Mancera designated the Xoloitzcuintle a \"cultural heritage and symbol\" of Mexico City. The Dolores Olmedo Museum keeps a pack of Xolos on their grounds.</p><p>The Xoloitzcuintle is the symbol and mascot of Club Tijuana, the Xoloitzcuintles de Caliente, a professional soccer club founded in 2007.  Xolos are depicted in some of Mexican artist Frida Kahlo\\'s paintings, one of which is commemorated on the 2007 500-peso note, featuring Kahlo\\'s painting titled <i>Love\\'s Embrace of the Universe, Earth, (Mexico), I, Diego, and Mr. Xólotl</i> (1949) on the reverse of the note. Diego Rivera\\'s large murals, <i>The History of Mexico</i>, in the Palacio Nacional in Mexico City feature numerous Xolos.</p>\\n<h2><span id=\"See_also\">See also</span></h2>\\n<ul><li>Chinese Crested Dog</li>\\n<li>Dogs portal</li>\\n<li>List of dog breeds</li>\\n<li>Hairless dog</li>\\n<li>Peruvian Inca Orchid</li></ul><h2><span id=\"References\">References</span></h2>\\n\\n<h2><span id=\"Further_reading\">Further reading</span></h2>\\n<ul><li><i>The Xolo Handbook</i>. Xoloitzcuintli Club of America, 1999.</li>\\n<li><link rel=\"mw-deduplicated-inline-style\" href=\"mw-data:TemplateStyles:r1133582631\"><cite id=\"CITEREFParkerHarrisDregerDavis2017\" class=\"citation journal cs1\">Parker, Heidi G.; Harris, Alexander; Dreger, Dayna L.; Davis, Brian W.; Ostrander, Elaine A. (5 February 2017). \"The bald and the beautiful: hairlessness in domestic dog breeds\". <i>Philosophical Transactions of the Royal Society B: Biological Sciences</i>. <b>372</b> (1713). doi:10.1098/rstb.2015.0488. PMC\\xa0<span title=\"Freely accessible\">5182420</span>. PMID\\xa027994129.</cite><span title=\"ctx_ver=Z39.88-2004&amp;rft_val_fmt=info%3Aofi%2Ffmt%3Akev%3Amtx%3Ajournal&amp;rft.genre=article&amp;rft.jtitle=Philosophical+Transactions+of+the+Royal+Society+B%3A+Biological+Sciences&amp;rft.atitle=The+bald+and+the+beautiful%3A+hairlessness+in+domestic+dog+breeds&amp;rft.volume=372&amp;rft.issue=1713&amp;rft.date=2017-02-05&amp;rft_id=https%3A%2F%2Fwww.ncbi.nlm.nih.gov%2Fpmc%2Farticles%2FPMC5182420%23id-name%3DPMC&amp;rft_id=info%3Apmid%2F27994129&amp;rft_id=info%3Adoi%2F10.1098%2Frstb.2015.0488&amp;rft.aulast=Parker&amp;rft.aufirst=Heidi+G.&amp;rft.au=Harris%2C+Alexander&amp;rft.au=Dreger%2C+Dayna+L.&amp;rft.au=Davis%2C+Brian+W.&amp;rft.au=Ostrander%2C+Elaine+A.&amp;rft_id=https%3A%2F%2Fwww.ncbi.nlm.nih.gov%2Fpmc%2Farticles%2FPMC5182420&amp;rfr_id=info%3Asid%2Fen.wikipedia.org%3AXoloitzcuintle\"></span></li></ul><h2><span id=\"External_links\">External links</span></h2>\\n\\n<ul><li>The Xoloitzcuintli Club of America (XCA), AKC Xolo parent club</li>\\n<li>\"New AKC Recognized Breed: The Xolo\", Cesar\\'s Way, July 2011</li>\\n<li>American Kennel Club (AKC) Xoloitzcuintli information page</li>\\n<li>URCANIS breeding club of Sweden</li></ul>'"
            ],
            "application/vnd.google.colaboratory.intrinsic+json": {
              "type": "string"
            }
          },
          "metadata": {},
          "execution_count": 14
        }
      ],
      "source": [
        "df = pd.json_normalize(request2_wiki.json()['query'])\n",
        "df['pages.243549.extract'][0]"
      ]
    },
    {
      "cell_type": "markdown",
      "id": "a3dc0bc9-f9f8-4326-81ed-1d68ebe79c14",
      "metadata": {
        "id": "a3dc0bc9-f9f8-4326-81ed-1d68ebe79c14"
      },
      "source": [
        "Restringir la búsqueda:\n",
        "- exintro : solo el resumen\n",
        "- exchars : número de caracteres\n",
        "- exsentences : número de oraciones\n",
        "- explaintext : texto plano (no HTML)"
      ]
    },
    {
      "cell_type": "code",
      "execution_count": 15,
      "id": "bcb36c87-e5ce-404e-9af7-80c2808ef515",
      "metadata": {
        "id": "bcb36c87-e5ce-404e-9af7-80c2808ef515",
        "outputId": "4afeb7f8-6257-432f-952c-04b704e1b905",
        "colab": {
          "base_uri": "https://localhost:8080/"
        }
      },
      "outputs": [
        {
          "output_type": "execute_result",
          "data": {
            "text/plain": [
              "200"
            ]
          },
          "metadata": {},
          "execution_count": 15
        }
      ],
      "source": [
        "buscar_titulo = 'Xoloitzcuintle'\n",
        " \n",
        "#endpoint = 'https://es.wikipedia.org/w/api.php'\n",
        "endpoint = 'https://en.wikipedia.org/w/api.php'\n",
        "\n",
        "\n",
        "params = {\n",
        "            'action' : 'query',\n",
        "            'format' : 'json',\n",
        "            'titles' : buscar_titulo, \n",
        "            'prop' : 'extracts',\n",
        "            'exintro': True,\n",
        "            'explaintext': True\n",
        "        }\n",
        "\n",
        "request3_wiki = requests.get(endpoint, params=params)\n",
        "\n",
        "request3_wiki.status_code"
      ]
    },
    {
      "cell_type": "code",
      "execution_count": 16,
      "id": "049a9640-cb6f-44f9-8445-c2e6df4e5937",
      "metadata": {
        "id": "049a9640-cb6f-44f9-8445-c2e6df4e5937"
      },
      "outputs": [],
      "source": [
        "df = pd.json_normalize(request3_wiki.json()['query'])\n",
        "resumen_xolo = df['pages.243549.extract'][0]"
      ]
    },
    {
      "cell_type": "code",
      "execution_count": 17,
      "id": "3f1dea1b-9588-4e33-b918-8da835563144",
      "metadata": {
        "id": "3f1dea1b-9588-4e33-b918-8da835563144",
        "outputId": "b3ff39dc-10ed-4a30-f111-ccd85698f79c",
        "colab": {
          "base_uri": "https://localhost:8080/",
          "height": 86
        }
      },
      "outputs": [
        {
          "output_type": "execute_result",
          "data": {
            "text/plain": [
              "\"The Xoloitzcuintle (or Xoloitzquintle, Xoloitzcuintli, or Xolo) is one of several breeds of hairless dog. It is found in standard, intermediate, and miniature sizes. The Xolo also comes in a coated variety, totally covered in fur. Coated and hairless can be born in the same litter as a result of the same combination of genes. The hairless variant is known as the Perro pelón mexicano or Mexican hairless dog. It is characterized by its duality, wrinkles, and dental abnormalities, along with a primitive temper. In Nahuatl, from which its name originates, it is xōlōitzcuintli [ʃoːloːit͡sˈkʷint͡ɬi] (singular) and xōlōitzcuintin [ʃoːloːit͡sˈkʷintin] (plural). The name comes from the god Xolotl that, according to ancient narratives, is its creator and itzcuīntli [it͡sˈkʷiːnt͡ɬi], meaning 'dog' in the Nahuatl language.\\n\\n\""
            ],
            "application/vnd.google.colaboratory.intrinsic+json": {
              "type": "string"
            }
          },
          "metadata": {},
          "execution_count": 17
        }
      ],
      "source": [
        "resumen_xolo"
      ]
    },
    {
      "cell_type": "markdown",
      "id": "ca272a02-2cd8-4379-ad89-5a0557df85df",
      "metadata": {
        "id": "ca272a02-2cd8-4379-ad89-5a0557df85df"
      },
      "source": [
        "---\n",
        "### Búsqueda por palabra en título"
      ]
    },
    {
      "cell_type": "code",
      "execution_count": 18,
      "id": "d9358990-1ba5-43e3-9146-858f16f1ab85",
      "metadata": {
        "id": "d9358990-1ba5-43e3-9146-858f16f1ab85",
        "outputId": "b002bbc3-43bf-4296-ab32-0bac15351028",
        "colab": {
          "base_uri": "https://localhost:8080/"
        }
      },
      "outputs": [
        {
          "output_type": "execute_result",
          "data": {
            "text/plain": [
              "200"
            ]
          },
          "metadata": {},
          "execution_count": 18
        }
      ],
      "source": [
        "buscar_en_titulo = 'Leon'\n",
        " \n",
        "endpoint = 'https://es.wikipedia.org/w/api.php'\n",
        "\n",
        "params = {\n",
        "            'action' : 'query',\n",
        "            'format' : 'json',\n",
        "            'list':'search',\n",
        "            'srsearch' : buscar_en_titulo\n",
        "        }\n",
        "\n",
        "request4_wiki = requests.get(endpoint, params=params)\n",
        "\n",
        "request4_wiki.status_code"
      ]
    },
    {
      "cell_type": "code",
      "execution_count": 19,
      "id": "125a0238-39d4-46dd-ac39-73abbd3ff017",
      "metadata": {
        "id": "125a0238-39d4-46dd-ac39-73abbd3ff017",
        "outputId": "af5ae6cd-f8eb-4f0e-e179-5b0166caf495",
        "colab": {
          "base_uri": "https://localhost:8080/",
          "height": 363
        }
      },
      "outputs": [
        {
          "output_type": "execute_result",
          "data": {
            "text/plain": [
              "   ns               title   pageid    size  wordcount  \\\n",
              "0   0                LEON   766618    1824        161   \n",
              "1   0        Panthera leo    25116  146793      17903   \n",
              "2   0                Léon   232172   31324       3716   \n",
              "3   0       León (España)     3341  233782      25540   \n",
              "4   0     Castilla y León      485  194246      20428   \n",
              "5   0    León (heráldica)  1743552   18355        949   \n",
              "6   0          Nuevo León    25593  119632       9564   \n",
              "7   0   Provincia de León    23530  161746      16488   \n",
              "8   0       Reino de León    41339   32095       3709   \n",
              "9   0  León de Los Aldama    66887  162208      20499   \n",
              "\n",
              "                                             snippet             timestamp  \n",
              "0  <span class=\"searchmatch\">LEON</span> es un nú...  2022-12-13T14:18:14Z  \n",
              "1  El <span class=\"searchmatch\">león</span> (Pant...  2023-04-25T08:50:13Z  \n",
              "2  <span class=\"searchmatch\">Léon</span>, también...  2023-03-04T18:05:25Z  \n",
              "3  <span class=\"searchmatch\">León</span> (en <spa...  2023-04-26T19:37:44Z  \n",
              "4  Castilla y <span class=\"searchmatch\">León</spa...  2023-04-29T10:02:47Z  \n",
              "5  En Heráldica el <span class=\"searchmatch\">León...  2023-05-01T17:22:17Z  \n",
              "6  Nuevo <span class=\"searchmatch\">León</span> ( ...  2023-04-25T03:30:11Z  \n",
              "7  <span class=\"searchmatch\">León</span> (en <spa...  2023-04-08T08:59:03Z  \n",
              "8  El reino de <span class=\"searchmatch\">León</sp...  2023-04-27T03:14:13Z  \n",
              "9  <span class=\"searchmatch\">León</span> de los A...  2023-04-26T14:12:31Z  "
            ],
            "text/html": [
              "\n",
              "  <div id=\"df-35f882f5-a1d3-4288-b1ab-9e64ed21c732\">\n",
              "    <div class=\"colab-df-container\">\n",
              "      <div>\n",
              "<style scoped>\n",
              "    .dataframe tbody tr th:only-of-type {\n",
              "        vertical-align: middle;\n",
              "    }\n",
              "\n",
              "    .dataframe tbody tr th {\n",
              "        vertical-align: top;\n",
              "    }\n",
              "\n",
              "    .dataframe thead th {\n",
              "        text-align: right;\n",
              "    }\n",
              "</style>\n",
              "<table border=\"1\" class=\"dataframe\">\n",
              "  <thead>\n",
              "    <tr style=\"text-align: right;\">\n",
              "      <th></th>\n",
              "      <th>ns</th>\n",
              "      <th>title</th>\n",
              "      <th>pageid</th>\n",
              "      <th>size</th>\n",
              "      <th>wordcount</th>\n",
              "      <th>snippet</th>\n",
              "      <th>timestamp</th>\n",
              "    </tr>\n",
              "  </thead>\n",
              "  <tbody>\n",
              "    <tr>\n",
              "      <th>0</th>\n",
              "      <td>0</td>\n",
              "      <td>LEON</td>\n",
              "      <td>766618</td>\n",
              "      <td>1824</td>\n",
              "      <td>161</td>\n",
              "      <td>&lt;span class=\"searchmatch\"&gt;LEON&lt;/span&gt; es un nú...</td>\n",
              "      <td>2022-12-13T14:18:14Z</td>\n",
              "    </tr>\n",
              "    <tr>\n",
              "      <th>1</th>\n",
              "      <td>0</td>\n",
              "      <td>Panthera leo</td>\n",
              "      <td>25116</td>\n",
              "      <td>146793</td>\n",
              "      <td>17903</td>\n",
              "      <td>El &lt;span class=\"searchmatch\"&gt;león&lt;/span&gt; (Pant...</td>\n",
              "      <td>2023-04-25T08:50:13Z</td>\n",
              "    </tr>\n",
              "    <tr>\n",
              "      <th>2</th>\n",
              "      <td>0</td>\n",
              "      <td>Léon</td>\n",
              "      <td>232172</td>\n",
              "      <td>31324</td>\n",
              "      <td>3716</td>\n",
              "      <td>&lt;span class=\"searchmatch\"&gt;Léon&lt;/span&gt;, también...</td>\n",
              "      <td>2023-03-04T18:05:25Z</td>\n",
              "    </tr>\n",
              "    <tr>\n",
              "      <th>3</th>\n",
              "      <td>0</td>\n",
              "      <td>León (España)</td>\n",
              "      <td>3341</td>\n",
              "      <td>233782</td>\n",
              "      <td>25540</td>\n",
              "      <td>&lt;span class=\"searchmatch\"&gt;León&lt;/span&gt; (en &lt;spa...</td>\n",
              "      <td>2023-04-26T19:37:44Z</td>\n",
              "    </tr>\n",
              "    <tr>\n",
              "      <th>4</th>\n",
              "      <td>0</td>\n",
              "      <td>Castilla y León</td>\n",
              "      <td>485</td>\n",
              "      <td>194246</td>\n",
              "      <td>20428</td>\n",
              "      <td>Castilla y &lt;span class=\"searchmatch\"&gt;León&lt;/spa...</td>\n",
              "      <td>2023-04-29T10:02:47Z</td>\n",
              "    </tr>\n",
              "    <tr>\n",
              "      <th>5</th>\n",
              "      <td>0</td>\n",
              "      <td>León (heráldica)</td>\n",
              "      <td>1743552</td>\n",
              "      <td>18355</td>\n",
              "      <td>949</td>\n",
              "      <td>En Heráldica el &lt;span class=\"searchmatch\"&gt;León...</td>\n",
              "      <td>2023-05-01T17:22:17Z</td>\n",
              "    </tr>\n",
              "    <tr>\n",
              "      <th>6</th>\n",
              "      <td>0</td>\n",
              "      <td>Nuevo León</td>\n",
              "      <td>25593</td>\n",
              "      <td>119632</td>\n",
              "      <td>9564</td>\n",
              "      <td>Nuevo &lt;span class=\"searchmatch\"&gt;León&lt;/span&gt; ( ...</td>\n",
              "      <td>2023-04-25T03:30:11Z</td>\n",
              "    </tr>\n",
              "    <tr>\n",
              "      <th>7</th>\n",
              "      <td>0</td>\n",
              "      <td>Provincia de León</td>\n",
              "      <td>23530</td>\n",
              "      <td>161746</td>\n",
              "      <td>16488</td>\n",
              "      <td>&lt;span class=\"searchmatch\"&gt;León&lt;/span&gt; (en &lt;spa...</td>\n",
              "      <td>2023-04-08T08:59:03Z</td>\n",
              "    </tr>\n",
              "    <tr>\n",
              "      <th>8</th>\n",
              "      <td>0</td>\n",
              "      <td>Reino de León</td>\n",
              "      <td>41339</td>\n",
              "      <td>32095</td>\n",
              "      <td>3709</td>\n",
              "      <td>El reino de &lt;span class=\"searchmatch\"&gt;León&lt;/sp...</td>\n",
              "      <td>2023-04-27T03:14:13Z</td>\n",
              "    </tr>\n",
              "    <tr>\n",
              "      <th>9</th>\n",
              "      <td>0</td>\n",
              "      <td>León de Los Aldama</td>\n",
              "      <td>66887</td>\n",
              "      <td>162208</td>\n",
              "      <td>20499</td>\n",
              "      <td>&lt;span class=\"searchmatch\"&gt;León&lt;/span&gt; de los A...</td>\n",
              "      <td>2023-04-26T14:12:31Z</td>\n",
              "    </tr>\n",
              "  </tbody>\n",
              "</table>\n",
              "</div>\n",
              "      <button class=\"colab-df-convert\" onclick=\"convertToInteractive('df-35f882f5-a1d3-4288-b1ab-9e64ed21c732')\"\n",
              "              title=\"Convert this dataframe to an interactive table.\"\n",
              "              style=\"display:none;\">\n",
              "        \n",
              "  <svg xmlns=\"http://www.w3.org/2000/svg\" height=\"24px\"viewBox=\"0 0 24 24\"\n",
              "       width=\"24px\">\n",
              "    <path d=\"M0 0h24v24H0V0z\" fill=\"none\"/>\n",
              "    <path d=\"M18.56 5.44l.94 2.06.94-2.06 2.06-.94-2.06-.94-.94-2.06-.94 2.06-2.06.94zm-11 1L8.5 8.5l.94-2.06 2.06-.94-2.06-.94L8.5 2.5l-.94 2.06-2.06.94zm10 10l.94 2.06.94-2.06 2.06-.94-2.06-.94-.94-2.06-.94 2.06-2.06.94z\"/><path d=\"M17.41 7.96l-1.37-1.37c-.4-.4-.92-.59-1.43-.59-.52 0-1.04.2-1.43.59L10.3 9.45l-7.72 7.72c-.78.78-.78 2.05 0 2.83L4 21.41c.39.39.9.59 1.41.59.51 0 1.02-.2 1.41-.59l7.78-7.78 2.81-2.81c.8-.78.8-2.07 0-2.86zM5.41 20L4 18.59l7.72-7.72 1.47 1.35L5.41 20z\"/>\n",
              "  </svg>\n",
              "      </button>\n",
              "      \n",
              "  <style>\n",
              "    .colab-df-container {\n",
              "      display:flex;\n",
              "      flex-wrap:wrap;\n",
              "      gap: 12px;\n",
              "    }\n",
              "\n",
              "    .colab-df-convert {\n",
              "      background-color: #E8F0FE;\n",
              "      border: none;\n",
              "      border-radius: 50%;\n",
              "      cursor: pointer;\n",
              "      display: none;\n",
              "      fill: #1967D2;\n",
              "      height: 32px;\n",
              "      padding: 0 0 0 0;\n",
              "      width: 32px;\n",
              "    }\n",
              "\n",
              "    .colab-df-convert:hover {\n",
              "      background-color: #E2EBFA;\n",
              "      box-shadow: 0px 1px 2px rgba(60, 64, 67, 0.3), 0px 1px 3px 1px rgba(60, 64, 67, 0.15);\n",
              "      fill: #174EA6;\n",
              "    }\n",
              "\n",
              "    [theme=dark] .colab-df-convert {\n",
              "      background-color: #3B4455;\n",
              "      fill: #D2E3FC;\n",
              "    }\n",
              "\n",
              "    [theme=dark] .colab-df-convert:hover {\n",
              "      background-color: #434B5C;\n",
              "      box-shadow: 0px 1px 3px 1px rgba(0, 0, 0, 0.15);\n",
              "      filter: drop-shadow(0px 1px 2px rgba(0, 0, 0, 0.3));\n",
              "      fill: #FFFFFF;\n",
              "    }\n",
              "  </style>\n",
              "\n",
              "      <script>\n",
              "        const buttonEl =\n",
              "          document.querySelector('#df-35f882f5-a1d3-4288-b1ab-9e64ed21c732 button.colab-df-convert');\n",
              "        buttonEl.style.display =\n",
              "          google.colab.kernel.accessAllowed ? 'block' : 'none';\n",
              "\n",
              "        async function convertToInteractive(key) {\n",
              "          const element = document.querySelector('#df-35f882f5-a1d3-4288-b1ab-9e64ed21c732');\n",
              "          const dataTable =\n",
              "            await google.colab.kernel.invokeFunction('convertToInteractive',\n",
              "                                                     [key], {});\n",
              "          if (!dataTable) return;\n",
              "\n",
              "          const docLinkHtml = 'Like what you see? Visit the ' +\n",
              "            '<a target=\"_blank\" href=https://colab.research.google.com/notebooks/data_table.ipynb>data table notebook</a>'\n",
              "            + ' to learn more about interactive tables.';\n",
              "          element.innerHTML = '';\n",
              "          dataTable['output_type'] = 'display_data';\n",
              "          await google.colab.output.renderOutput(dataTable, element);\n",
              "          const docLink = document.createElement('div');\n",
              "          docLink.innerHTML = docLinkHtml;\n",
              "          element.appendChild(docLink);\n",
              "        }\n",
              "      </script>\n",
              "    </div>\n",
              "  </div>\n",
              "  "
            ]
          },
          "metadata": {},
          "execution_count": 19
        }
      ],
      "source": [
        "#request4_wiki.json()['query']['search']\n",
        "df = pd.json_normalize(request4_wiki.json()['query']['search'])\n",
        "df"
      ]
    },
    {
      "cell_type": "markdown",
      "id": "54bec3db-a7af-491d-bb69-4a897928e35e",
      "metadata": {
        "id": "54bec3db-a7af-491d-bb69-4a897928e35e"
      },
      "source": [
        "---\n",
        "---\n",
        "\n",
        "### [REST API](https://www.mediawiki.org/wiki/API:REST_API/Reference#Python_3)"
      ]
    },
    {
      "cell_type": "code",
      "execution_count": 28,
      "id": "9b64c8b4-e96b-4f2d-a36d-5b563c496cb1",
      "metadata": {
        "id": "9b64c8b4-e96b-4f2d-a36d-5b563c496cb1",
        "outputId": "5183085d-ea6e-4249-abe4-fc74f5e4afd4",
        "colab": {
          "base_uri": "https://localhost:8080/"
        }
      },
      "outputs": [
        {
          "output_type": "execute_result",
          "data": {
            "text/plain": [
              "200"
            ]
          },
          "metadata": {},
          "execution_count": 28
        }
      ],
      "source": [
        "buscar_en_titulo = 'Perro'\n",
        " \n",
        "endpoint = 'https://es.wikipedia.org/w/rest.php/v1/search/title'\n",
        "\n",
        "params = {\n",
        "            'q' : buscar_en_titulo,\n",
        "            'limit': 10\n",
        "        }\n",
        "\n",
        "request5_wiki = requests.get(endpoint, params=params)\n",
        "\n",
        "request5_wiki.status_code"
      ]
    },
    {
      "cell_type": "code",
      "execution_count": 29,
      "id": "44265df7-840d-4485-9bd7-af9bca330a7f",
      "metadata": {
        "id": "44265df7-840d-4485-9bd7-af9bca330a7f",
        "outputId": "c24e72c4-c41f-4909-cd52-eb2b794dcff5",
        "colab": {
          "base_uri": "https://localhost:8080/",
          "height": 887
        }
      },
      "outputs": [
        {
          "output_type": "execute_result",
          "data": {
            "text/plain": [
              "        id                                     key  \\\n",
              "0  6081753                        Canis_familiaris   \n",
              "1  5226269                              Perro_lobo   \n",
              "2    82064                        Perrito_caliente   \n",
              "3  7555149                         Perro_de_guerra   \n",
              "4  6823260                        Perro_Aguayo_Jr.   \n",
              "5   516446                           Perro_mestizo   \n",
              "6   707821                           Perro_de_caza   \n",
              "7  5286190  Perros_del_programa_espacial_soviético   \n",
              "8  1607968                            Perro_Aguayo   \n",
              "9   292738        Perro_de_montaña_de_los_Pirineos   \n",
              "\n",
              "                                    title  \\\n",
              "0                        Canis familiaris   \n",
              "1                              Perro lobo   \n",
              "2                        Perrito caliente   \n",
              "3                         Perro de guerra   \n",
              "4                        Perro Aguayo Jr.   \n",
              "5                           Perro mestizo   \n",
              "6                           Perro de caza   \n",
              "7  Perros del programa espacial soviético   \n",
              "8                            Perro Aguayo   \n",
              "9        Perro de montaña de los Pirineos   \n",
              "\n",
              "                                  excerpt matched_title  \\\n",
              "0                                   Perro         Perro   \n",
              "1                              Perro lobo          None   \n",
              "2                        Perrito caliente          None   \n",
              "3                         Perro de guerra          None   \n",
              "4                        Perro Aguayo Jr.          None   \n",
              "5                           Perro mestizo          None   \n",
              "6                           Perro de caza          None   \n",
              "7  Perros del programa espacial soviético          None   \n",
              "8                            Perro Aguayo          None   \n",
              "9        Perro de montaña de los Pirineos          None   \n",
              "\n",
              "                                         description thumbnail.mimetype  \\\n",
              "0                                especie de mamífero         image/jpeg   \n",
              "1                         hibrido entre perro y lobo         image/jpeg   \n",
              "2                     comida rápida de origen alemán         image/jpeg   \n",
              "3  perro entrenado para su uso en la guerra, sea ...         image/jpeg   \n",
              "4                      luchador profesional mexicano                NaN   \n",
              "5  perro cuya ascendencia es generalmente descono...         image/jpeg   \n",
              "6                               compañero de cacería         image/jpeg   \n",
              "7  Término del Gobierno de la Unión Soviética cua...         image/jpeg   \n",
              "8                      Luchador profesional mexicano                NaN   \n",
              "9                                      raza de perro         image/jpeg   \n",
              "\n",
              "   thumbnail.size  thumbnail.width  thumbnail.height  thumbnail.duration  \\\n",
              "0             NaN             60.0              65.0                 NaN   \n",
              "1             NaN             60.0              48.0                 NaN   \n",
              "2             NaN             60.0              40.0                 NaN   \n",
              "3             NaN             60.0              40.0                 NaN   \n",
              "4             NaN              NaN               NaN                 NaN   \n",
              "5             NaN             60.0              74.0                 NaN   \n",
              "6             NaN             60.0              40.0                 NaN   \n",
              "7             NaN             60.0              75.0                 NaN   \n",
              "8             NaN              NaN               NaN                 NaN   \n",
              "9             NaN             60.0              60.0                 NaN   \n",
              "\n",
              "                                       thumbnail.url  thumbnail  \n",
              "0  //upload.wikimedia.org/wikipedia/commons/thumb...        NaN  \n",
              "1  //upload.wikimedia.org/wikipedia/commons/thumb...        NaN  \n",
              "2  //upload.wikimedia.org/wikipedia/commons/thumb...        NaN  \n",
              "3  //upload.wikimedia.org/wikipedia/commons/thumb...        NaN  \n",
              "4                                                NaN        NaN  \n",
              "5  //upload.wikimedia.org/wikipedia/commons/thumb...        NaN  \n",
              "6  //upload.wikimedia.org/wikipedia/commons/thumb...        NaN  \n",
              "7  //upload.wikimedia.org/wikipedia/commons/thumb...        NaN  \n",
              "8                                                NaN        NaN  \n",
              "9  //upload.wikimedia.org/wikipedia/commons/thumb...        NaN  "
            ],
            "text/html": [
              "\n",
              "  <div id=\"df-18197ac1-8c00-4615-96ef-e9690b1c0c72\">\n",
              "    <div class=\"colab-df-container\">\n",
              "      <div>\n",
              "<style scoped>\n",
              "    .dataframe tbody tr th:only-of-type {\n",
              "        vertical-align: middle;\n",
              "    }\n",
              "\n",
              "    .dataframe tbody tr th {\n",
              "        vertical-align: top;\n",
              "    }\n",
              "\n",
              "    .dataframe thead th {\n",
              "        text-align: right;\n",
              "    }\n",
              "</style>\n",
              "<table border=\"1\" class=\"dataframe\">\n",
              "  <thead>\n",
              "    <tr style=\"text-align: right;\">\n",
              "      <th></th>\n",
              "      <th>id</th>\n",
              "      <th>key</th>\n",
              "      <th>title</th>\n",
              "      <th>excerpt</th>\n",
              "      <th>matched_title</th>\n",
              "      <th>description</th>\n",
              "      <th>thumbnail.mimetype</th>\n",
              "      <th>thumbnail.size</th>\n",
              "      <th>thumbnail.width</th>\n",
              "      <th>thumbnail.height</th>\n",
              "      <th>thumbnail.duration</th>\n",
              "      <th>thumbnail.url</th>\n",
              "      <th>thumbnail</th>\n",
              "    </tr>\n",
              "  </thead>\n",
              "  <tbody>\n",
              "    <tr>\n",
              "      <th>0</th>\n",
              "      <td>6081753</td>\n",
              "      <td>Canis_familiaris</td>\n",
              "      <td>Canis familiaris</td>\n",
              "      <td>Perro</td>\n",
              "      <td>Perro</td>\n",
              "      <td>especie de mamífero</td>\n",
              "      <td>image/jpeg</td>\n",
              "      <td>NaN</td>\n",
              "      <td>60.0</td>\n",
              "      <td>65.0</td>\n",
              "      <td>NaN</td>\n",
              "      <td>//upload.wikimedia.org/wikipedia/commons/thumb...</td>\n",
              "      <td>NaN</td>\n",
              "    </tr>\n",
              "    <tr>\n",
              "      <th>1</th>\n",
              "      <td>5226269</td>\n",
              "      <td>Perro_lobo</td>\n",
              "      <td>Perro lobo</td>\n",
              "      <td>Perro lobo</td>\n",
              "      <td>None</td>\n",
              "      <td>hibrido entre perro y lobo</td>\n",
              "      <td>image/jpeg</td>\n",
              "      <td>NaN</td>\n",
              "      <td>60.0</td>\n",
              "      <td>48.0</td>\n",
              "      <td>NaN</td>\n",
              "      <td>//upload.wikimedia.org/wikipedia/commons/thumb...</td>\n",
              "      <td>NaN</td>\n",
              "    </tr>\n",
              "    <tr>\n",
              "      <th>2</th>\n",
              "      <td>82064</td>\n",
              "      <td>Perrito_caliente</td>\n",
              "      <td>Perrito caliente</td>\n",
              "      <td>Perrito caliente</td>\n",
              "      <td>None</td>\n",
              "      <td>comida rápida de origen alemán</td>\n",
              "      <td>image/jpeg</td>\n",
              "      <td>NaN</td>\n",
              "      <td>60.0</td>\n",
              "      <td>40.0</td>\n",
              "      <td>NaN</td>\n",
              "      <td>//upload.wikimedia.org/wikipedia/commons/thumb...</td>\n",
              "      <td>NaN</td>\n",
              "    </tr>\n",
              "    <tr>\n",
              "      <th>3</th>\n",
              "      <td>7555149</td>\n",
              "      <td>Perro_de_guerra</td>\n",
              "      <td>Perro de guerra</td>\n",
              "      <td>Perro de guerra</td>\n",
              "      <td>None</td>\n",
              "      <td>perro entrenado para su uso en la guerra, sea ...</td>\n",
              "      <td>image/jpeg</td>\n",
              "      <td>NaN</td>\n",
              "      <td>60.0</td>\n",
              "      <td>40.0</td>\n",
              "      <td>NaN</td>\n",
              "      <td>//upload.wikimedia.org/wikipedia/commons/thumb...</td>\n",
              "      <td>NaN</td>\n",
              "    </tr>\n",
              "    <tr>\n",
              "      <th>4</th>\n",
              "      <td>6823260</td>\n",
              "      <td>Perro_Aguayo_Jr.</td>\n",
              "      <td>Perro Aguayo Jr.</td>\n",
              "      <td>Perro Aguayo Jr.</td>\n",
              "      <td>None</td>\n",
              "      <td>luchador profesional mexicano</td>\n",
              "      <td>NaN</td>\n",
              "      <td>NaN</td>\n",
              "      <td>NaN</td>\n",
              "      <td>NaN</td>\n",
              "      <td>NaN</td>\n",
              "      <td>NaN</td>\n",
              "      <td>NaN</td>\n",
              "    </tr>\n",
              "    <tr>\n",
              "      <th>5</th>\n",
              "      <td>516446</td>\n",
              "      <td>Perro_mestizo</td>\n",
              "      <td>Perro mestizo</td>\n",
              "      <td>Perro mestizo</td>\n",
              "      <td>None</td>\n",
              "      <td>perro cuya ascendencia es generalmente descono...</td>\n",
              "      <td>image/jpeg</td>\n",
              "      <td>NaN</td>\n",
              "      <td>60.0</td>\n",
              "      <td>74.0</td>\n",
              "      <td>NaN</td>\n",
              "      <td>//upload.wikimedia.org/wikipedia/commons/thumb...</td>\n",
              "      <td>NaN</td>\n",
              "    </tr>\n",
              "    <tr>\n",
              "      <th>6</th>\n",
              "      <td>707821</td>\n",
              "      <td>Perro_de_caza</td>\n",
              "      <td>Perro de caza</td>\n",
              "      <td>Perro de caza</td>\n",
              "      <td>None</td>\n",
              "      <td>compañero de cacería</td>\n",
              "      <td>image/jpeg</td>\n",
              "      <td>NaN</td>\n",
              "      <td>60.0</td>\n",
              "      <td>40.0</td>\n",
              "      <td>NaN</td>\n",
              "      <td>//upload.wikimedia.org/wikipedia/commons/thumb...</td>\n",
              "      <td>NaN</td>\n",
              "    </tr>\n",
              "    <tr>\n",
              "      <th>7</th>\n",
              "      <td>5286190</td>\n",
              "      <td>Perros_del_programa_espacial_soviético</td>\n",
              "      <td>Perros del programa espacial soviético</td>\n",
              "      <td>Perros del programa espacial soviético</td>\n",
              "      <td>None</td>\n",
              "      <td>Término del Gobierno de la Unión Soviética cua...</td>\n",
              "      <td>image/jpeg</td>\n",
              "      <td>NaN</td>\n",
              "      <td>60.0</td>\n",
              "      <td>75.0</td>\n",
              "      <td>NaN</td>\n",
              "      <td>//upload.wikimedia.org/wikipedia/commons/thumb...</td>\n",
              "      <td>NaN</td>\n",
              "    </tr>\n",
              "    <tr>\n",
              "      <th>8</th>\n",
              "      <td>1607968</td>\n",
              "      <td>Perro_Aguayo</td>\n",
              "      <td>Perro Aguayo</td>\n",
              "      <td>Perro Aguayo</td>\n",
              "      <td>None</td>\n",
              "      <td>Luchador profesional mexicano</td>\n",
              "      <td>NaN</td>\n",
              "      <td>NaN</td>\n",
              "      <td>NaN</td>\n",
              "      <td>NaN</td>\n",
              "      <td>NaN</td>\n",
              "      <td>NaN</td>\n",
              "      <td>NaN</td>\n",
              "    </tr>\n",
              "    <tr>\n",
              "      <th>9</th>\n",
              "      <td>292738</td>\n",
              "      <td>Perro_de_montaña_de_los_Pirineos</td>\n",
              "      <td>Perro de montaña de los Pirineos</td>\n",
              "      <td>Perro de montaña de los Pirineos</td>\n",
              "      <td>None</td>\n",
              "      <td>raza de perro</td>\n",
              "      <td>image/jpeg</td>\n",
              "      <td>NaN</td>\n",
              "      <td>60.0</td>\n",
              "      <td>60.0</td>\n",
              "      <td>NaN</td>\n",
              "      <td>//upload.wikimedia.org/wikipedia/commons/thumb...</td>\n",
              "      <td>NaN</td>\n",
              "    </tr>\n",
              "  </tbody>\n",
              "</table>\n",
              "</div>\n",
              "      <button class=\"colab-df-convert\" onclick=\"convertToInteractive('df-18197ac1-8c00-4615-96ef-e9690b1c0c72')\"\n",
              "              title=\"Convert this dataframe to an interactive table.\"\n",
              "              style=\"display:none;\">\n",
              "        \n",
              "  <svg xmlns=\"http://www.w3.org/2000/svg\" height=\"24px\"viewBox=\"0 0 24 24\"\n",
              "       width=\"24px\">\n",
              "    <path d=\"M0 0h24v24H0V0z\" fill=\"none\"/>\n",
              "    <path d=\"M18.56 5.44l.94 2.06.94-2.06 2.06-.94-2.06-.94-.94-2.06-.94 2.06-2.06.94zm-11 1L8.5 8.5l.94-2.06 2.06-.94-2.06-.94L8.5 2.5l-.94 2.06-2.06.94zm10 10l.94 2.06.94-2.06 2.06-.94-2.06-.94-.94-2.06-.94 2.06-2.06.94z\"/><path d=\"M17.41 7.96l-1.37-1.37c-.4-.4-.92-.59-1.43-.59-.52 0-1.04.2-1.43.59L10.3 9.45l-7.72 7.72c-.78.78-.78 2.05 0 2.83L4 21.41c.39.39.9.59 1.41.59.51 0 1.02-.2 1.41-.59l7.78-7.78 2.81-2.81c.8-.78.8-2.07 0-2.86zM5.41 20L4 18.59l7.72-7.72 1.47 1.35L5.41 20z\"/>\n",
              "  </svg>\n",
              "      </button>\n",
              "      \n",
              "  <style>\n",
              "    .colab-df-container {\n",
              "      display:flex;\n",
              "      flex-wrap:wrap;\n",
              "      gap: 12px;\n",
              "    }\n",
              "\n",
              "    .colab-df-convert {\n",
              "      background-color: #E8F0FE;\n",
              "      border: none;\n",
              "      border-radius: 50%;\n",
              "      cursor: pointer;\n",
              "      display: none;\n",
              "      fill: #1967D2;\n",
              "      height: 32px;\n",
              "      padding: 0 0 0 0;\n",
              "      width: 32px;\n",
              "    }\n",
              "\n",
              "    .colab-df-convert:hover {\n",
              "      background-color: #E2EBFA;\n",
              "      box-shadow: 0px 1px 2px rgba(60, 64, 67, 0.3), 0px 1px 3px 1px rgba(60, 64, 67, 0.15);\n",
              "      fill: #174EA6;\n",
              "    }\n",
              "\n",
              "    [theme=dark] .colab-df-convert {\n",
              "      background-color: #3B4455;\n",
              "      fill: #D2E3FC;\n",
              "    }\n",
              "\n",
              "    [theme=dark] .colab-df-convert:hover {\n",
              "      background-color: #434B5C;\n",
              "      box-shadow: 0px 1px 3px 1px rgba(0, 0, 0, 0.15);\n",
              "      filter: drop-shadow(0px 1px 2px rgba(0, 0, 0, 0.3));\n",
              "      fill: #FFFFFF;\n",
              "    }\n",
              "  </style>\n",
              "\n",
              "      <script>\n",
              "        const buttonEl =\n",
              "          document.querySelector('#df-18197ac1-8c00-4615-96ef-e9690b1c0c72 button.colab-df-convert');\n",
              "        buttonEl.style.display =\n",
              "          google.colab.kernel.accessAllowed ? 'block' : 'none';\n",
              "\n",
              "        async function convertToInteractive(key) {\n",
              "          const element = document.querySelector('#df-18197ac1-8c00-4615-96ef-e9690b1c0c72');\n",
              "          const dataTable =\n",
              "            await google.colab.kernel.invokeFunction('convertToInteractive',\n",
              "                                                     [key], {});\n",
              "          if (!dataTable) return;\n",
              "\n",
              "          const docLinkHtml = 'Like what you see? Visit the ' +\n",
              "            '<a target=\"_blank\" href=https://colab.research.google.com/notebooks/data_table.ipynb>data table notebook</a>'\n",
              "            + ' to learn more about interactive tables.';\n",
              "          element.innerHTML = '';\n",
              "          dataTable['output_type'] = 'display_data';\n",
              "          await google.colab.output.renderOutput(dataTable, element);\n",
              "          const docLink = document.createElement('div');\n",
              "          docLink.innerHTML = docLinkHtml;\n",
              "          element.appendChild(docLink);\n",
              "        }\n",
              "      </script>\n",
              "    </div>\n",
              "  </div>\n",
              "  "
            ]
          },
          "metadata": {},
          "execution_count": 29
        }
      ],
      "source": [
        "df = pd.json_normalize(request5_wiki.json()['pages'])\n",
        "df"
      ]
    },
    {
      "cell_type": "code",
      "execution_count": 22,
      "id": "7f6768ab-1c27-4d22-8021-98778633fcda",
      "metadata": {
        "id": "7f6768ab-1c27-4d22-8021-98778633fcda",
        "outputId": "3efd616b-5454-4f0a-9536-fe024e9d8132",
        "colab": {
          "base_uri": "https://localhost:8080/"
        }
      },
      "outputs": [
        {
          "output_type": "execute_result",
          "data": {
            "text/plain": [
              "200"
            ]
          },
          "metadata": {},
          "execution_count": 22
        }
      ],
      "source": [
        "buscar_titulo = 'Xoloitzcuintle'\n",
        " \n",
        "endpoint = 'https://en.wikipedia.org/w/rest.php/v1/page/' + buscar_titulo\n",
        "\n",
        "request6_wiki = requests.get(endpoint)\n",
        "\n",
        "request6_wiki.status_code"
      ]
    },
    {
      "cell_type": "code",
      "execution_count": 23,
      "id": "b6ccfd16-1dae-47eb-965c-f7156d0a1e1c",
      "metadata": {
        "id": "b6ccfd16-1dae-47eb-965c-f7156d0a1e1c",
        "outputId": "eb64c37e-484e-4831-ba72-0265ce8996e9",
        "colab": {
          "base_uri": "https://localhost:8080/"
        }
      },
      "outputs": [
        {
          "output_type": "execute_result",
          "data": {
            "text/plain": [
              "dict_keys(['id', 'key', 'title', 'latest', 'content_model', 'license', 'source'])"
            ]
          },
          "metadata": {},
          "execution_count": 23
        }
      ],
      "source": [
        "request6_wiki.json().keys()"
      ]
    },
    {
      "cell_type": "code",
      "execution_count": 25,
      "id": "d8168bfb-f8bf-4f48-b27a-f1e069b5a691",
      "metadata": {
        "id": "d8168bfb-f8bf-4f48-b27a-f1e069b5a691",
        "outputId": "c9aed57b-2cd2-418c-c190-64632b9672c4",
        "colab": {
          "base_uri": "https://localhost:8080/",
          "height": 105
        }
      },
      "outputs": [
        {
          "output_type": "execute_result",
          "data": {
            "text/plain": [
              "'{{Distinguish|Peruvian Hairless Dog}}\\n{{Infobox dog breed\\n| name           = Xoloitzcuintle\\n| image          = File:BIR Grupp 5- MEXIKANSK NAKENHUND, Lokal Hero’s King Og Hart’s Istas (23607403303).jpg\\n| image_caption  = A lighter-colored Xoloitzcuintle\\n| altname        = Xoloitzcuintle, Xoloitzquintle, Xoloitzcuintli\\n| country        = Mexico\\n| nickname       = Xolo\\n| fcistd         = http://www.fci.be/Nomenclature/Standards/234g05-en.pdf\\n| note           = National dog of Mexico\\n| coat           = Coated and Hairless\\n}}\\nThe \\'\\'\\'Xoloitzcuintle\\'\\'\\' (or \\'\\'\\'Xoloitzquintle\\'\\'\\', \\'\\'\\'Xoloitzcuintli\\'\\'\\', or \\'\\'\\'Xolo\\'\\'\\') is one of several breeds of [[hairless dog]]. It is found in standard, intermediate, and miniature sizes. The Xolo also comes in a coated variety, totally covered in fur. Coated and hairless can be born in the same litter as a result of the same combination of genes. The hairless variant is known as the \\'\\'\\'Perro pelón mexicano\\'\\'\\' or \\'\\'\\'Mexican hairless dog\\'\\'\\'.<ref>[http://www.fci.be/Nomenclature/Standards/234g05-en.pdf FCI Breed Standard]</ref> It is characterized by its duality, wrinkles, and [[List of dental abnormalities associated with cutaneous conditions|dental abnormalities]], along with a primitive temper. In [[Nahuatl]], from which its name originates, it is \\'\\'xōlōitzcuintli\\'\\' {{IPA-nah|ʃoːloːit͡sˈkʷint͡ɬi||}} (singular)<ref name=\"dic\" /> and \\'\\'xōlōitzcuintin\\'\\' {{IPA-nah|ʃoːloːit͡sˈkʷintin||}} ([[plural]]).<!-- ytzcuintin → dogs (look up \"itzcuintli\")--><ref name=\"dic\">\\'\\'Nahuatl Dictionary.\\'\\' (1997). Wired Humanities Project. University of Oregon. Retrieved September 1, 2012, from [http://whp.uoregon.edu/dictionaries/nahuatl/index.lasso link]</ref> The name comes from the god \\'\\'[[Xolotl]]\\'\\' that, according to ancient narratives, is its creator and \\'\\'itzcuīntli\\'\\' {{IPA-nah|it͡sˈkʷiːnt͡ɬi||}}, meaning \\'[[dog]]\\' in the Nahuatl language.<ref name=\"dic\" />\\n\\n==History==\\n[[File:Xoloitzcuintle (21058489659).jpg|left|thumb|Colima dog]]\\nCeramic sculptures of a hairless breed of dog have been found in burial sites in ancient West Mexico.<ref>{{Cite web|url=http://collection.imamuseum.org/artwork/34509/|title=vessel in form of a dog|website=Indianapolis Museum of Art Online Collection|language=en|access-date=2020-01-06}}</ref> In ancient times, Xolos were often sacrificed and then buried with their owners to act as guides to the soul on its journey to the [[underworld]]. They have been found in burial sites of both the Maya and the Toltec.<ref>{{Cite web|url=https://www.latimes.com/world/mexico-americas/la-fg-mexico-aztec-dog-2017-story.html|title=Mexico is in love with a $5,000 hairless dog that often wins competitions — in the ugliest category|date=2017-04-28|website=Los Angeles Times|language=en-US|access-date=2020-01-06}}</ref>\\n\\nSixteenth-century Spanish accounts tell of large numbers of dogs being served at banquets.<ref>Coe, Sophie D. (1994) \\'\\'America\\'s first cuisines\\'\\' {{ISBN|0-292-71159-X}} p112</ref> Aztec merchant feasts could have 80–100 turkeys and 20–40 dogs served as food.<ref name=\"Aguilar\" /> When these two meats were served in the same dish, the dog meat was at the bottom of the dish, either because it was held in higher regard or because it was increasingly considered a step above cannibalism.<ref name=\"Aguilar\">Aguilar-Moreno, M. (2006). \\'\\'Handbook to life in the Aztec world\\'\\'. Oxford University Press: USA. p. 329 {{ISBN|978-0-19-533083-0}}</ref>\\n\\nThe Aztecs consumed few domesticated animals, with over 90% of the bones found at archeological sites being deer.<ref name=\"Aguilar\" />\\n\\n===Genetics===\\nA 1999 genetic study using [[mitochondrial DNA]] found that the DNA sequences of the Xoloitzcuintle were identical to those of dogs from the Old World.<ref name=Vila1999/> In 2018, an analysis of DNA from the entire [[genome]] indicated that domesticated dogs entered North America from Siberia for 4,500 years and were isolated for the next 9,000 years. After contact with Europeans, these dogs were replaced by Eurasian dogs and their local descendants. The pre-contact dogs exhibited a unique genetic signature that is now almost gone<ref name=Leathlobhair2018/> due to their assimilation into the Eurasian dog gene pool. In 2020, the sequencing of ancient dog [[genomes]] indicates that in two Mexican breeds the [[Chihuahua (dog)|Chihuahua]] and Xoloitzcuintli derive 4% and 3% of their ancestry from pre-colonial dogs,<ref name=Bergström2020/> almost entirely being descended from Eurasian dogs.\\n\\nTheir [[phenotype]] is a consequence of canine [[ectodermal dysplasia]] caused by a mutation on the Foxl3 autosomal gene.<ref>{{cite journal |last1=Manin |first1=Aurélie |last2=Ollivier |first2=Morgane |last3=Bastian |first3=Fabiola |last4=Zazzo |first4=Antoine |last5=Tombret |first5=Olivier |last6=Equihua Manrique |first6=Juan Carlos |last7=Lefèvre |first7=Christine |title=Can we identify the Mexican hairless dog in the archaeological record? Morphological and genetic insights from Tizayuca, Basin of Mexico |journal=Journal of Archaeological Science |date=October 2018 |volume=98 |pages=128–136 |doi=10.1016/j.jas.2018.08.008 |url=http://eprints.whiterose.ac.uk/135572/1/Manin_et_al._Hairless_dog_revised_clean.pdf }}</ref>\\n\\n==Registry==\\n===Fédération Cynologique Internationale (FCI)===\\n{{Refimprove|section|date=March 2023}}\\nThe breed did not receive any official notice in its homeland until the 1950s. The [[Fédération Cynologique Internationale|FCI]], founded in 1940, was not prepared to declare the Xolo an official purebred at that time. According to breed historian Norman Pelham Wright, author of \\'\\'The Enigma of the Xoloitzcuintli\\'\\', Xolos began to turn up at Mexican dog shows in the late 1940s. Although they were recognized as indigenous specimens of a native breed, interest in them was minimal at that time, because information was scarce and no standard existed by which to judge them. Within a decade, the FCI realized that the breed would become extinct if drastic action were not taken to save it. This led to the widely publicized Xolo Expedition of 1954. With the official sanction of the FCI, Wright and a team of Mexican and British dog authorities set off to discover if any purebred Xolos still existed in remote areas of Mexico.{{citation needed|date=October 2020}} Eventually 10 structurally strong Xolos were found and these dogs formed the foundation of Mexico\\'s program to revive the breed. A committee headed by Wright authored the first official standard for the breed; on May 1, 1956, the Xolo was finally recognized in its native land and, as Mexico is a member of the FCI, worldwide.{{citation needed|date=October 2020}}\\n\\n===American Kennel Club (AKC)===\\n[[Image:Youngtoyxolo.jpg|thumb|left|upright|A Toy Xoloitzcuintle]]\\nXolos were among the first breeds recorded by the [[American Kennel Club]] (AKC). A Mexican dog named \\'Mee Too\\' made breed history as the first AKC-registered Xolo in 1887. \\'Chinito Junior\\', bred and owned by Valetska Radtke of New York City, became the breed\\'s only AKC champion to date. He earned his title on October 19, 1940.<ref>{{Cite web |title=Xoloitzcuintli Dog Breed Information |url=https://www.akc.org/dog-breeds/xoloitzcuintli/ |access-date=2023-04-21 |website=American Kennel Club |language=en}}</ref>\\n\\nIn 1959, the Xolo was dropped from the AKC [[stud book]] due to the breed\\'s scarcity and perceived [[extinction]]. The Xoloitzcuintli Club of America (XCA), the official parent club for the breed, was founded on October 26, 1986, to regain AKC recognition for the breed. On May 13, 2008, AKC voted to readmit the breed to its Miscellaneous Class starting January 1, 2009. The founding members voted unanimously to recognize all three sizes (toy, miniature and standard) and both varieties (hairless and coated) at their initial meeting. Since then, the XCA has compiled a stud book modeled on requirements for eventual AKC acceptance, held an annual independent specialty show, published a quarterly newsletter, \\'\\'The Xolo News\\'\\', and maintained an active national rescue network, National Xolo Rescue (known before 2009 as The Xolo Rescue League<ref>[http://www.xoloitzcuintliclubofamerica.com/id26.html National Xolo Rescue] {{webarchive |url=https://web.archive.org/web/20100626015308/http://www.xoloitzcuintliclubofamerica.com/id26.html |date=June 26, 2010 }} at the XCA website</ref>). Since January 1, 2007, FSS registered Xolos have been eligible to compete in AKC performance events. The breed was moved into the AKC Studbook in December 2010 and has been eligible to be shown in the AKC Non-Sporting group since January 1, 2011.<ref>[http://www.akc.org/breeds/xoloitzcuintli/news.cfm Xolo News] {{webarchive|url=https://web.archive.org/web/20100113205844/http://www.akc.org/breeds/xoloitzcuintli/news.cfm |date=2010-01-13 }} at AKC.org</ref>\\n\\n==Characteristics==\\n===Appearance===\\n[[File:Xoloitzcuintli - GCH Bayshore Georgio Armani 09 (16397731930).jpg|thumb|Giorgio Armani, the first Xoloitzcuintle to be named best of its breed at the Westminster Dog Show.<ref name=\"Purina\">{{cite web|url=https://www.purinaproclub.com/awards-recognition/circle-of-champions-show/armani|title=GCH Bayshore\\'s Giorgio Armani Leads the Way for Xoloitzcuintli Breed|publisher=[[Ralston Purina|Purina]] ProClub|access-date=11 April 2015}}</ref> He has achieved four Bests in Show and 27 Group Firsts since joining the American Kennel Club\\'s [[Non-Sporting Group]] in January 2011.<ref name=\"Purina\" />]]\\nThe breed ranges in size from about 10 to 55&nbsp;lb (5 to 23&nbsp;kg). The height is 9 to 26 inches (23–67&nbsp;cm). Similar in appearance to a [[Pharaoh Hound]], with a sleek body, almond-shaped eyes, large bat-like ears, and a long neck, the Xolo is notable for its dominant trait of hairlessness.<ref>{{cite journal |last1=Kimura |first1=T. |last2=Ohshima |first2=S. |last3=Doi |first3=K. |title=The inheritance and breeding results of hairless descendants of Mexican hairless dogs |journal=Laboratory Animals |date=1 January 1993 |volume=27 |issue=1 |pages=55–58 |doi=10.1258/002367793781082403 |pmid=8437436 |s2cid=21822477 |doi-access=free }}</ref> The dominant hairless trait originated in this breed as a spontaneous mutation thousands of years ago. The recessive expression of the trait will produce a coated variety, which is genetically inseparable from the hairless, as the [[Zygosity#Homozygous|homozygous]] appearance of the hairless mutation is fatal to the unborn pup.<ref name=\"FCI-standard\">{{Cite web|url=http://www.fci.be/uploaded_files/234g05-en.doc |title=FCI-Standard N° 234: XOLOITZCUINTLE (Hairless Variety & Coated Variety) |date=2011-02-16 |publisher=Fédération Cynologique Internationale |access-date=2012-08-20 |url-status=dead |archive-url=https://web.archive.org/web/20131101092908/http://www.fci.be/uploaded_files/234g05-en.doc |archive-date=2013-11-01 }}</ref> Most litters contain both hairless and coated puppies. The coated variety, covered with a short, flat dense coat represents the original form of the dog, prior to the occurrence of the spontaneous hairless mutation.<ref>{{cite web|url=http://www.xoloitzcuintliclubofamerica.com |title=xoloitzcuintliclubofamerica.com |url-status=dead |archive-url=https://web.archive.org/web/20080527041832/http://www.xoloitzcuintliclubofamerica.com/ |archive-date=May 27, 2008 }}</ref> The hairless variety is completely hairless on the body, with many dogs exhibiting a few short hairs on the top of the head, the toes, and the tip of the tail. Most hairless dogs are black or bluish-gray in color.\\nThe allele responsible for the Xolo\\'s hairlessness also affects the dog\\'s dentition: Hairless Xolos typically have an incomplete set of teeth while the dogs of the coated variety have complete dentition.\\n\\nThe Xolo is moderate in all aspects of its appearance, conveying an impression of strength, agility, and elegance. Xolo body proportions are rectangular, slightly longer in total body length than the height measured at the highest point of the withers (top of the shoulders). The breed occurs naturally in two varieties, hairless and coated. Hairless Xolos are the dominant expression of the heterozygous Hh hairless trait.<ref>{{cite journal |last1=Drögemüller |first1=Cord |last2=Karlsson |first2=Elinor K. |last3=Hytönen |first3=Marjo K. |last4=Perloski |first4=Michele |last5=Dolf |first5=Gaudenz |last6=Sainio |first6=Kirsi |last7=Lohi |first7=Hannes |last8=Lindblad-Toh |first8=Kerstin |last9=Leeb |first9=Tosso |title=A Mutation in Hairless Dogs Implicates FOXI3 in Ectodermal Development |journal=Science |date=12 September 2008 |volume=321 |issue=5895 |pages=1462 |doi=10.1126/science.1162525 |pmid=18787161 |bibcode=2008Sci...321.1462D |s2cid=206514824 }}</ref> Coated Xolos (hh) are the recessive expression, and breeding hairless to coated or hairless to hairless may produce pups of either or both varieties. Breeding coated to coated will only produce coated pups because they are recessive to the hairless trait and do not carry the dominant H gene.\\n\\nBoth varieties occur in all hair or skin colors, and the skin is often marked, splashed, or spotted. The most common colors are various shades termed black, grey, bronze, yellowish-blonde, blue and red. The breed occurs in a range of sizes, which breeders have standardized into three designations: Standard, Miniature and Toy.\\n\\n===Temperament===\\n{{Unreferenced section|date=January 2020}}\\n[[File:Hairless and coated half.JPG|thumb|Hairless and coated Xoloitzquintin]]\\n[[File:Xolobebe.jpg|thumb|A newborn Xoloitzcuintle]]\\nThe Xoloitzcuintle\\'s \\'primitive\\' temperament (very high intelligence, sensitivity, high energy, inquisitiveness, strong hunting, and social instincts) is apparent because the breed\\'s temperament was not modified overall by selective breeding in their native history in Mexico. This has also ensured a sturdy physical nature and vigorous health generally innate in both coated and hairless Xolos. Adult Xolos are frequently noted for their calm demeanor, although puppies can be extremely energetic, noisy, and very oral until they reach maturity (after 2 years old), after which they tend to settle down, bark less, and become more calm. Inadequately supervised or exercised Xolos can become escape artists, climbing and jumping fences to chase. Many individuals of this breed can possess guard dog ability and will not back down from a fight. At the same time, adult dogs, when they are raised properly, can become steady, well-behaved, and affectionate companions.{{citation needed|date=October 2020}}\\n\\nThough physically grown at 1 year, many dog breeds including Xolos, are not \\'emotionally mature\\' until around 2 years. Like active breeds such as terriers, Xolos need calm, consistent and loving obedience training and regular socialization during their growing years. Well-raised Xolos bond strongly with their owners, becoming highly devoted to their families while frequently choosing one specific family member as favorite.{{citation needed|date=October 2020}}\\n\\nAnyone considering acquiring a Xolo should expect to spend time educating themselves in positive reinforcement dog training techniques and, ideally, should have prior experience with active and intelligent dog breeds. A spacious, well-fenced, and safe physical environment is desirable for this breed. Daily walks are ideal for exercising most Toy-sized Xolos; however, more stimulating physical and mental exercise is advised for larger and more active individuals. Behavior problems in Xolos are typically a result of a dog receiving inadequate or inconsistent supervision, as well as inadequate exercise and mental stimulation. The Xoloitzcuintle is a social dog that should not, in most cases, be an \"only dog\". It does not do well when kept as an outside-only dog. This is a breed that is at its best when it is made part of the family, receiving regular interaction and socialization with its humans (and other dogs, whether present in the home or as regular playmates).{{citation needed|date=October 2020}}\\n\\n===Health===\\nThe Xolo has been developed by natural selection for thousands of years, and is therefore generally not prone to health and structure problems as other dog breeds more modified by human selection efforts. Xolos came from tropical climates and are not suited for outdoor life in colder temperate and northern climates; they should be considered an indoor dog breed.{{failed verification|date=May 2015}} They need bathing, light grooming and skin care as with other dogs of similar physical type, or acne can result. Most skin problems arise from poor breeding, neglect, or over-bathing and over-lotioning, stripping natural protections and clogging pores.<ref>{{cite journal |last1=Kimura |first1=Tohru |last2=Doi |first2=Kunio |title=Spontaneous Comedones on the Skin of Hairless Descendants of Mexican Hairless Dogs |journal=Experimental Animals |date=1996 |volume=45 |issue=4 |pages=377–384 |doi=10.1538/expanim.45.377 |pmid=8902502 |doi-access=free }}</ref><ref>{{cite journal |last1=Kimura |first1=Tohru |title=Studies on Development of Hairless Descendants of Mexican Hairless Dogs and Their Usefulness in Dermatological Science |journal=Experimental Animals |date=1996 |volume=45 |issue=1 |pages=1–13 |doi=10.1538/expanim.45.1 |pmid=8689575 |doi-access=free }}</ref>\\n\\n== In contemporary culture ==\\n[[File:Diego Rivera with a xoloitzcuintle dog in the Blue House, Coyoacan - Google Art Project.jpg|thumb|Artist [[Diego Rivera]] with a Xoloitzquintle at the [[Frida Kahlo Museum|Casa Azul]]]]\\n\\nXoloitzcuintles have been receiving more recognition in recent years, this can be seen in increased representation in popular culture and in the popularity of the dog as a pet.<ref name=\":1\">{{Cite web|last=Serrato|first=Jacqueline|title=Aztec dog gains popularity in US after \\'Coco\\'|url=https://www.chicagotribune.com/hoy/ct-aztec-dog-gains-popularity-in-us-after-coco-20171117-story.html|access-date=2020-10-23|website=chicagotribune.com}}</ref> [[El Carmen complex|Museo El Carmen]] in [[Mexico City]] exhibited a show titled \\'\\'Xolos, compañeros de viaje\\'\\' (Xolos, travel companions) in 2019–20 of more than 100 artifacts – ceramics, remains, and artworks – overviewing the importance of the Xoloitzcuintle in Mexican heritage.<ref>{{Cite web|url=https://www.milenio.com/cultura/arte/museo-carmen-inaugura-expo-xolos-muertos|title=Museo de El Carmen inaugura expo sobre los xolos por el Día de Muertos|website=www.milenio.com|access-date=2020-01-07}}</ref> A Xolo named Dante stars in the US blockbuster [[Computer animation|CGI animation]] 2017 [[Disney]]/[[Pixar]] film \\'\\'[[Coco (2017 film)|Coco]]\\'\\'.<ref name=\":1\" /> On August 12, 2016, the Mayor of [[Mexico City]] [[Miguel Ángel Mancera]] designated the Xoloitzcuintle a \"cultural heritage and symbol\" of Mexico City.<ref>{{citation|url=https://www.eluniversal.com.mx/articulo/cultura/patrimonio/2016/08/12/declaran-al-xoloitzcuintle-patrimonio-de-la-ciudad-de-mexico|date=August 12, 2016|title=Xoloitzcuintle patrimonio de la CDMX|work=[[El Universal (Mexico City)|El Universal]]}}</ref><ref name=\":0\">{{Cite web|date=2016-08-12|title=Xoloitzcuintle, el perro azteca, patrimonio de la CDMX|url=https://www.excelsior.com.mx/comunidad/2016/08/12/1110619|access-date=2020-01-06|website=Excélsior|language=es}}</ref> The [[Museo Dolores Olmedo|Dolores Olmedo Museum]] keeps a pack of Xolos on their grounds.<ref>{{Cite web|date=2019-11-04|title=Museo Dolores Olmedo y sus xoloitzcuintles: todo lo que debes saber antes de visitarlo|url=https://www.eluniversal.com.mx/destinos/lo-que-debes-saber-del-museo-dolores-olmedo-y-sus-xoloitzcuintles|access-date=2020-10-23|website=El Universal|language=es}}</ref>\\n\\nThe Xoloitzcuintle is the symbol and mascot of [[Club Tijuana]], the Xoloitzcuintles de Caliente, a professional soccer club founded in 2007.  Xolos are depicted in some of Mexican artist [[Frida Kahlo]]\\'s paintings,<ref>{{cite web|url=https://lisawallerrogers.com/tag/frida-kahlo-and-her-itzcuintli-dogs/|title=Frida Kahlo and her Itzcuintli Dogs}}</ref> one of which is commemorated on the 2007 500-[[Mexican peso|peso]] note, featuring Kahlo\\'s painting titled \\'\\'Love\\'s Embrace of the Universe, Earth, (Mexico), I, Diego, and Mr. Xólotl\\'\\' (1949) on the reverse of the note.<ref name=Banxico>{{cite web|url=http://www.banxico.org.mx/billetes-y-monedas/informacion-general/billetes-y-monedas-de-fabricacion-actual/billete-de-500-pesos/material-educativo/%7B601FEB0F-63F6-A3AF-C803-A064AC6BEE74%7D.pdf |title=Presentación del nuevo billete de quinientos pesos |work=[[Bank of Mexico]] |access-date=11 September 2010 |url-status=dead |archive-url=https://web.archive.org/web/20100923004604/http://www.banxico.org.mx/billetes-y-monedas/informacion-general/billetes-y-monedas-de-fabricacion-actual/billete-de-500-pesos/material-educativo/%7B601FEB0F-63F6-A3AF-C803-A064AC6BEE74%7D.pdf |archive-date=23 September 2010 }}</ref> [[Diego Rivera]]\\'s large murals, [[The History of Mexico (mural)|\\'\\'The History of Mexico\\'\\']], in the [[National Palace (Mexico)|Palacio Nacional]] in Mexico City feature numerous Xolos.<ref name=\"Lozano\">Rivera, Luis-Martin Lozano & Juan Rafael Coronel. \\'\\'Diego Rivera The Complete Murals\\'\\'. Italy: TASCHEN GmbH, 2008. Print</ref>\\n\\n==See also==\\n* [[Chinese Crested Dog]]\\n* [[Portal:Dogs|Dogs portal]]\\n* [[List of dog breeds]]\\n* [[Hairless dog]]\\n* [[Peruvian Hairless Dog|Peruvian Inca Orchid]]\\n\\n==References==\\n{{Reflist|refs=\\n\\n<ref name=Bergström2020>{{cite journal|doi=10.1126/science.aba9572|title=Origins and genetic legacy of prehistoric dogs|year=2020|last1=Bergström|first1=Anders|last2=Frantz|first2=Laurent|last3=Schmidt|first3=Ryan|last4=Ersmark|first4=Erik|last5=Lebrasseur|first5=Ophelie|last6=Girdland-Flink|first6=Linus|last7=Lin|first7=Audrey T.|last8=Storå|first8=Jan|last9=Sjögren|first9=Karl-Göran|last10=Anthony|first10=David|last11=Antipina|first11=Ekaterina|last12=Amiri|first12=Sarieh|last13=Bar-Oz|first13=Guy|last14=Bazaliiskii|first14=Vladimir I.|last15=Bulatović|first15=Jelena|last16=Brown|first16=Dorcas|last17=Carmagnini|first17=Alberto|last18=Davy|first18=Tom|last19=Fedorov|first19=Sergey|last20=Fiore|first20=Ivana|last21=Fulton|first21=Deirdre|last22=Germonpré|first22=Mietje|last23=Haile|first23=James|last24=Irving-Pease|first24=Evan K.|last25=Jamieson|first25=Alexandra|last26=Janssens|first26=Luc|last27=Kirillova|first27=Irina|last28=Horwitz|first28=Liora Kolska|last29=Kuzmanovic-Cvetković|first29=Julka|last30=Kuzmin|first30=Yaroslav|last31=Losey|first31=Robert J.|last32=Dizdar|first32=Daria Ložnjak|last33=Mashkour|first33=Marjan|last34=Novak|first34=Mario|last35=Onar|first35=Vedat|last36=Orton|first36=David|last37=Pasaric|first37=Maja|last38=Radivojevic|first38=Miljana|last39=Rajkovic|first39=Dragana|last40=Roberts|first40=Benjamin|last41=Ryan|first41=Hannah|last42=Sablin|first42=Mikhail|journal=Science|volume=370|issue=6516|pages=557–564|pmid=33122379|pmc=7116352|s2cid=225956269}}</ref>\\n\\n<ref name=Leathlobhair2018>{{cite journal |last1=Ní Leathlobhair |first1=Máire |last2=Perri |first2=Angela R. |last3=Irving-Pease |first3=Evan K. |last4=Witt |first4=Kelsey E. |last5=Linderholm |first5=Anna |last6=Haile |first6=James |last7=Lebrasseur |first7=Ophelie |last8=Ameen |first8=Carly |last9=Blick |first9=Jeffrey |last10=Boyko |first10=Adam R. |last11=Brace |first11=Selina |last12=Cortes |first12=Yahaira Nunes |last13=Crockford |first13=Susan J. |last14=Devault |first14=Alison |last15=Dimopoulos |first15=Evangelos A. |last16=Eldridge |first16=Morley |last17=Enk |first17=Jacob |last18=Gopalakrishnan |first18=Shyam |last19=Gori |first19=Kevin |last20=Grimes |first20=Vaughan |last21=Guiry |first21=Eric |last22=Hansen |first22=Anders J. |last23=Hulme-Beaman |first23=Ardern |last24=Johnson |first24=John |last25=Kitchen |first25=Andrew |last26=Kasparov |first26=Aleksei K. |last27=Kwon |first27=Young-Mi |last28=Nikolskiy |first28=Pavel A. |last29=Lope |first29=Carlos Peraza |last30=Manin |first30=Aurélie |last31=Martin |first31=Terrance |last32=Meyer |first32=Michael |last33=Myers |first33=Kelsey Noack |last34=Omura |first34=Mark |last35=Rouillard |first35=Jean-Marie |last36=Pavlova |first36=Elena Y. |last37=Sciulli |first37=Paul |last38=Sinding |first38=Mikkel-Holger S. |last39=Strakova |first39=Andrea |last40=Ivanova |first40=Varvara V. |last41=Widga |first41=Christopher |last42=Willerslev |first42=Eske |last43=Pitulko |first43=Vladimir V. |last44=Barnes |first44=Ian |last45=Gilbert |first45=M. Thomas P. |last46=Dobney |first46=Keith M. |last47=Malhi |first47=Ripan S. |last48=Murchison |first48=Elizabeth P. |last49=Larson |first49=Greger |last50=Frantz |first50=Laurent A. F. |title=The evolutionary history of dogs in the Americas |journal=Science |date=6 July 2018 |volume=361 |issue=6397 |pages=81–85 |doi=10.1126/science.aao4776 |pmid=29976825 |pmc=7116273 |bibcode=2018Sci...361...81N |s2cid=206663458 |doi-access=free }}</ref>\\n\\n<ref name=Vila1999>{{cite journal |last1=Vila |first1=C. |title=Phylogenetic relationships, evolution, and genetic diversity of the domestic dog |journal=Journal of Heredity |date=1 January 1999 |volume=90 |issue=1 |pages=71–77 |doi=10.1093/jhered/90.1.71 |pmid=9987908 |doi-access=free }}</ref>\\n\\n}}\\n\\n==Further reading==\\n* \\'\\'The Xolo Handbook\\'\\'. Xoloitzcuintli Club of America, 1999.\\n* {{cite journal |last1=Parker |first1=Heidi G. |last2=Harris |first2=Alexander |last3=Dreger |first3=Dayna L. |last4=Davis |first4=Brian W. |last5=Ostrander |first5=Elaine A. |title=The bald and the beautiful: hairlessness in domestic dog breeds |journal=Philosophical Transactions of the Royal Society B: Biological Sciences |date=5 February 2017 |volume=372 |issue=1713 |doi=10.1098/rstb.2015.0488 |pmid=27994129 |pmc=5182420 }}\\n\\n==External links==\\n{{Commons category|Xoloitzquintle}}\\n* [http://www.xoloitzcuintliclubofamerica.org The Xoloitzcuintli Club of America (XCA)], AKC Xolo parent club\\n* [https://web.archive.org/web/20110827104309/http://www.cesarsway.com/news/dognews/New-AKC-Recognized-Breed-The-Xolo \"New AKC Recognized Breed: The Xolo\", Cesar\\'s Way, July 2011]\\n* [http://www.akc.org/breeds/xoloitzcuintli/index.cfm American Kennel Club (AKC) Xoloitzcuintli information page]\\n* [http://www.urcanis.com URCANIS breeding club of Sweden]\\n\\n{{Mexican dogs}}\\n{{Primitive dogs}}\\n{{Authority control}}\\n\\n[[Category:Companion dogs]]\\n[[Category:Dog breeds originating in Mexico]]\\n[[Category:Dog meat]]\\n[[Category:FCI breeds]]\\n[[Category:Hairless dogs]]'"
            ],
            "application/vnd.google.colaboratory.intrinsic+json": {
              "type": "string"
            }
          },
          "metadata": {},
          "execution_count": 25
        }
      ],
      "source": [
        "df = pd.json_normalize(request6_wiki.json())\n",
        "df['source'][0]"
      ]
    },
    {
      "cell_type": "code",
      "execution_count": 34,
      "id": "7041b9ee-3ac3-4d5b-b561-c824644fb4a6",
      "metadata": {
        "id": "7041b9ee-3ac3-4d5b-b561-c824644fb4a6",
        "outputId": "b5934e06-7143-4996-d229-ef52da8beed6",
        "colab": {
          "base_uri": "https://localhost:8080/"
        }
      },
      "outputs": [
        {
          "output_type": "execute_result",
          "data": {
            "text/plain": [
              "200"
            ]
          },
          "metadata": {},
          "execution_count": 34
        }
      ],
      "source": [
        "buscar_titulo = df[\"key\"][0]\n",
        " \n",
        "endpoint = 'https://es.wikipedia.org/w/api.php'\n",
        "#endpoint = 'https://en.wikipedia.org/w/api.php'\n",
        "\n",
        "params = {\n",
        "            'action' : 'query',\n",
        "            'format' : 'json',\n",
        "            'titles' : buscar_titulo, \n",
        "            'prop' : 'extracts'\n",
        "        }\n",
        "\n",
        "request5_wiki = requests.get(endpoint, params=params)\n",
        "\n",
        "request5_wiki.status_code"
      ]
    },
    {
      "cell_type": "code",
      "source": [
        "df5 =  pd.json_normalize(request5_wiki.json()['query'])"
      ],
      "metadata": {
        "id": "RlTjvkclcd3l"
      },
      "id": "RlTjvkclcd3l",
      "execution_count": 37,
      "outputs": []
    },
    {
      "cell_type": "code",
      "source": [
        "df5.columns[-1]"
      ],
      "metadata": {
        "id": "UU7CMKqLdbha",
        "outputId": "f64cd0d8-8ef7-4a16-824c-beb5601e8359",
        "colab": {
          "base_uri": "https://localhost:8080/",
          "height": 34
        }
      },
      "id": "UU7CMKqLdbha",
      "execution_count": 39,
      "outputs": [
        {
          "output_type": "execute_result",
          "data": {
            "text/plain": [
              "'pages.6741.extract'"
            ],
            "application/vnd.google.colaboratory.intrinsic+json": {
              "type": "string"
            }
          },
          "metadata": {},
          "execution_count": 39
        }
      ]
    },
    {
      "cell_type": "code",
      "source": [
        "for key in df[\"key\"][0:10]:\n",
        "  buscar_titulo = key\n",
        "  endpoint = 'https://es.wikipedia.org/w/api.php'\n",
        "\n",
        "  params = {\n",
        "            'action' : 'query',\n",
        "            'format' : 'json',\n",
        "            'titles' : buscar_titulo, \n",
        "            'prop' : 'extracts',\n",
        "            'exintro': True,\n",
        "            'explaintext': True\n",
        "        }\n",
        "\n",
        "  requests_wiki = requests.get(endpoint, params=params)\n",
        "  df_data = pd.json_normalize(requests_wiki.json()['query'])\n",
        "  print(key,\" (Resumen)\")\n",
        "  print(df_data[df_data.columns[-1]][0])\n",
        "  print(\"\\n\")\n"
      ],
      "metadata": {
        "id": "EOvWWlwlcwAT",
        "outputId": "4167bb4f-bf0c-488b-d993-4d56c29a388a",
        "colab": {
          "base_uri": "https://localhost:8080/"
        }
      },
      "id": "EOvWWlwlcwAT",
      "execution_count": 50,
      "outputs": [
        {
          "output_type": "stream",
          "name": "stdout",
          "text": [
            "Canis_familiaris  (Resumen)\n",
            "El perro (Canis familiaris o Canis lupus familiaris, dependiendo de si se lo considera una especie por derecho propio o una subespecie del lobo),[1]​[2]​[3]​ llamado perro doméstico o can,[4]​ y en algunos lugares coloquialmente llamado chucho,[5]​ tuso,[6]​ choco,[7]​ entre otros; es un mamífero carnívoro de la familia de los cánidos, que constituye una especie del género Canis.[8]​[9]​ En el 2013, la población mundial estimada de perros estaba entre setecientos millones y novecientos ochenta y siete millones.[10]​[11]​ Su tamaño (o talla), su forma y su pelaje es muy diverso y varía según la raza. Posee un oído y un olfato muy desarrollados, y este último es su principal órgano sensorial. Su longevidad media es de diez a trece años,[12]​[13]​[14]​ dependiendo de la raza. Junto al gato doméstico, se le considera uno de los animales de compañía más populares del mundo.\n",
            "El perro doméstico proviene de un grupo ancestral común que data de hace aproximadamente treinta mil años, y desde entonces se ha extendido a todas partes del mundo.[15]​ Los primeros restos fósiles de perros enterrados junto con seres humanos se encontraron en Israel, y datan de hace unos doce mil años.[16]​ Desde entonces, los perros y los humanos han evolucionado conjuntamente, tanto en las culturas africanas y euroasiáticas, como en las que poblaron América y se mantuvieron sin contacto con aquellas hasta el siglo XV.[17]​ Los perros comparten el entorno, los hábitos y el estilo de vida humanos, como las dietas ricas en cereales y almidón. La alimentación inadecuada, así como el uso de antibióticos, son la causa del desarrollo de muchas enfermedades inflamatorias e inmunológicas. Unas cuatrocientas enfermedades del perro tienen una equivalente humana, y destacan especialmente la enfermedad de Alzheimer y otros trastornos neurológicos, así como varios tipos de cáncer, enfermedades autoinmunes y enfermedades cardiovasculares.[18]​[19]​[20]​[21]​\n",
            "Tienen una gran relación con los humanos, entre tales relaciones se incluyen servir como animales de compañía, animales de guardia, perros de trabajo, perros de caza, galgos de carrera, perros guía, perros pastores o perros boyeros.[cita requerida]\n",
            "\n",
            "\n",
            "Perro_lobo  (Resumen)\n",
            "Un perro lobo (también llamado híbrido lobo-perro, lobo híbrido o lubican) es un híbrido canino que resulta del apareamiento de un lobo gris (diversas subespecies de Canis lupus) y un perro (Canis lupus familiaris). En inglés el término «wolfdog» es preferido por la mayoría de los impulsores de estos animales y criadores porque el perro doméstico fue taxonómicamente recategorizado recientemente como una subespecie del lobo gris. La Asociación de Médicos Veterinarios estadounidenses y el Departamento de Agricultura de los Estados Unidos se refieren a estos animales como híbridos lobo-perro.[1]​ Las organizaciones de rescate animal consideran que un perro lobo es cualquier perro con herencia de lobo dentro de las últimas cinco generaciones, incluyendo a algunas razas establecidas de perros lobo.[2]​\n",
            "En 1998, el Departamento de Agricultura de los Estados Unidos estimó una población aproximada de 300 000 perros lobo en los Estados Unidos (la más alta de cualquier país del mundo), mientras que otras fuentes indicaban una población quizás tan alta como 500 000[1]​\n",
            "En los híbridos de primera generación, los lobos grises eran frecuentemente cruzados con perros parecidos a lobos (tales como Malamutes de Alaska, huskies siberianos y pastores alemanes) para obtener una apariencia más atractiva para los dueños que deseaban una mascota exótica.[3]​\n",
            "\n",
            "\n",
            "Perrito_caliente  (Resumen)\n",
            "El perrito caliente, (del inglés hot dog, ‘perro caliente’) también llamado completo, pancho, jocho, shuco o pan con perro, es un alimento en forma de bocadillo que se genera con la combinación de una salchicha del tipo salchicha de Frankfurt (frankfurter) o vienesa (wiener) hervida o frita, servida en un pan con forma alargada que suele acompañarse con algún aderezo, como salsa de tomate, mostaza, jalapeño, cebolla, y chucrut.\n",
            "El tipo de salchicha empleado en la elaboración del alimento puede diferir según los gustos de la región y de los ingredientes disponibles. \n",
            "El perrito caliente fue importado de Alemania y popularizado en los Estados Unidos, donde se convirtió en un alimento callejero para la clase trabajadora.[1]​[2]​[3]​ Particularmente conectado con la ciudad de Nueva York y fuertemente conectado con la cultura del béisbol estadounidense, desde su llegada a América emergió como una importante pieza en la cultura regional de muchas otras partes como lo es en los estados de Baja California Sur y Sonora en México. Se ha difundido enormemente en todo el mundo desde principios del siglo XX, llegando a ser un alimento que puede encontrarse en cualquier parte y se creó en 1860.\n",
            "\n",
            "\n",
            "Perro_de_guerra  (Resumen)\n",
            "Un perro de guerra es un can que sirve en un ejército para cumplir un rol en la guerra.\n",
            "Desde tiempos antiguos, los perros tienen una larga historia en la guerra. Han sido entrenados para su uso en combate, como centinelas, exploradores y rastreadores. Su utilización ha sido muy variada.\n",
            "\n",
            "\n",
            "Perro_Aguayo_Jr.  (Resumen)\n",
            "Pedro Aguayo Ramírez (Tala, Jalisco, 23 de julio de 1979 - Tijuana, Baja California, 21 de marzo de 2015) fue un luchador profesional y promotor mexicano. Fue principalmente conocido en la lucha libre bajo el nombre Perro Aguayo Jr. o El Hijo del Perro Aguayo. Aguayo era el hijo en la vida real del luchador Perro Aguayo, quien es considerado una leyenda dentro del deporte. Fue líder del stable Los Perros del Mal, que él comenzó en el Consejo Mundial de Lucha Libre (CMLL) a mediados de 2004. El stable se convirtió en un atractivo importante en la lucha libre profesional mexicana, alcanzando mayor reconocimiento durante los feudos de Aguayo contra Místico y Héctor Garza. En octubre de 2008, Aguayo dejó el CMLL para comenzar su propia promoción de lucha libre profesional independiente, Perros del Mal Producciones, construida junto los miembros de su stable Los Perros del Mal. En junio de 2010, Aguayo regresó a la empresa Lucha Libre AAA Worldwide (AAA), después de una ausencia de siete años, para comenzar una storyline de invasión que involucró a su stable.\n",
            "\n",
            "\n",
            "Perro_mestizo  (Resumen)\n",
            "Se denomina perro mestizo al perro sin pedigrí, cuya ascendencia es generalmente desconocida, que tiene características de dos o más tipos de razas, o es descendiente de poblaciones de perros salvajes o callejeros. En Honduras y El Salvador son muy comunes llamándoles \"Aguacateros\", en Costa Rica se les conoce como “Zaguates”, en Guatemala como \"chuchos\", en Ecuador como \"runas\", en Chile como \"quiltros\", en Venezuela y Colombia se les llama \"criollos\", en Panamá se les conoce como “tinaqueros”, en Perú coloquialmente como \"chuscos\", \"cruzados\" o \"de raza mixta\", en República Dominicana como “viralatas\" y en Cuba,  como \"perros satos\", los cuales también son muy comunes en las calles, como consecuencia de la falta de leyes para la protección animal en la isla caribeña y en general, en toda América latina. La \"Raza aleatoria\" es un término genético para referirse a un animal, población, o raza que se crio y desarrolló sin la intervención planificada de los seres humanos, y cuyo ancestro y composición son generalmente desconocidos.\n",
            "Un perro mestizo o de raza mixta es un perro que no pertenece a ninguna raza reconocida por organizaciones de criadores y que es resultado de una crianza no selectiva.[1]​\n",
            "\n",
            "\n",
            "Perro_de_caza  (Resumen)\n",
            "Los perros de caza son aquellos canes utilizados para asistir al ser humano durante la cacería. Por lo general, los perros de caza se mueven en tres categorías principales: perro perdiguero o de cobro, perro de aguas y perro pointer o de muestra.\n",
            "La caza fue la última de las actividades que el hombre y el perro realizaron de forma conjunta desde su domesticación. A lo largo de este periodo de miles de años, el hombre ha ido seleccionando al perro para las distintas tareas que le eran necesarias, de tal forma que en la actualidad existen cientos de razas distintas y muy especializadas.\n",
            "\n",
            "\n",
            "Perros_del_programa_espacial_soviético  (Resumen)\n",
            "Durante los años 1950 y 1960, el Gobierno de la Unión Soviética utilizó varios perros en vuelos suborbitales y dentro de órbita para determinar que cualquier cosmonauta humano sea capaz de aguantar una hipotética misión espacial. En este periodo, la Unión Soviética realizó el lanzamiento de 57 cohetes en los que los pasajeros eran perros. El número real de canes en el espacio fue menor, puesto que algunos volaron en más de una ocasión. La mayoría sobrevivió, mientras que unos pocos fallecieron por causas técnicas o bien, como en el caso de la perra Laika, previstas desde el comienzo de la misión.\n",
            "\n",
            "\n",
            "Perro_Aguayo  (Resumen)\n",
            "Pedro Aguayo Damián (Nochistlán, Zacatecas, 28 de enero de 1946 - Tala, Jalisco, 3 de julio de 2019) mejor conocido como El Perro Aguayo o El Can de Nochistlán fue un famoso luchador mexicano de los años 70 a 90. Fue el primer luchador en coronarse Campeón Mundial de Peso Ligero de la WWF. Era el padre del luchador de la AAA Perro Aguayo Jr., fallecido en 2015.\n",
            "\n",
            "\n",
            "Perro_de_montaña_de_los_Pirineos  (Resumen)\n",
            "El perro de montaña de los Pirineos o gran pirineo es una raza de perro grande y majestuosa, usada tradicionalmente para proteger ganado ovino y empleado en los últimos años como perro de rescate y de terapia debido a su instinto pasivo y encantador. Es una raza de perro usada principalmente para el trabajo exterior, debido a su versatilidad ante las actividades. \n",
            "Hoy día la especie ha excedido con creces su ámbito geográfico habitual y es especialmente valorada en Australia y los Estados Unidos de América como perro pastor y guardián en grandes extensiones de pastos. Su nombre proviene de su lugar de origen, que es la frontera natural de la cordillera montañosa de la península ibérica entre España y Francia llamada Los Pirineos.\n",
            "\n",
            "\n",
            "\n",
            "\n"
          ]
        }
      ]
    },
    {
      "cell_type": "code",
      "source": [],
      "metadata": {
        "id": "EWzRTLCpczEV"
      },
      "id": "EWzRTLCpczEV",
      "execution_count": null,
      "outputs": []
    }
  ],
  "metadata": {
    "kernelspec": {
      "display_name": "Python 3",
      "language": "python",
      "name": "python3"
    },
    "language_info": {
      "codemirror_mode": {
        "name": "ipython",
        "version": 3
      },
      "file_extension": ".py",
      "mimetype": "text/x-python",
      "name": "python",
      "nbconvert_exporter": "python",
      "pygments_lexer": "ipython3",
      "version": "3.8.13"
    },
    "colab": {
      "provenance": []
    }
  },
  "nbformat": 4,
  "nbformat_minor": 5
}