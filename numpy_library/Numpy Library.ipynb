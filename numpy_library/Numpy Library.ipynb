{
 "cells": [
  {
   "cell_type": "markdown",
   "id": "b2a4bf11",
   "metadata": {},
   "source": [
    "# Numpy Library"
   ]
  },
  {
   "cell_type": "markdown",
   "id": "2c22bea9",
   "metadata": {},
   "source": [
    "Here I learn how to use numpy library"
   ]
  },
  {
   "cell_type": "code",
   "execution_count": 1,
   "id": "08bac9d2",
   "metadata": {},
   "outputs": [],
   "source": [
    "import numpy as np"
   ]
  },
  {
   "cell_type": "markdown",
   "id": "d13cd48e",
   "metadata": {},
   "source": [
    "### Generate numbers"
   ]
  },
  {
   "cell_type": "code",
   "execution_count": 3,
   "id": "53f31e49",
   "metadata": {},
   "outputs": [
    {
     "data": {
      "text/plain": [
       "array([  3. ,   4.5,   6. ,   7.5,   9. ,  10.5,  12. ,  13.5,  15. ,\n",
       "        16.5,  18. ,  19.5,  21. ,  22.5,  24. ,  25.5,  27. ,  28.5,\n",
       "        30. ,  31.5,  33. ,  34.5,  36. ,  37.5,  39. ,  40.5,  42. ,\n",
       "        43.5,  45. ,  46.5,  48. ,  49.5,  51. ,  52.5,  54. ,  55.5,\n",
       "        57. ,  58.5,  60. ,  61.5,  63. ,  64.5,  66. ,  67.5,  69. ,\n",
       "        70.5,  72. ,  73.5,  75. ,  76.5,  78. ,  79.5,  81. ,  82.5,\n",
       "        84. ,  85.5,  87. ,  88.5,  90. ,  91.5,  93. ,  94.5,  96. ,\n",
       "        97.5,  99. , 100.5, 102. , 103.5, 105. , 106.5, 108. , 109.5,\n",
       "       111. , 112.5, 114. , 115.5, 117. , 118.5, 120. , 121.5, 123. ,\n",
       "       124.5, 126. , 127.5, 129. , 130.5, 132. , 133.5, 135. , 136.5,\n",
       "       138. , 139.5, 141. , 142.5, 144. , 145.5, 147. , 148.5, 150. ,\n",
       "       151.5, 153. , 154.5, 156. , 157.5, 159. , 160.5, 162. , 163.5,\n",
       "       165. , 166.5, 168. , 169.5, 171. , 172.5, 174. , 175.5, 177. ,\n",
       "       178.5, 180. , 181.5, 183. , 184.5, 186. , 187.5, 189. , 190.5,\n",
       "       192. , 193.5, 195. , 196.5, 198. , 199.5])"
      ]
     },
     "execution_count": 3,
     "metadata": {},
     "output_type": "execute_result"
    }
   ],
   "source": [
    "np.arange(3,200,1.5) #(start, end, step)"
   ]
  },
  {
   "cell_type": "markdown",
   "id": "8268d0e4",
   "metadata": {},
   "source": [
    "### Generate numbers in a interval"
   ]
  },
  {
   "cell_type": "code",
   "execution_count": 7,
   "id": "40d0b890",
   "metadata": {},
   "outputs": [
    {
     "data": {
      "text/plain": [
       "array([  0.        ,   1.01010101,   2.02020202,   3.03030303,\n",
       "         4.04040404,   5.05050505,   6.06060606,   7.07070707,\n",
       "         8.08080808,   9.09090909,  10.1010101 ,  11.11111111,\n",
       "        12.12121212,  13.13131313,  14.14141414,  15.15151515,\n",
       "        16.16161616,  17.17171717,  18.18181818,  19.19191919,\n",
       "        20.2020202 ,  21.21212121,  22.22222222,  23.23232323,\n",
       "        24.24242424,  25.25252525,  26.26262626,  27.27272727,\n",
       "        28.28282828,  29.29292929,  30.3030303 ,  31.31313131,\n",
       "        32.32323232,  33.33333333,  34.34343434,  35.35353535,\n",
       "        36.36363636,  37.37373737,  38.38383838,  39.39393939,\n",
       "        40.4040404 ,  41.41414141,  42.42424242,  43.43434343,\n",
       "        44.44444444,  45.45454545,  46.46464646,  47.47474747,\n",
       "        48.48484848,  49.49494949,  50.50505051,  51.51515152,\n",
       "        52.52525253,  53.53535354,  54.54545455,  55.55555556,\n",
       "        56.56565657,  57.57575758,  58.58585859,  59.5959596 ,\n",
       "        60.60606061,  61.61616162,  62.62626263,  63.63636364,\n",
       "        64.64646465,  65.65656566,  66.66666667,  67.67676768,\n",
       "        68.68686869,  69.6969697 ,  70.70707071,  71.71717172,\n",
       "        72.72727273,  73.73737374,  74.74747475,  75.75757576,\n",
       "        76.76767677,  77.77777778,  78.78787879,  79.7979798 ,\n",
       "        80.80808081,  81.81818182,  82.82828283,  83.83838384,\n",
       "        84.84848485,  85.85858586,  86.86868687,  87.87878788,\n",
       "        88.88888889,  89.8989899 ,  90.90909091,  91.91919192,\n",
       "        92.92929293,  93.93939394,  94.94949495,  95.95959596,\n",
       "        96.96969697,  97.97979798,  98.98989899, 100.        ])"
      ]
     },
     "execution_count": 7,
     "metadata": {},
     "output_type": "execute_result"
    }
   ],
   "source": [
    "np.linspace(0,100,100)"
   ]
  },
  {
   "cell_type": "markdown",
   "id": "84fd20e0",
   "metadata": {},
   "source": [
    "### Generate random numbers"
   ]
  },
  {
   "cell_type": "code",
   "execution_count": 9,
   "id": "7147653c",
   "metadata": {},
   "outputs": [
    {
     "data": {
      "text/plain": [
       "array([0.08442131, 0.83774979, 0.96289465, 0.41570804, 0.62303393])"
      ]
     },
     "execution_count": 9,
     "metadata": {},
     "output_type": "execute_result"
    }
   ],
   "source": [
    "np.random.rand(5)"
   ]
  },
  {
   "cell_type": "markdown",
   "id": "fe816fa0",
   "metadata": {},
   "source": [
    "Generate distribution normal numbers"
   ]
  },
  {
   "cell_type": "code",
   "execution_count": 10,
   "id": "eca7619e",
   "metadata": {},
   "outputs": [
    {
     "data": {
      "text/plain": [
       "array([-2.16526832, -1.03236673, -0.17181051, -0.89047082, -0.36501966])"
      ]
     },
     "execution_count": 10,
     "metadata": {},
     "output_type": "execute_result"
    }
   ],
   "source": [
    "np.random.randn(5)"
   ]
  },
  {
   "cell_type": "markdown",
   "id": "7ef35546",
   "metadata": {},
   "source": [
    "Modify arrays"
   ]
  },
  {
   "cell_type": "markdown",
   "id": "5e2bd988",
   "metadata": {},
   "source": [
    "COncatenate numpy arrays"
   ]
  },
  {
   "cell_type": "code",
   "execution_count": 13,
   "id": "0914a9f5",
   "metadata": {},
   "outputs": [
    {
     "data": {
      "text/plain": [
       "array([1, 2, 3, 4, 5, 6, 7, 8, 9])"
      ]
     },
     "execution_count": 13,
     "metadata": {},
     "output_type": "execute_result"
    }
   ],
   "source": [
    "np.concatenate(([1,2,3],[4,5,6],[7,8,9]))"
   ]
  },
  {
   "cell_type": "code",
   "execution_count": null,
   "id": "6184d8de",
   "metadata": {},
   "outputs": [],
   "source": []
  },
  {
   "cell_type": "markdown",
   "id": "72b520bb",
   "metadata": {},
   "source": [
    "Insert a element in end of numpy array"
   ]
  },
  {
   "cell_type": "code",
   "execution_count": 15,
   "id": "e6b7bc14",
   "metadata": {},
   "outputs": [],
   "source": [
    "x = np.array([[1,2,3,4],[5,6,7,8]])"
   ]
  },
  {
   "cell_type": "code",
   "execution_count": 18,
   "id": "5a6f7465",
   "metadata": {},
   "outputs": [],
   "source": [
    "?np.insert"
   ]
  },
  {
   "cell_type": "markdown",
   "id": "44c0092e",
   "metadata": {},
   "source": [
    "### Array Operations"
   ]
  },
  {
   "cell_type": "markdown",
   "id": "88a49670",
   "metadata": {},
   "source": [
    "### Array"
   ]
  }
 ],
 "metadata": {
  "kernelspec": {
   "display_name": "Python 3 (ipykernel)",
   "language": "python",
   "name": "python3"
  },
  "language_info": {
   "codemirror_mode": {
    "name": "ipython",
    "version": 3
   },
   "file_extension": ".py",
   "mimetype": "text/x-python",
   "name": "python",
   "nbconvert_exporter": "python",
   "pygments_lexer": "ipython3",
   "version": "3.9.13"
  }
 },
 "nbformat": 4,
 "nbformat_minor": 5
}
