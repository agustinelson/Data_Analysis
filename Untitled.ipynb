{
 "cells": [
  {
   "cell_type": "code",
   "execution_count": 68,
   "id": "f68b64d7",
   "metadata": {},
   "outputs": [],
   "source": [
    "import numpy as np"
   ]
  },
  {
   "cell_type": "code",
   "execution_count": 69,
   "id": "d4daa758",
   "metadata": {},
   "outputs": [],
   "source": [
    "array = np.zeros((8,8))\n",
    "arraytranspose = np.zeros((8,8))"
   ]
  },
  {
   "cell_type": "code",
   "execution_count": 70,
   "id": "baf11821",
   "metadata": {},
   "outputs": [],
   "source": [
    "c = 1\n",
    "for i in range(len(array)):\n",
    "    for j in range(len(array)):\n",
    "        array[i,j]=c\n",
    "        arraytranspose[j, i]=c\n",
    "        c+=1    "
   ]
  },
  {
   "cell_type": "code",
   "execution_count": 71,
   "id": "3efe200b",
   "metadata": {},
   "outputs": [
    {
     "data": {
      "text/plain": [
       "array([[ 1.,  9., 17., 25., 33., 41., 49., 57.],\n",
       "       [ 2., 10., 18., 26., 34., 42., 50., 58.],\n",
       "       [ 3., 11., 19., 27., 35., 43., 51., 59.],\n",
       "       [ 4., 12., 20., 28., 36., 44., 52., 60.],\n",
       "       [ 5., 13., 21., 29., 37., 45., 53., 61.],\n",
       "       [ 6., 14., 22., 30., 38., 46., 54., 62.],\n",
       "       [ 7., 15., 23., 31., 39., 47., 55., 63.],\n",
       "       [ 8., 16., 24., 32., 40., 48., 56., 64.]])"
      ]
     },
     "execution_count": 71,
     "metadata": {},
     "output_type": "execute_result"
    }
   ],
   "source": [
    "arraytranspose"
   ]
  },
  {
   "cell_type": "code",
   "execution_count": 72,
   "id": "acbea798",
   "metadata": {},
   "outputs": [
    {
     "data": {
      "text/plain": [
       "array([[ 1.,  2.,  3.,  4.,  5.,  6.,  7.,  8.],\n",
       "       [ 9., 10., 11., 12., 13., 14., 15., 16.],\n",
       "       [17., 18., 19., 20., 21., 22., 23., 24.],\n",
       "       [25., 26., 27., 28., 29., 30., 31., 32.],\n",
       "       [33., 34., 35., 36., 37., 38., 39., 40.],\n",
       "       [41., 42., 43., 44., 45., 46., 47., 48.],\n",
       "       [49., 50., 51., 52., 53., 54., 55., 56.],\n",
       "       [57., 58., 59., 60., 61., 62., 63., 64.]])"
      ]
     },
     "execution_count": 72,
     "metadata": {},
     "output_type": "execute_result"
    }
   ],
   "source": [
    "array"
   ]
  },
  {
   "cell_type": "code",
   "execution_count": 73,
   "id": "32c24044",
   "metadata": {},
   "outputs": [],
   "source": [
    "arraytranspose[((arraytranspose-3)%10==0) + (arraytranspose<40)* (arraytranspose>29)]=-99"
   ]
  },
  {
   "cell_type": "code",
   "execution_count": 75,
   "id": "c43846e7",
   "metadata": {},
   "outputs": [
    {
     "data": {
      "text/plain": [
       "array([[  1.,   9.,  17.,  25., -99.,  41.,  49.,  57.],\n",
       "       [  2.,  10.,  18.,  26., -99.,  42.,  50.,  58.],\n",
       "       [-99.,  11.,  19.,  27., -99., -99.,  51.,  59.],\n",
       "       [  4.,  12.,  20.,  28., -99.,  44.,  52.,  60.],\n",
       "       [  5., -99.,  21.,  29., -99.,  45., -99.,  61.],\n",
       "       [  6.,  14.,  22., -99., -99.,  46.,  54.,  62.],\n",
       "       [  7.,  15., -99., -99., -99.,  47.,  55., -99.],\n",
       "       [  8.,  16.,  24., -99.,  40.,  48.,  56.,  64.]])"
      ]
     },
     "execution_count": 75,
     "metadata": {},
     "output_type": "execute_result"
    }
   ],
   "source": [
    "arraytranspose"
   ]
  },
  {
   "cell_type": "code",
   "execution_count": 53,
   "id": "7bf4ed45",
   "metadata": {},
   "outputs": [
    {
     "ename": "ValueError",
     "evalue": "operands could not be broadcast together with shapes (35,) (39,) ",
     "output_type": "error",
     "traceback": [
      "\u001b[0;31m---------------------------------------------------------------------------\u001b[0m",
      "\u001b[0;31mValueError\u001b[0m                                Traceback (most recent call last)",
      "\u001b[0;32m/tmp/ipykernel_374/1157450477.py\u001b[0m in \u001b[0;36m<module>\u001b[0;34m\u001b[0m\n\u001b[0;32m----> 1\u001b[0;31m \u001b[0;34m(\u001b[0m\u001b[0marray\u001b[0m\u001b[0;34m[\u001b[0m\u001b[0;36m29\u001b[0m\u001b[0;34m<\u001b[0m\u001b[0marray\u001b[0m\u001b[0;34m]\u001b[0m\u001b[0;34m)\u001b[0m\u001b[0;34m*\u001b[0m\u001b[0;34m(\u001b[0m\u001b[0marray\u001b[0m\u001b[0;34m[\u001b[0m\u001b[0marray\u001b[0m\u001b[0;34m<\u001b[0m\u001b[0;36m40\u001b[0m\u001b[0;34m]\u001b[0m\u001b[0;34m)\u001b[0m\u001b[0;34m\u001b[0m\u001b[0;34m\u001b[0m\u001b[0m\n\u001b[0m",
      "\u001b[0;31mValueError\u001b[0m: operands could not be broadcast together with shapes (35,) (39,) "
     ]
    }
   ],
   "source": [
    "(array[29<array])*(array[array<40])"
   ]
  },
  {
   "cell_type": "code",
   "execution_count": 57,
   "id": "704585ac",
   "metadata": {},
   "outputs": [
    {
     "data": {
      "text/plain": [
       "array([[False, False, False, False, False, False, False, False],\n",
       "       [False, False, False, False, False, False, False, False],\n",
       "       [False, False, False, False, False, False, False, False],\n",
       "       [False, False, False, False, False,  True,  True,  True],\n",
       "       [ True,  True,  True,  True,  True,  True,  True, False],\n",
       "       [False, False, False, False, False, False, False, False],\n",
       "       [False, False, False, False, False, False, False, False],\n",
       "       [False, False, False, False, False, False, False, False]])"
      ]
     },
     "execution_count": 57,
     "metadata": {},
     "output_type": "execute_result"
    }
   ],
   "source": [
    "(array<40)* (array>29)"
   ]
  }
 ],
 "metadata": {
  "kernelspec": {
   "display_name": "Python 3 (ipykernel)",
   "language": "python",
   "name": "python3"
  },
  "language_info": {
   "codemirror_mode": {
    "name": "ipython",
    "version": 3
   },
   "file_extension": ".py",
   "mimetype": "text/x-python",
   "name": "python",
   "nbconvert_exporter": "python",
   "pygments_lexer": "ipython3",
   "version": "3.9.13"
  }
 },
 "nbformat": 4,
 "nbformat_minor": 5
}
