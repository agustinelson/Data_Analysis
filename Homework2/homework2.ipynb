{
  "nbformat": 4,
  "nbformat_minor": 0,
  "metadata": {
    "colab": {
      "provenance": [],
      "authorship_tag": "ABX9TyOomORarET62Ki0t7zxEMLo",
      "include_colab_link": true
    },
    "kernelspec": {
      "name": "python3",
      "display_name": "Python 3"
    },
    "language_info": {
      "name": "python"
    }
  },
  "cells": [
    {
      "cell_type": "markdown",
      "metadata": {
        "id": "view-in-github",
        "colab_type": "text"
      },
      "source": [
        "<a href=\"https://colab.research.google.com/github/agustinelson/Data_Analysis/blob/main/Homework2/homework2.ipynb\" target=\"_parent\"><img src=\"https://colab.research.google.com/assets/colab-badge.svg\" alt=\"Open In Colab\"/></a>"
      ]
    },
    {
      "cell_type": "code",
      "execution_count": null,
      "metadata": {
        "id": "SWGyTuIKFOmb"
      },
      "outputs": [],
      "source": [
        "Tarea 2\n",
        "Buscar dataset con datos de los diferentes estados de México.\n",
        "\n",
        "En caso que sea necesario:\n",
        "\n",
        "Quitar NaNs\n",
        "Cambiar tipo de dato\n",
        "Reestructurar\n",
        "Graficar con Seaborn (pairplot, violinplot, heatmap), utilizando en al menos una gráfica 'hue'.\n",
        "\n",
        "Hacer mapa coroplético."
      ]
    },
    {
      "cell_type": "code",
      "source": [
        "import pandas as pd\n",
        "\n",
        "# Cargar el dataset\n",
        "df = pd.read_csv('estadisticas_proposito_agua_2021.csv', encoding='latin-1')\n",
        "\n",
        "# Eliminar filas con valores nulos\n",
        "df = df.dropna()\n",
        "\n",
        "# Cambiar el tipo de dato de la columna 'nombre_estado' a 'category'\n",
        "df['nombre_estado'] = df['nombre_estado'].astype('category')\n",
        "\n",
        "# Reestructurar los datos utilizando el método 'pivot'\n",
        "df_pivot = df.pivot(index='nombre_estado', columns='variable', values='valor')\n",
        "\n",
        "# Graficar los datos con Seaborn\n",
        "import seaborn as sns\n",
        "\n",
        "# Pairplot con la variable 'nombre_estado' como 'hue'\n",
        "sns.pairplot(df_pivot, hue='nombre_estado')\n",
        "\n",
        "# Violinplot con la variable 'nombre_estado' como 'hue'\n",
        "sns.violinplot(x='variable', y='valor', data=df, hue='nombre_estado')\n",
        "\n",
        "# Heatmap\n",
        "sns.heatmap(df_pivot, cmap='coolwarm')\n",
        "\n",
        "# Crear un mapa coroplético utilizando Geopandas\n",
        "import geopandas as gpd\n",
        "\n",
        "# Cargar el shapefile de los estados de México\n",
        "mexico = gpd.read_file('conjunto_de_datos/areas_geoestadisticas_estatales.shp')\n",
        "\n",
        "# Fusionar los datos del DataFrame con los datos geográficos\n",
        "merged_data = mexico.merge(df_pivot, left_on='CVE_ENT', right_index=True)\n",
        "\n",
        "# Crear el mapa coroplético\n",
        "merged_data.plot(column='valor', cmap='coolwarm', legend=True)\n"
      ],
      "metadata": {
        "id": "0BQO4nM_GdrJ"
      },
      "execution_count": null,
      "outputs": []
    }
  ]
}